{
 "cells": [
  {
   "cell_type": "code",
   "execution_count": 1,
   "metadata": {},
   "outputs": [
    {
     "name": "stdout",
     "output_type": "stream",
     "text": [
      "[('\\n        2/14/2018\\n    ', \"They're quite accommodating when it comes to reservations. I booked Wednesday night, and was able to change it to Thursday night. Their ambience was fancy and grand with the wide use of mirrors. Also, try their restrooms. Somewhat odd and modern designs.Now, let's get to the dishes. For a restaurant with almost 2000 reviews of 4-star, I felt underwhelmed. The free cookies were great with the dip, but the real appetizer and entrees were unimpressive. The Brussels Sprouts were a little burn on their own. It could be a great dish if it were not burned a lot. The same goes to the scallop. Definitely fresh ingredients, but a little over-cooked on one side. My CITRUS TROUT was bland with lots of spice visually. Maybe it's a hit or miss restaurant. But that night, it was a miss. :( I won't be back.\"), ('\\n        3/18/2018\\n            \\n\\n\\n\\n\\n\\nUpdated review\\n\\n', \"They're quite accommodating when it comes to reservations. I booked Wednesday night, and was able to change it to Thursday night. Their ambience was fancy and grand with the wide use of mirrors. Also, try their restrooms. Somewhat odd and modern designs.Now, let's get to the dishes. For a restaurant with almost 2000 reviews of 4-star, I felt underwhelmed. The free cookies were great with the dip, but the real appetizer and entrees were unimpressive. The Brussels Sprouts were a little burn on their own. It could be a great dish if it were not burned a lot. The same goes to the scallop. Definitely fresh ingredients, but a little over-cooked on one side. My CITRUS TROUT was bland with lots of spice visually. Maybe it's a hit or miss restaurant. But that night, it was a miss. :( I won't be back.\"), ('\\n        3/7/2018\\n    ', \"They're quite accommodating when it comes to reservations. I booked Wednesday night, and was able to change it to Thursday night. Their ambience was fancy and grand with the wide use of mirrors. Also, try their restrooms. Somewhat odd and modern designs.Now, let's get to the dishes. For a restaurant with almost 2000 reviews of 4-star, I felt underwhelmed. The free cookies were great with the dip, but the real appetizer and entrees were unimpressive. The Brussels Sprouts were a little burn on their own. It could be a great dish if it were not burned a lot. The same goes to the scallop. Definitely fresh ingredients, but a little over-cooked on one side. My CITRUS TROUT was bland with lots of spice visually. Maybe it's a hit or miss restaurant. But that night, it was a miss. :( I won't be back.\"), ('\\n        3/5/2018\\n    ', \"They're quite accommodating when it comes to reservations. I booked Wednesday night, and was able to change it to Thursday night. Their ambience was fancy and grand with the wide use of mirrors. Also, try their restrooms. Somewhat odd and modern designs.Now, let's get to the dishes. For a restaurant with almost 2000 reviews of 4-star, I felt underwhelmed. The free cookies were great with the dip, but the real appetizer and entrees were unimpressive. The Brussels Sprouts were a little burn on their own. It could be a great dish if it were not burned a lot. The same goes to the scallop. Definitely fresh ingredients, but a little over-cooked on one side. My CITRUS TROUT was bland with lots of spice visually. Maybe it's a hit or miss restaurant. But that night, it was a miss. :( I won't be back.\"), ('\\n        2/20/2018\\n    ', \"They're quite accommodating when it comes to reservations. I booked Wednesday night, and was able to change it to Thursday night. Their ambience was fancy and grand with the wide use of mirrors. Also, try their restrooms. Somewhat odd and modern designs.Now, let's get to the dishes. For a restaurant with almost 2000 reviews of 4-star, I felt underwhelmed. The free cookies were great with the dip, but the real appetizer and entrees were unimpressive. The Brussels Sprouts were a little burn on their own. It could be a great dish if it were not burned a lot. The same goes to the scallop. Definitely fresh ingredients, but a little over-cooked on one side. My CITRUS TROUT was bland with lots of spice visually. Maybe it's a hit or miss restaurant. But that night, it was a miss. :( I won't be back.\"), ('\\n        2/26/2018\\n    ', \"They're quite accommodating when it comes to reservations. I booked Wednesday night, and was able to change it to Thursday night. Their ambience was fancy and grand with the wide use of mirrors. Also, try their restrooms. Somewhat odd and modern designs.Now, let's get to the dishes. For a restaurant with almost 2000 reviews of 4-star, I felt underwhelmed. The free cookies were great with the dip, but the real appetizer and entrees were unimpressive. The Brussels Sprouts were a little burn on their own. It could be a great dish if it were not burned a lot. The same goes to the scallop. Definitely fresh ingredients, but a little over-cooked on one side. My CITRUS TROUT was bland with lots of spice visually. Maybe it's a hit or miss restaurant. But that night, it was a miss. :( I won't be back.\"), ('\\n        2/11/2018\\n    ', \"They're quite accommodating when it comes to reservations. I booked Wednesday night, and was able to change it to Thursday night. Their ambience was fancy and grand with the wide use of mirrors. Also, try their restrooms. Somewhat odd and modern designs.Now, let's get to the dishes. For a restaurant with almost 2000 reviews of 4-star, I felt underwhelmed. The free cookies were great with the dip, but the real appetizer and entrees were unimpressive. The Brussels Sprouts were a little burn on their own. It could be a great dish if it were not burned a lot. The same goes to the scallop. Definitely fresh ingredients, but a little over-cooked on one side. My CITRUS TROUT was bland with lots of spice visually. Maybe it's a hit or miss restaurant. But that night, it was a miss. :( I won't be back.\"), ('\\n        2/18/2018\\n    ', \"They're quite accommodating when it comes to reservations. I booked Wednesday night, and was able to change it to Thursday night. Their ambience was fancy and grand with the wide use of mirrors. Also, try their restrooms. Somewhat odd and modern designs.Now, let's get to the dishes. For a restaurant with almost 2000 reviews of 4-star, I felt underwhelmed. The free cookies were great with the dip, but the real appetizer and entrees were unimpressive. The Brussels Sprouts were a little burn on their own. It could be a great dish if it were not burned a lot. The same goes to the scallop. Definitely fresh ingredients, but a little over-cooked on one side. My CITRUS TROUT was bland with lots of spice visually. Maybe it's a hit or miss restaurant. But that night, it was a miss. :( I won't be back.\"), ('\\n        11/12/2017\\n    ', \"They're quite accommodating when it comes to reservations. I booked Wednesday night, and was able to change it to Thursday night. Their ambience was fancy and grand with the wide use of mirrors. Also, try their restrooms. Somewhat odd and modern designs.Now, let's get to the dishes. For a restaurant with almost 2000 reviews of 4-star, I felt underwhelmed. The free cookies were great with the dip, but the real appetizer and entrees were unimpressive. The Brussels Sprouts were a little burn on their own. It could be a great dish if it were not burned a lot. The same goes to the scallop. Definitely fresh ingredients, but a little over-cooked on one side. My CITRUS TROUT was bland with lots of spice visually. Maybe it's a hit or miss restaurant. But that night, it was a miss. :( I won't be back.\"), ('\\n        2/10/2018\\n    ', \"They're quite accommodating when it comes to reservations. I booked Wednesday night, and was able to change it to Thursday night. Their ambience was fancy and grand with the wide use of mirrors. Also, try their restrooms. Somewhat odd and modern designs.Now, let's get to the dishes. For a restaurant with almost 2000 reviews of 4-star, I felt underwhelmed. The free cookies were great with the dip, but the real appetizer and entrees were unimpressive. The Brussels Sprouts were a little burn on their own. It could be a great dish if it were not burned a lot. The same goes to the scallop. Definitely fresh ingredients, but a little over-cooked on one side. My CITRUS TROUT was bland with lots of spice visually. Maybe it's a hit or miss restaurant. But that night, it was a miss. :( I won't be back.\"), ('\\n        1/26/2018\\n    ', \"They're quite accommodating when it comes to reservations. I booked Wednesday night, and was able to change it to Thursday night. Their ambience was fancy and grand with the wide use of mirrors. Also, try their restrooms. Somewhat odd and modern designs.Now, let's get to the dishes. For a restaurant with almost 2000 reviews of 4-star, I felt underwhelmed. The free cookies were great with the dip, but the real appetizer and entrees were unimpressive. The Brussels Sprouts were a little burn on their own. It could be a great dish if it were not burned a lot. The same goes to the scallop. Definitely fresh ingredients, but a little over-cooked on one side. My CITRUS TROUT was bland with lots of spice visually. Maybe it's a hit or miss restaurant. But that night, it was a miss. :( I won't be back.\"), ('\\n        11/12/2017\\n    ', \"They're quite accommodating when it comes to reservations. I booked Wednesday night, and was able to change it to Thursday night. Their ambience was fancy and grand with the wide use of mirrors. Also, try their restrooms. Somewhat odd and modern designs.Now, let's get to the dishes. For a restaurant with almost 2000 reviews of 4-star, I felt underwhelmed. The free cookies were great with the dip, but the real appetizer and entrees were unimpressive. The Brussels Sprouts were a little burn on their own. It could be a great dish if it were not burned a lot. The same goes to the scallop. Definitely fresh ingredients, but a little over-cooked on one side. My CITRUS TROUT was bland with lots of spice visually. Maybe it's a hit or miss restaurant. But that night, it was a miss. :( I won't be back.\"), ('\\n        2/18/2018\\n    ', \"They're quite accommodating when it comes to reservations. I booked Wednesday night, and was able to change it to Thursday night. Their ambience was fancy and grand with the wide use of mirrors. Also, try their restrooms. Somewhat odd and modern designs.Now, let's get to the dishes. For a restaurant with almost 2000 reviews of 4-star, I felt underwhelmed. The free cookies were great with the dip, but the real appetizer and entrees were unimpressive. The Brussels Sprouts were a little burn on their own. It could be a great dish if it were not burned a lot. The same goes to the scallop. Definitely fresh ingredients, but a little over-cooked on one side. My CITRUS TROUT was bland with lots of spice visually. Maybe it's a hit or miss restaurant. But that night, it was a miss. :( I won't be back.\"), ('\\n        1/28/2018\\n    ', \"They're quite accommodating when it comes to reservations. I booked Wednesday night, and was able to change it to Thursday night. Their ambience was fancy and grand with the wide use of mirrors. Also, try their restrooms. Somewhat odd and modern designs.Now, let's get to the dishes. For a restaurant with almost 2000 reviews of 4-star, I felt underwhelmed. The free cookies were great with the dip, but the real appetizer and entrees were unimpressive. The Brussels Sprouts were a little burn on their own. It could be a great dish if it were not burned a lot. The same goes to the scallop. Definitely fresh ingredients, but a little over-cooked on one side. My CITRUS TROUT was bland with lots of spice visually. Maybe it's a hit or miss restaurant. But that night, it was a miss. :( I won't be back.\"), ('\\n        3/20/2018\\n    ', \"They're quite accommodating when it comes to reservations. I booked Wednesday night, and was able to change it to Thursday night. Their ambience was fancy and grand with the wide use of mirrors. Also, try their restrooms. Somewhat odd and modern designs.Now, let's get to the dishes. For a restaurant with almost 2000 reviews of 4-star, I felt underwhelmed. The free cookies were great with the dip, but the real appetizer and entrees were unimpressive. The Brussels Sprouts were a little burn on their own. It could be a great dish if it were not burned a lot. The same goes to the scallop. Definitely fresh ingredients, but a little over-cooked on one side. My CITRUS TROUT was bland with lots of spice visually. Maybe it's a hit or miss restaurant. But that night, it was a miss. :( I won't be back.\"), ('\\n        1/27/2018\\n    ', \"They're quite accommodating when it comes to reservations. I booked Wednesday night, and was able to change it to Thursday night. Their ambience was fancy and grand with the wide use of mirrors. Also, try their restrooms. Somewhat odd and modern designs.Now, let's get to the dishes. For a restaurant with almost 2000 reviews of 4-star, I felt underwhelmed. The free cookies were great with the dip, but the real appetizer and entrees were unimpressive. The Brussels Sprouts were a little burn on their own. It could be a great dish if it were not burned a lot. The same goes to the scallop. Definitely fresh ingredients, but a little over-cooked on one side. My CITRUS TROUT was bland with lots of spice visually. Maybe it's a hit or miss restaurant. But that night, it was a miss. :( I won't be back.\"), ('\\n        3/18/2018\\n    ', \"They're quite accommodating when it comes to reservations. I booked Wednesday night, and was able to change it to Thursday night. Their ambience was fancy and grand with the wide use of mirrors. Also, try their restrooms. Somewhat odd and modern designs.Now, let's get to the dishes. For a restaurant with almost 2000 reviews of 4-star, I felt underwhelmed. The free cookies were great with the dip, but the real appetizer and entrees were unimpressive. The Brussels Sprouts were a little burn on their own. It could be a great dish if it were not burned a lot. The same goes to the scallop. Definitely fresh ingredients, but a little over-cooked on one side. My CITRUS TROUT was bland with lots of spice visually. Maybe it's a hit or miss restaurant. But that night, it was a miss. :( I won't be back.\"), ('\\n        1/18/2018\\n    ', \"They're quite accommodating when it comes to reservations. I booked Wednesday night, and was able to change it to Thursday night. Their ambience was fancy and grand with the wide use of mirrors. Also, try their restrooms. Somewhat odd and modern designs.Now, let's get to the dishes. For a restaurant with almost 2000 reviews of 4-star, I felt underwhelmed. The free cookies were great with the dip, but the real appetizer and entrees were unimpressive. The Brussels Sprouts were a little burn on their own. It could be a great dish if it were not burned a lot. The same goes to the scallop. Definitely fresh ingredients, but a little over-cooked on one side. My CITRUS TROUT was bland with lots of spice visually. Maybe it's a hit or miss restaurant. But that night, it was a miss. :( I won't be back.\"), ('\\n        1/28/2018\\n    ', \"They're quite accommodating when it comes to reservations. I booked Wednesday night, and was able to change it to Thursday night. Their ambience was fancy and grand with the wide use of mirrors. Also, try their restrooms. Somewhat odd and modern designs.Now, let's get to the dishes. For a restaurant with almost 2000 reviews of 4-star, I felt underwhelmed. The free cookies were great with the dip, but the real appetizer and entrees were unimpressive. The Brussels Sprouts were a little burn on their own. It could be a great dish if it were not burned a lot. The same goes to the scallop. Definitely fresh ingredients, but a little over-cooked on one side. My CITRUS TROUT was bland with lots of spice visually. Maybe it's a hit or miss restaurant. But that night, it was a miss. :( I won't be back.\"), ('\\n        10/3/2017\\n    ', \"They're quite accommodating when it comes to reservations. I booked Wednesday night, and was able to change it to Thursday night. Their ambience was fancy and grand with the wide use of mirrors. Also, try their restrooms. Somewhat odd and modern designs.Now, let's get to the dishes. For a restaurant with almost 2000 reviews of 4-star, I felt underwhelmed. The free cookies were great with the dip, but the real appetizer and entrees were unimpressive. The Brussels Sprouts were a little burn on their own. It could be a great dish if it were not burned a lot. The same goes to the scallop. Definitely fresh ingredients, but a little over-cooked on one side. My CITRUS TROUT was bland with lots of spice visually. Maybe it's a hit or miss restaurant. But that night, it was a miss. :( I won't be back.\")]\n"
     ]
    }
   ],
   "source": [
    "import requests                   \n",
    "\n",
    "from bs4 import BeautifulSoup \n",
    "\n",
    "page = requests.get(\"https://www.yelp.com/biz/ilili-new-york-2\")    # send a get request to the web page\n",
    "reivews=[ ]\n",
    "\n",
    "# status_code 200 indicates success. \n",
    "#a status code >200 indicates a failure \n",
    "if page.status_code==200:        \n",
    "    soup = BeautifulSoup(page.content, 'html.parser')\n",
    "    divs=soup.select(\"div#super-container div.container div.clearfix div.column div div.feed div.review-list ul.ylist li div.review div.review-wrapper div.review-content\")\n",
    "    \n",
    "    for idx,div in enumerate(divs):\n",
    "        desc = None\n",
    "      \n",
    "        # get date\n",
    "        p_date=div.select(\"div.biz-rating span.rating-qualifier\")\n",
    "        if p_date!=[]:\n",
    "            time = p_date[0].get_text()\n",
    "      \n",
    "        # get description\n",
    "        for div in divs:\n",
    "            div = div.select(\"p\")\n",
    "            for i in div:\n",
    "                desc = i.get_text()\n",
    "            \n",
    "        reivews.append((time,desc))\n",
    "    print(reivews)"
   ]
  },
  {
   "cell_type": "code",
   "execution_count": 68,
   "metadata": {
    "collapsed": true
   },
   "outputs": [],
   "source": [
    "#### sentiment analysis function #####\n",
    "\n",
    "def sentiment_analysis(text, positive_words, negative_words):\n",
    "    \n",
    "    sentiment=''\n",
    "    #set negations\n",
    "    negations=['not', 'too', 'n\\'t', 'no', 'cannot', 'neither','nor']\n",
    "    #using NLTK word tokenizer\n",
    "    tokens = nltk.word_tokenize(text.lower())\n",
    "    \n",
    "    token1 = [s for s in tokens if re.match(r'[^\\-_][a-zA-Z]*[\\-_]*[a-zA-Z]*[^\\-_]+$', s)]\n",
    "    #remove stop words\n",
    "    stop_words = stopwords.words('english')\n",
    "    token_select = [i for i in token1 if i not in stop_words]\n",
    "    \n",
    "    \n",
    "    #get positive words\n",
    "    positive_tokens=[]\n",
    "    for idx, token in enumerate(token_select):\n",
    "        if token in positive_words:\n",
    "            if idx>0:\n",
    "                if tokens[idx-1] not in negations:\n",
    "                    positive_tokens.append(token)\n",
    "            else:\n",
    "                positive_tokens.append(token)\n",
    "    #get negative words\n",
    "    negative_tokens=[]\n",
    "    for idx, token in enumerate(token_select):\n",
    "        if token in negative_words:\n",
    "            if idx>0:\n",
    "                if tokens[idx-1] not in negations:\n",
    "                    negative_tokens.append(token)\n",
    "            else:\n",
    "                negative_tokens.append(token)\n",
    "    #return sentiment\n",
    "    if len(positive_tokens)>len(negative_tokens):\n",
    "        sentiment='positive'\n",
    "    else:\n",
    "        sentiment='negative'\n",
    "    # write your code here\n",
    "    \n",
    "    return sentiment"
   ]
  },
  {
   "cell_type": "code",
   "execution_count": 18,
   "metadata": {},
   "outputs": [],
   "source": [
    "with open(\"positive-words.txt\",'r') as f:\n",
    "    positive_words=[line.strip() for line in f]\n",
    "        \n",
    "with open(\"negative-words.txt\",'r') as f:\n",
    "    negative_words=[line.strip() for line in f]\n",
    "        "
   ]
  },
  {
   "cell_type": "code",
   "execution_count": 2,
   "metadata": {
    "collapsed": true
   },
   "outputs": [],
   "source": [
    "import pandas as pd\n",
    "import numpy as np"
   ]
  },
  {
   "cell_type": "code",
   "execution_count": 32,
   "metadata": {},
   "outputs": [
    {
     "data": {
      "text/html": [
       "<div>\n",
       "<style>\n",
       "    .dataframe thead tr:only-child th {\n",
       "        text-align: right;\n",
       "    }\n",
       "\n",
       "    .dataframe thead th {\n",
       "        text-align: left;\n",
       "    }\n",
       "\n",
       "    .dataframe tbody tr th {\n",
       "        vertical-align: top;\n",
       "    }\n",
       "</style>\n",
       "<table border=\"1\" class=\"dataframe\">\n",
       "  <thead>\n",
       "    <tr style=\"text-align: right;\">\n",
       "      <th></th>\n",
       "      <th>date</th>\n",
       "      <th>star</th>\n",
       "      <th>review</th>\n",
       "      <th>name</th>\n",
       "    </tr>\n",
       "  </thead>\n",
       "  <tbody>\n",
       "    <tr>\n",
       "      <th>0</th>\n",
       "      <td>2/17/2018</td>\n",
       "      <td>3.0 star rating</td>\n",
       "      <td>First off I made reservations for 9:30, we cam...</td>\n",
       "      <td>ilili</td>\n",
       "    </tr>\n",
       "    <tr>\n",
       "      <th>1</th>\n",
       "      <td>2/14/2018</td>\n",
       "      <td>3.0 star rating</td>\n",
       "      <td>A nicer Mediterranean fusion place that actual...</td>\n",
       "      <td>ilili</td>\n",
       "    </tr>\n",
       "    <tr>\n",
       "      <th>2</th>\n",
       "      <td>2/14/2018</td>\n",
       "      <td>5.0 star rating</td>\n",
       "      <td>It's been a few years since I've dined at ilil...</td>\n",
       "      <td>ilili</td>\n",
       "    </tr>\n",
       "    <tr>\n",
       "      <th>3</th>\n",
       "      <td>2/11/2018</td>\n",
       "      <td>3.0 star rating</td>\n",
       "      <td>A girlfriend hosted her birthday dinner here w...</td>\n",
       "      <td>ilili</td>\n",
       "    </tr>\n",
       "    <tr>\n",
       "      <th>4</th>\n",
       "      <td>2/11/2018</td>\n",
       "      <td>4.0 star rating</td>\n",
       "      <td>A solid four star restaurant. We were so excit...</td>\n",
       "      <td>ilili</td>\n",
       "    </tr>\n",
       "  </tbody>\n",
       "</table>\n",
       "</div>"
      ],
      "text/plain": [
       "        date             star  \\\n",
       "0  2/17/2018  3.0 star rating   \n",
       "1  2/14/2018  3.0 star rating   \n",
       "2  2/14/2018  5.0 star rating   \n",
       "3  2/11/2018  3.0 star rating   \n",
       "4  2/11/2018  4.0 star rating   \n",
       "\n",
       "                                              review   name  \n",
       "0  First off I made reservations for 9:30, we cam...  ilili  \n",
       "1  A nicer Mediterranean fusion place that actual...  ilili  \n",
       "2  It's been a few years since I've dined at ilil...  ilili  \n",
       "3  A girlfriend hosted her birthday dinner here w...  ilili  \n",
       "4  A solid four star restaurant. We were so excit...  ilili  "
      ]
     },
     "execution_count": 32,
     "metadata": {},
     "output_type": "execute_result"
    },
    {
     "data": {
      "text/plain": [
       "array(['ilili', 'EN Japanese brasserie', 'Kingsley', 'neta',\n",
       "       'Gotham Bar and Grill', 'The Russian Tea Room', 'The Water Club',\n",
       "       'ABC Kitchen', 'The View Restaurant & Lounge',\n",
       "       'Nougatine at Jean-Georges', 'Delmonicos', 'Delmonicos Kitchen',\n",
       "       'Morimoto', 'Cafe Boulud', 'The Breslin', 'Ai Fiori', 'Aureole',\n",
       "       'Junoon', 'Casa Mono', 'David Burke Kitchen', 'Limani',\n",
       "       'Fig & Olive New York', 'Fig & Olive Meatpacking', 'Batard',\n",
       "       'Thalassa Restaurant', 'Fig & Olive Uptown', 'Perry Street',\n",
       "       'riverpark', 'The Library at The Public', 'Club A Steakhouse',\n",
       "       'Empire Steak House', 'The Capital Grille', 'DB Bistro Moderne',\n",
       "       'Nobu Downtown', 'STK Downtown', 'STK Midtown'], dtype=object)"
      ]
     },
     "execution_count": 32,
     "metadata": {},
     "output_type": "execute_result"
    }
   ],
   "source": [
    "rest_2018 = pd.read_csv('yelp_review.csv',encoding = 'ISO-8859-1')\n",
    "rest_2018.head()\n",
    "rest_2018['name'].unique()"
   ]
  },
  {
   "cell_type": "code",
   "execution_count": 22,
   "metadata": {},
   "outputs": [
    {
     "name": "stdout",
     "output_type": "stream",
     "text": [
      "\n",
      "sentiment analysis\n",
      "positive\n"
     ]
    }
   ],
   "source": [
    "from IPython.core.interactiveshell import InteractiveShell\n",
    "InteractiveShell.ast_node_interactivity = \"all\" \n",
    "import nltk\n",
    "import re\n",
    "from nltk.corpus import stopwords\n",
    "\n",
    "print(\"\\nsentiment analysis\")\n",
    "sentiment=sentiment_analysis(text, positive_words, negative_words)\n",
    "print(sentiment)"
   ]
  },
  {
   "cell_type": "code",
   "execution_count": 72,
   "metadata": {},
   "outputs": [],
   "source": [
    "# define get review function #\n",
    "def aggre_review(data,name):\n",
    "    s1=data.loc[data['name'] == name]\n",
    "    s2=s1.reset_index(drop=True)\n",
    "    string=''\n",
    "    for i in range(len(s2)):\n",
    "        str1=s2['review'][i]\n",
    "        string=string+str1\n",
    "    return string\n"
   ]
  },
  {
   "cell_type": "code",
   "execution_count": 74,
   "metadata": {},
   "outputs": [
    {
     "name": "stdout",
     "output_type": "stream",
     "text": [
      "['positive', 'positive', 'positive', 'positive', 'positive', 'positive', 'positive', 'positive', 'positive', 'positive', 'positive', 'positive', 'positive', 'positive', 'positive', 'positive', 'positive', 'positive', 'positive', 'positive', 'positive', 'positive', 'positive', 'positive', 'positive', 'positive', 'positive', 'positive', 'positive', 'positive', 'positive', 'positive', 'positive', 'positive', 'positive', 'positive']\n"
     ]
    }
   ],
   "source": [
    "total_name=list(set(rest_2018['name']))\n",
    "\n",
    "sentiment=[]\n",
    "for item in total_name:\n",
    "    text=aggre_review(rest_2018,item)\n",
    "    result=sentiment_analysis(text,positive_words,negative_words)\n",
    "    sentiment.append(result)\n",
    "print(sentiment)"
   ]
  },
  {
   "cell_type": "code",
   "execution_count": 75,
   "metadata": {},
   "outputs": [
    {
     "data": {
      "text/plain": [
       "36"
      ]
     },
     "execution_count": 75,
     "metadata": {},
     "output_type": "execute_result"
    }
   ],
   "source": [
    "len(sentiment)"
   ]
  },
  {
   "cell_type": "code",
   "execution_count": 76,
   "metadata": {
    "collapsed": true
   },
   "outputs": [],
   "source": [
    "######### 2017 ############"
   ]
  },
  {
   "cell_type": "code",
   "execution_count": 95,
   "metadata": {},
   "outputs": [
    {
     "data": {
      "text/html": [
       "<div>\n",
       "<style>\n",
       "    .dataframe thead tr:only-child th {\n",
       "        text-align: right;\n",
       "    }\n",
       "\n",
       "    .dataframe thead th {\n",
       "        text-align: left;\n",
       "    }\n",
       "\n",
       "    .dataframe tbody tr th {\n",
       "        vertical-align: top;\n",
       "    }\n",
       "</style>\n",
       "<table border=\"1\" class=\"dataframe\">\n",
       "  <thead>\n",
       "    <tr style=\"text-align: right;\">\n",
       "      <th></th>\n",
       "      <th>date</th>\n",
       "      <th>star</th>\n",
       "      <th>review</th>\n",
       "      <th>name</th>\n",
       "      <th>Unnamed: 4</th>\n",
       "      <th>Unnamed: 5</th>\n",
       "      <th>Unnamed: 6</th>\n",
       "    </tr>\n",
       "  </thead>\n",
       "  <tbody>\n",
       "    <tr>\n",
       "      <th>0</th>\n",
       "      <td>2/17/17</td>\n",
       "      <td>5.0 star rating</td>\n",
       "      <td>We had a 7:15 reservation and we were seated p...</td>\n",
       "      <td>ilili</td>\n",
       "      <td>NaN</td>\n",
       "      <td>NaN</td>\n",
       "      <td>NaN</td>\n",
       "    </tr>\n",
       "    <tr>\n",
       "      <th>1</th>\n",
       "      <td>2/16/17</td>\n",
       "      <td>4.0 star rating</td>\n",
       "      <td>After visiting NYC a couple months ago with my...</td>\n",
       "      <td>ilili</td>\n",
       "      <td>NaN</td>\n",
       "      <td>NaN</td>\n",
       "      <td>NaN</td>\n",
       "    </tr>\n",
       "    <tr>\n",
       "      <th>2</th>\n",
       "      <td>2/11/17</td>\n",
       "      <td>3.0 star rating</td>\n",
       "      <td>Overpriced and overhyped in my opinion. The fo...</td>\n",
       "      <td>ilili</td>\n",
       "      <td>NaN</td>\n",
       "      <td>NaN</td>\n",
       "      <td>NaN</td>\n",
       "    </tr>\n",
       "    <tr>\n",
       "      <th>3</th>\n",
       "      <td>2/4/17</td>\n",
       "      <td>3.0 star rating</td>\n",
       "      <td>Great food .. the staff could get friendlier t...</td>\n",
       "      <td>ilili</td>\n",
       "      <td>NaN</td>\n",
       "      <td>NaN</td>\n",
       "      <td>NaN</td>\n",
       "    </tr>\n",
       "    <tr>\n",
       "      <th>4</th>\n",
       "      <td>2/3/17</td>\n",
       "      <td>3.0 star rating</td>\n",
       "      <td>3.5 StarsIt's a beautiful, warmly lit restaura...</td>\n",
       "      <td>ilili</td>\n",
       "      <td>NaN</td>\n",
       "      <td>NaN</td>\n",
       "      <td>NaN</td>\n",
       "    </tr>\n",
       "  </tbody>\n",
       "</table>\n",
       "</div>"
      ],
      "text/plain": [
       "      date             star  \\\n",
       "0  2/17/17  5.0 star rating   \n",
       "1  2/16/17  4.0 star rating   \n",
       "2  2/11/17  3.0 star rating   \n",
       "3   2/4/17  3.0 star rating   \n",
       "4   2/3/17  3.0 star rating   \n",
       "\n",
       "                                              review   name Unnamed: 4  \\\n",
       "0  We had a 7:15 reservation and we were seated p...  ilili        NaN   \n",
       "1  After visiting NYC a couple months ago with my...  ilili        NaN   \n",
       "2  Overpriced and overhyped in my opinion. The fo...  ilili        NaN   \n",
       "3  Great food .. the staff could get friendlier t...  ilili        NaN   \n",
       "4  3.5 StarsIt's a beautiful, warmly lit restaura...  ilili        NaN   \n",
       "\n",
       "  Unnamed: 5 Unnamed: 6  \n",
       "0        NaN        NaN  \n",
       "1        NaN        NaN  \n",
       "2        NaN        NaN  \n",
       "3        NaN        NaN  \n",
       "4        NaN        NaN  "
      ]
     },
     "execution_count": 95,
     "metadata": {},
     "output_type": "execute_result"
    }
   ],
   "source": [
    "rest_2017 = pd.read_csv('yelp_review_2017_total.csv',encoding = 'ISO-8859-1')\n",
    "rest_2017.head()"
   ]
  },
  {
   "cell_type": "code",
   "execution_count": 96,
   "metadata": {},
   "outputs": [],
   "source": [
    "a=set(rest_2017['name'])"
   ]
  },
  {
   "cell_type": "code",
   "execution_count": 97,
   "metadata": {},
   "outputs": [
    {
     "data": {
      "text/plain": [
       "36"
      ]
     },
     "execution_count": 97,
     "metadata": {},
     "output_type": "execute_result"
    }
   ],
   "source": [
    "len(a)"
   ]
  },
  {
   "cell_type": "code",
   "execution_count": 98,
   "metadata": {
    "collapsed": true
   },
   "outputs": [],
   "source": [
    "total_name=list(set(rest_2017['name']))"
   ]
  },
  {
   "cell_type": "code",
   "execution_count": 99,
   "metadata": {},
   "outputs": [
    {
     "name": "stdout",
     "output_type": "stream",
     "text": [
      "['positive', 'positive', 'positive', 'positive', 'positive', 'positive', 'positive', 'positive', 'positive', 'positive', 'positive', 'positive', 'positive', 'positive', 'positive', 'positive', 'positive', 'positive', 'positive', 'positive', 'positive', 'positive', 'positive', 'positive', 'positive', 'positive', 'positive', 'positive', 'positive', 'positive', 'positive', 'positive', 'positive', 'positive', 'positive', 'positive']\n"
     ]
    }
   ],
   "source": [
    "sentiment=[]\n",
    "for item in total_name:\n",
    "    text=aggre_review(rest_2017,item)\n",
    "    result=sentiment_analysis(text,positive_words,negative_words)\n",
    "    sentiment.append(result)\n",
    "print(sentiment)"
   ]
  },
  {
   "cell_type": "code",
   "execution_count": null,
   "metadata": {
    "collapsed": true
   },
   "outputs": [],
   "source": []
  }
 ],
 "metadata": {
  "kernelspec": {
   "display_name": "Python 3",
   "language": "python",
   "name": "python3"
  },
  "language_info": {
   "codemirror_mode": {
    "name": "ipython",
    "version": 3
   },
   "file_extension": ".py",
   "mimetype": "text/x-python",
   "name": "python",
   "nbconvert_exporter": "python",
   "pygments_lexer": "ipython3",
   "version": "3.6.1"
  }
 },
 "nbformat": 4,
 "nbformat_minor": 2
}
