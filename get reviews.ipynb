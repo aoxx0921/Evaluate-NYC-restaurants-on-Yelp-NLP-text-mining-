{
 "cells": [
  {
   "cell_type": "markdown",
   "metadata": {},
   "source": [
    "# get ilili reviews"
   ]
  },
  {
   "cell_type": "code",
   "execution_count": 1,
   "metadata": {},
   "outputs": [
    {
     "name": "stdout",
     "output_type": "stream",
     "text": [
      "[('\\n        2/14/2018\\n    ', \"They're quite accommodating when it comes to reservations. I booked Wednesday night, and was able to change it to Thursday night. Their ambience was fancy and grand with the wide use of mirrors. Also, try their restrooms. Somewhat odd and modern designs.Now, let's get to the dishes. For a restaurant with almost 2000 reviews of 4-star, I felt underwhelmed. The free cookies were great with the dip, but the real appetizer and entrees were unimpressive. The Brussels Sprouts were a little burn on their own. It could be a great dish if it were not burned a lot. The same goes to the scallop. Definitely fresh ingredients, but a little over-cooked on one side. My CITRUS TROUT was bland with lots of spice visually. Maybe it's a hit or miss restaurant. But that night, it was a miss. :( I won't be back.\"), ('\\n        3/18/2018\\n            \\n\\n\\n\\n\\n\\nUpdated review\\n\\n', \"They're quite accommodating when it comes to reservations. I booked Wednesday night, and was able to change it to Thursday night. Their ambience was fancy and grand with the wide use of mirrors. Also, try their restrooms. Somewhat odd and modern designs.Now, let's get to the dishes. For a restaurant with almost 2000 reviews of 4-star, I felt underwhelmed. The free cookies were great with the dip, but the real appetizer and entrees were unimpressive. The Brussels Sprouts were a little burn on their own. It could be a great dish if it were not burned a lot. The same goes to the scallop. Definitely fresh ingredients, but a little over-cooked on one side. My CITRUS TROUT was bland with lots of spice visually. Maybe it's a hit or miss restaurant. But that night, it was a miss. :( I won't be back.\"), ('\\n        3/7/2018\\n    ', \"They're quite accommodating when it comes to reservations. I booked Wednesday night, and was able to change it to Thursday night. Their ambience was fancy and grand with the wide use of mirrors. Also, try their restrooms. Somewhat odd and modern designs.Now, let's get to the dishes. For a restaurant with almost 2000 reviews of 4-star, I felt underwhelmed. The free cookies were great with the dip, but the real appetizer and entrees were unimpressive. The Brussels Sprouts were a little burn on their own. It could be a great dish if it were not burned a lot. The same goes to the scallop. Definitely fresh ingredients, but a little over-cooked on one side. My CITRUS TROUT was bland with lots of spice visually. Maybe it's a hit or miss restaurant. But that night, it was a miss. :( I won't be back.\"), ('\\n        3/5/2018\\n    ', \"They're quite accommodating when it comes to reservations. I booked Wednesday night, and was able to change it to Thursday night. Their ambience was fancy and grand with the wide use of mirrors. Also, try their restrooms. Somewhat odd and modern designs.Now, let's get to the dishes. For a restaurant with almost 2000 reviews of 4-star, I felt underwhelmed. The free cookies were great with the dip, but the real appetizer and entrees were unimpressive. The Brussels Sprouts were a little burn on their own. It could be a great dish if it were not burned a lot. The same goes to the scallop. Definitely fresh ingredients, but a little over-cooked on one side. My CITRUS TROUT was bland with lots of spice visually. Maybe it's a hit or miss restaurant. But that night, it was a miss. :( I won't be back.\"), ('\\n        2/20/2018\\n    ', \"They're quite accommodating when it comes to reservations. I booked Wednesday night, and was able to change it to Thursday night. Their ambience was fancy and grand with the wide use of mirrors. Also, try their restrooms. Somewhat odd and modern designs.Now, let's get to the dishes. For a restaurant with almost 2000 reviews of 4-star, I felt underwhelmed. The free cookies were great with the dip, but the real appetizer and entrees were unimpressive. The Brussels Sprouts were a little burn on their own. It could be a great dish if it were not burned a lot. The same goes to the scallop. Definitely fresh ingredients, but a little over-cooked on one side. My CITRUS TROUT was bland with lots of spice visually. Maybe it's a hit or miss restaurant. But that night, it was a miss. :( I won't be back.\"), ('\\n        2/26/2018\\n    ', \"They're quite accommodating when it comes to reservations. I booked Wednesday night, and was able to change it to Thursday night. Their ambience was fancy and grand with the wide use of mirrors. Also, try their restrooms. Somewhat odd and modern designs.Now, let's get to the dishes. For a restaurant with almost 2000 reviews of 4-star, I felt underwhelmed. The free cookies were great with the dip, but the real appetizer and entrees were unimpressive. The Brussels Sprouts were a little burn on their own. It could be a great dish if it were not burned a lot. The same goes to the scallop. Definitely fresh ingredients, but a little over-cooked on one side. My CITRUS TROUT was bland with lots of spice visually. Maybe it's a hit or miss restaurant. But that night, it was a miss. :( I won't be back.\"), ('\\n        2/11/2018\\n    ', \"They're quite accommodating when it comes to reservations. I booked Wednesday night, and was able to change it to Thursday night. Their ambience was fancy and grand with the wide use of mirrors. Also, try their restrooms. Somewhat odd and modern designs.Now, let's get to the dishes. For a restaurant with almost 2000 reviews of 4-star, I felt underwhelmed. The free cookies were great with the dip, but the real appetizer and entrees were unimpressive. The Brussels Sprouts were a little burn on their own. It could be a great dish if it were not burned a lot. The same goes to the scallop. Definitely fresh ingredients, but a little over-cooked on one side. My CITRUS TROUT was bland with lots of spice visually. Maybe it's a hit or miss restaurant. But that night, it was a miss. :( I won't be back.\"), ('\\n        2/18/2018\\n    ', \"They're quite accommodating when it comes to reservations. I booked Wednesday night, and was able to change it to Thursday night. Their ambience was fancy and grand with the wide use of mirrors. Also, try their restrooms. Somewhat odd and modern designs.Now, let's get to the dishes. For a restaurant with almost 2000 reviews of 4-star, I felt underwhelmed. The free cookies were great with the dip, but the real appetizer and entrees were unimpressive. The Brussels Sprouts were a little burn on their own. It could be a great dish if it were not burned a lot. The same goes to the scallop. Definitely fresh ingredients, but a little over-cooked on one side. My CITRUS TROUT was bland with lots of spice visually. Maybe it's a hit or miss restaurant. But that night, it was a miss. :( I won't be back.\"), ('\\n        11/12/2017\\n    ', \"They're quite accommodating when it comes to reservations. I booked Wednesday night, and was able to change it to Thursday night. Their ambience was fancy and grand with the wide use of mirrors. Also, try their restrooms. Somewhat odd and modern designs.Now, let's get to the dishes. For a restaurant with almost 2000 reviews of 4-star, I felt underwhelmed. The free cookies were great with the dip, but the real appetizer and entrees were unimpressive. The Brussels Sprouts were a little burn on their own. It could be a great dish if it were not burned a lot. The same goes to the scallop. Definitely fresh ingredients, but a little over-cooked on one side. My CITRUS TROUT was bland with lots of spice visually. Maybe it's a hit or miss restaurant. But that night, it was a miss. :( I won't be back.\"), ('\\n        2/10/2018\\n    ', \"They're quite accommodating when it comes to reservations. I booked Wednesday night, and was able to change it to Thursday night. Their ambience was fancy and grand with the wide use of mirrors. Also, try their restrooms. Somewhat odd and modern designs.Now, let's get to the dishes. For a restaurant with almost 2000 reviews of 4-star, I felt underwhelmed. The free cookies were great with the dip, but the real appetizer and entrees were unimpressive. The Brussels Sprouts were a little burn on their own. It could be a great dish if it were not burned a lot. The same goes to the scallop. Definitely fresh ingredients, but a little over-cooked on one side. My CITRUS TROUT was bland with lots of spice visually. Maybe it's a hit or miss restaurant. But that night, it was a miss. :( I won't be back.\"), ('\\n        1/26/2018\\n    ', \"They're quite accommodating when it comes to reservations. I booked Wednesday night, and was able to change it to Thursday night. Their ambience was fancy and grand with the wide use of mirrors. Also, try their restrooms. Somewhat odd and modern designs.Now, let's get to the dishes. For a restaurant with almost 2000 reviews of 4-star, I felt underwhelmed. The free cookies were great with the dip, but the real appetizer and entrees were unimpressive. The Brussels Sprouts were a little burn on their own. It could be a great dish if it were not burned a lot. The same goes to the scallop. Definitely fresh ingredients, but a little over-cooked on one side. My CITRUS TROUT was bland with lots of spice visually. Maybe it's a hit or miss restaurant. But that night, it was a miss. :( I won't be back.\"), ('\\n        11/12/2017\\n    ', \"They're quite accommodating when it comes to reservations. I booked Wednesday night, and was able to change it to Thursday night. Their ambience was fancy and grand with the wide use of mirrors. Also, try their restrooms. Somewhat odd and modern designs.Now, let's get to the dishes. For a restaurant with almost 2000 reviews of 4-star, I felt underwhelmed. The free cookies were great with the dip, but the real appetizer and entrees were unimpressive. The Brussels Sprouts were a little burn on their own. It could be a great dish if it were not burned a lot. The same goes to the scallop. Definitely fresh ingredients, but a little over-cooked on one side. My CITRUS TROUT was bland with lots of spice visually. Maybe it's a hit or miss restaurant. But that night, it was a miss. :( I won't be back.\"), ('\\n        2/18/2018\\n    ', \"They're quite accommodating when it comes to reservations. I booked Wednesday night, and was able to change it to Thursday night. Their ambience was fancy and grand with the wide use of mirrors. Also, try their restrooms. Somewhat odd and modern designs.Now, let's get to the dishes. For a restaurant with almost 2000 reviews of 4-star, I felt underwhelmed. The free cookies were great with the dip, but the real appetizer and entrees were unimpressive. The Brussels Sprouts were a little burn on their own. It could be a great dish if it were not burned a lot. The same goes to the scallop. Definitely fresh ingredients, but a little over-cooked on one side. My CITRUS TROUT was bland with lots of spice visually. Maybe it's a hit or miss restaurant. But that night, it was a miss. :( I won't be back.\"), ('\\n        1/28/2018\\n    ', \"They're quite accommodating when it comes to reservations. I booked Wednesday night, and was able to change it to Thursday night. Their ambience was fancy and grand with the wide use of mirrors. Also, try their restrooms. Somewhat odd and modern designs.Now, let's get to the dishes. For a restaurant with almost 2000 reviews of 4-star, I felt underwhelmed. The free cookies were great with the dip, but the real appetizer and entrees were unimpressive. The Brussels Sprouts were a little burn on their own. It could be a great dish if it were not burned a lot. The same goes to the scallop. Definitely fresh ingredients, but a little over-cooked on one side. My CITRUS TROUT was bland with lots of spice visually. Maybe it's a hit or miss restaurant. But that night, it was a miss. :( I won't be back.\"), ('\\n        3/20/2018\\n    ', \"They're quite accommodating when it comes to reservations. I booked Wednesday night, and was able to change it to Thursday night. Their ambience was fancy and grand with the wide use of mirrors. Also, try their restrooms. Somewhat odd and modern designs.Now, let's get to the dishes. For a restaurant with almost 2000 reviews of 4-star, I felt underwhelmed. The free cookies were great with the dip, but the real appetizer and entrees were unimpressive. The Brussels Sprouts were a little burn on their own. It could be a great dish if it were not burned a lot. The same goes to the scallop. Definitely fresh ingredients, but a little over-cooked on one side. My CITRUS TROUT was bland with lots of spice visually. Maybe it's a hit or miss restaurant. But that night, it was a miss. :( I won't be back.\"), ('\\n        1/27/2018\\n    ', \"They're quite accommodating when it comes to reservations. I booked Wednesday night, and was able to change it to Thursday night. Their ambience was fancy and grand with the wide use of mirrors. Also, try their restrooms. Somewhat odd and modern designs.Now, let's get to the dishes. For a restaurant with almost 2000 reviews of 4-star, I felt underwhelmed. The free cookies were great with the dip, but the real appetizer and entrees were unimpressive. The Brussels Sprouts were a little burn on their own. It could be a great dish if it were not burned a lot. The same goes to the scallop. Definitely fresh ingredients, but a little over-cooked on one side. My CITRUS TROUT was bland with lots of spice visually. Maybe it's a hit or miss restaurant. But that night, it was a miss. :( I won't be back.\"), ('\\n        3/18/2018\\n    ', \"They're quite accommodating when it comes to reservations. I booked Wednesday night, and was able to change it to Thursday night. Their ambience was fancy and grand with the wide use of mirrors. Also, try their restrooms. Somewhat odd and modern designs.Now, let's get to the dishes. For a restaurant with almost 2000 reviews of 4-star, I felt underwhelmed. The free cookies were great with the dip, but the real appetizer and entrees were unimpressive. The Brussels Sprouts were a little burn on their own. It could be a great dish if it were not burned a lot. The same goes to the scallop. Definitely fresh ingredients, but a little over-cooked on one side. My CITRUS TROUT was bland with lots of spice visually. Maybe it's a hit or miss restaurant. But that night, it was a miss. :( I won't be back.\"), ('\\n        1/18/2018\\n    ', \"They're quite accommodating when it comes to reservations. I booked Wednesday night, and was able to change it to Thursday night. Their ambience was fancy and grand with the wide use of mirrors. Also, try their restrooms. Somewhat odd and modern designs.Now, let's get to the dishes. For a restaurant with almost 2000 reviews of 4-star, I felt underwhelmed. The free cookies were great with the dip, but the real appetizer and entrees were unimpressive. The Brussels Sprouts were a little burn on their own. It could be a great dish if it were not burned a lot. The same goes to the scallop. Definitely fresh ingredients, but a little over-cooked on one side. My CITRUS TROUT was bland with lots of spice visually. Maybe it's a hit or miss restaurant. But that night, it was a miss. :( I won't be back.\"), ('\\n        1/28/2018\\n    ', \"They're quite accommodating when it comes to reservations. I booked Wednesday night, and was able to change it to Thursday night. Their ambience was fancy and grand with the wide use of mirrors. Also, try their restrooms. Somewhat odd and modern designs.Now, let's get to the dishes. For a restaurant with almost 2000 reviews of 4-star, I felt underwhelmed. The free cookies were great with the dip, but the real appetizer and entrees were unimpressive. The Brussels Sprouts were a little burn on their own. It could be a great dish if it were not burned a lot. The same goes to the scallop. Definitely fresh ingredients, but a little over-cooked on one side. My CITRUS TROUT was bland with lots of spice visually. Maybe it's a hit or miss restaurant. But that night, it was a miss. :( I won't be back.\"), ('\\n        10/3/2017\\n    ', \"They're quite accommodating when it comes to reservations. I booked Wednesday night, and was able to change it to Thursday night. Their ambience was fancy and grand with the wide use of mirrors. Also, try their restrooms. Somewhat odd and modern designs.Now, let's get to the dishes. For a restaurant with almost 2000 reviews of 4-star, I felt underwhelmed. The free cookies were great with the dip, but the real appetizer and entrees were unimpressive. The Brussels Sprouts were a little burn on their own. It could be a great dish if it were not burned a lot. The same goes to the scallop. Definitely fresh ingredients, but a little over-cooked on one side. My CITRUS TROUT was bland with lots of spice visually. Maybe it's a hit or miss restaurant. But that night, it was a miss. :( I won't be back.\")]\n"
     ]
    }
   ],
   "source": [
    "import requests                   \n",
    "\n",
    "from bs4 import BeautifulSoup \n",
    "\n",
    "page = requests.get(\"https://www.yelp.com/biz/ilili-new-york-2\")    # send a get request to the web page\n",
    "reivews=[ ]\n",
    "\n",
    "# status_code 200 indicates success. \n",
    "#a status code >200 indicates a failure \n",
    "if page.status_code==200:        \n",
    "    soup = BeautifulSoup(page.content, 'html.parser')\n",
    "    divs=soup.select(\"div#super-container div.container div.clearfix div.column div div.feed div.review-list ul.ylist li div.review div.review-wrapper div.review-content\")\n",
    "    \n",
    "    for idx,div in enumerate(divs):\n",
    "        desc = None\n",
    "      \n",
    "        # get date\n",
    "        p_date=div.select(\"div.biz-rating span.rating-qualifier\")\n",
    "        if p_date!=[]:\n",
    "            time = p_date[0].get_text()\n",
    "      \n",
    "        # get description\n",
    "        for div in divs:\n",
    "            div = div.select(\"p\")\n",
    "            for i in div:\n",
    "                desc = i.get_text()\n",
    "            \n",
    "        reivews.append((time,desc))\n",
    "    print(reivews)"
   ]
  },
  {
   "cell_type": "code",
   "execution_count": 2,
   "metadata": {
    "collapsed": true
   },
   "outputs": [],
   "source": [
    "def get_review(url):\n",
    "    page = requests.get(url)    # send a get request to the web page\n",
    "    reviews=[ ]\n",
    "\n",
    "# status_code 200 indicates success. \n",
    "#a status code >200 indicates a failure \n",
    "    if page.status_code==200:        \n",
    "        soup = BeautifulSoup(page.content, 'html.parser')\n",
    "        divs=soup.select(\"div#super-container div.review-list ul li div.review div.review-wrapper div.review-content\")\n",
    "    \n",
    "        for idx,div in enumerate(divs):\n",
    "            desc = None\n",
    "            date=None\n",
    "            star=None\n",
    "        \n",
    "        # get star\n",
    "            p_star=div.select(\"div.i-stars\")\n",
    "            if p_star!=[]:\n",
    "                star = p_star[0]['title']\n",
    "        \n",
    "        # get date\n",
    "            p_date=div.select(\"span.rating-qualifier\")\n",
    "            if p_date!=[]:\n",
    "                date = p_date[0].get_text()\n",
    "      \n",
    "        # get description\n",
    "            p_desc=div.select(\"p\")\n",
    "            if p_desc!=[]:\n",
    "                desc = p_desc[0].get_text()\n",
    "            \n",
    "            reviews.append((star,date,desc))\n",
    "        return reviews"
   ]
  },
  {
   "cell_type": "code",
   "execution_count": 3,
   "metadata": {
    "collapsed": true
   },
   "outputs": [],
   "source": [
    "ilili1=get_review(\"https://www.yelp.com/biz/ilili-new-york-2?sort_by=date_desc\")"
   ]
  },
  {
   "cell_type": "code",
   "execution_count": 4,
   "metadata": {
    "collapsed": true
   },
   "outputs": [],
   "source": [
    "ilili2=get_review(\"https://www.yelp.com/biz/ilili-new-york-2?start=20&sort_by=date_desc\")"
   ]
  },
  {
   "cell_type": "code",
   "execution_count": 5,
   "metadata": {},
   "outputs": [
    {
     "data": {
      "text/plain": [
       "[('1.0 star rating',\n",
       "  '\\n        3/20/2018\\n    ',\n",
       "  'Worst experience with the maitre d - unwilling to listen, very arrogant and obnoxious. Unfortunate since this is not a bad restaurant. However, there are other Lebanese cuisine restaurants that treat customers with respect and with better food, such as Almayass. Good bye Ilili.'),\n",
       " ('2.0 star rating',\n",
       "  '\\n        3/18/2018\\n    ',\n",
       "  'I\\'m shocked at all of the good reviews here. Maybe the other reviewers are mostly tourists who are overly excited about food in NYC? This has to be the worst meal I\\'ve had in New York in years. We were here for brunch and the eggs were not cooked well, the Lebanese crepe was incredibly bland with a saccharine-sweet fake orange blossom syrup, and the Brussels sprouts were basically mush served with pieces of fig and grapes. The dry rosé was like drinking strawberry Capri Sun, blech. To top it all off, our waiter was absolutely terrible. He didn\\'t know the menu and when we asked him a question about one of the dishes, he said \"hold on let me go ask!\" And disappeared for 10 minutes. This happened twice! They took forever to bring our wine and we were almost done our food by tbr time it was brought to the table. All in all - I was incredibly pissed off that we spent one of our rare brunches out this place, and wish we had gone literally anywhere else. Check out these mush Brussels sprouts with some sweet glaze and cut up grapes - that should say it all.'),\n",
       " ('4.0 star rating',\n",
       "  '\\n        3/18/2018\\n            \\n\\n\\n\\n\\n\\nUpdated review\\n\\n',\n",
       "  \"Last time I was here, was almost 3 years ago for restaurant week, which I enjoyed immensely. I recently came back for a normal dinner and it was even better than my first time here. It didn't take 3 hours long this time and the restaurant wasn't as crowded. But that could be because the day I went it was right before Christmas weekend.I came with a friend who works as a line cook at a couple of pretty popular restaurants, so we left the ordering up to him. What we ordered was even better than what I had during restaurant week, even though we pretty much had their whole menu the first time I came.Mouhamara - This was the only thing that I had last time, that I requested we get again. It's basically a sweet, savory walnut paste that tastes amazing with the pita. It was just as good as before.Moussaka - This tastes similar to many tomatoey eggplant I've had before. It's nothing really special but maybe good for a healthy dish.Phoenician Fries - I wish I ordered this the first time. The fries were large and crispy with lots of herbs. Holy f**k that garlic whip was good with the fries .Duck Shawarma - I was hesitant on getting this, because I thought it wouldn't really taste like duck, but this was so good. It didn't actually have a very strong duck flavor because it's shredded. The garlic whip with it is delicious. You choose 2 large ones, or 4 little ones. Octopus with squash, onion, peppers, mekanek, pine nuts - pretty good. octopus was charred and tender. I like all the vegetables mixed in. Mixed Grill with chicken shish taouk, beef kebab, kafta, lamb chops, garlic whip trio, seasonal grilled vegetables - This is great for sharing and comes with a trio garlic whip (mint, beet, and sumac). The beef kebab was tender and medium rare. The chicken was a little dry, but the kafta was great. I think I like their appetizers and dessert more, but this was a good entree.ilili Candy Bar - I got this during restaurant week too and I loved it just as much as I did the first time. I'm glad it's still on the menu after almost three years. I love the contrast between the smooth dark chocolate ganache and the gritty pistachio layer. Definitely for chocolate lovers or those with a sweet tooth. It's small but still really satisfying even though we shared among four of us.I didn't make a huge effort to come back before, but I definitely will now.\"),\n",
       " ('2.0 star rating',\n",
       "  '\\n        3/13/2018\\n    ',\n",
       "  \"Been here a number of times, and it gets progressively worse each time. Ilili suffered the same fate as most NYC restaurants; when it first opened, everything was terrific to draw in clients. Once they'd established a clientele, everything started to slowly roll downhill. The food used to be better, the prices cheaper, the ambience more atmospheric, and the staff sharper. Now the food is just ok, the wait staff are slow at seating you, the bathroom staff sit there gawking at the ceiling, and they've added too many tables (to maximize profit) in the main dining hall so the place has the clamor of a school lunchroom. Staring at the menu pricing while hearing 10 conversations around you and [literally] rubbing elbows with the people at the next table makes you sit there and wonder what exactly you're paying for.\"),\n",
       " ('4.0 star rating',\n",
       "  '\\n        3/7/2018\\n    ',\n",
       "  \"If you can somehow request upstairs seating, I think that's the way to go. You'll be seated in a small alcove area that's quiet vs. the rowdy downstairs hall (unless you're into screaming over dinner to get your party to hear you properly), and the decor upstairs was admittedly much nicer.That being said, ilili serves quite a bit of appetizers (cold/hot) as well as main entrees. For a group of 5, we ordered around 7 or 8 appetizers and a main entree, and we could barely finish. They recommend ~3 appetizers per person, but I'd like to think it's better to stay on the safe side and order more as necessary.Of all the dishes we ordered, surprisingly, the Phoenician fries were the real winners for me. The garlic aioli this came with was extremely flavorful, and I ended up dipping nearly everything in it. The octopus appetizer was the other star of the night - we ended up ordering two of these, and contemplated ordering a third. The octopus was cooked really well, they weren't stingy with their portions, and they were sprinkled in a medley of vegetables and beef sausage bits that rounded out the flavors perfectly.Honorable mention goes out to the duck shawarma - some members in our group really loved that.Personally, I'd skip on the lamb dumplings and the cauliflower. Not worth the money or the stomach real estate, but to each their own.\"),\n",
       " ('4.0 star rating',\n",
       "  '\\n        3/5/2018\\n    ',\n",
       "  \"This place is way bigger inside then I would have expected! Lots of mirrors and the vibe is greAt for an upscale nyc dinner. The bar is completely separate from the restraint which is nice- there's a giant lounge area as well. The food was really delicious. We ordered a LOT of appetizers- the falafel is a must try- it's very savory and crunchy. Other stand outs include the hummus as well as the rice and the Brussels sprouts. The mixed grill plate is a MUST try - you can split it with the table and get a bunch of other apps. It has a tasting of all of the meat and it's fantastic!! I took a point off because I didn't think our server was that good - he didn't have any recommendations and was frankly not as pleasant as you'd expect from a restaurant of this caliber. Must call months in advance for real!! Also really like that the tables are round (we were a big group).\"),\n",
       " ('5.0 star rating',\n",
       "  '\\n        3/4/2018\\n    ',\n",
       "  'Short wait times, comfy environment, and great customer service. Me and my boyfriend love eating here! Best lebanese restaurant in town'),\n",
       " ('4.0 star rating',\n",
       "  '\\n        2/26/2018\\n    ',\n",
       "  'My friends and I have been coming to ilili for years. \\xa0The ambiance is great for drinks in the bar area or dinner in the dining room or parties! \\xa0We have done it all. \\xa0On this night we met 6 friends for drinks and dinner. \\xa0I had a glass of my favorite pink champagne at the bar for the price told to me by the bartender. \\xa0My friend and I each had a glass at the table, but when we tried to order another glass we were told that we would have to pay for a bottle. (At a ridiculous price). \\xa0I had to explain to the waiter that this was not good business practice, and that I expected to pay the same price as we had paid for the first glasses. \\xa0It escalated to my having to have this discussion with the manager. \\xa0She handled it beautifully, and opened another bottle for my friend and I to have two glasses at the original price. \\xa0It was an unnecessary blip in an otherwise great evening.That said... we will continue to come for the great Lebanese food and ambiance!'),\n",
       " ('5.0 star rating',\n",
       "  '\\n        2/26/2018\\n    ',\n",
       "  \"By far the best Mediterranean restaurant in NYC. We ordered hummus, labne(yogurt type of dip), duck shawarma, mixed grilled platter, falafel, and kibbeh. Everything was deliciously out of this world, but being such a fancy and pretty expensive restaurant, I would expect the food to be hot when brought to the table. We had to return two of the plates for them to heat them up, since they were brought to us cold. I must say, they handled the situation pretty well, and due to the food being cold, they took the two platters out of the bill. That's great customer service in my opinion. The hostess at the front was also very nice and attentive. I also think that a reservation is necessary to get a table, they are very busy all the time. The drinks were also delicious, I definitely recommend !\"),\n",
       " ('4.0 star rating',\n",
       "  '\\n        2/25/2018\\n    ',\n",
       "  'Very cool space. Sat at the bar and had lovely tequila drinks. Ordered the falafel- avg and dry, lamb meatballs- delish, feta cheese that comes In a mason jar with olive oil and parsley as well as the hummus which is really really good, a must. This place is scenester but pretty relaxed despite this. Had no reservation but easily got a spot at the bar. Will be back!'),\n",
       " ('5.0 star rating',\n",
       "  '\\n        2/25/2018\\n    ',\n",
       "  'Great atmosphere and yummy food. I love love love the apricot jam. Better to go in groups of four or more so you can get more share plates. Plates are one item large and pricey so you-do not get to enjoy much variety coming as a couple unless you want to take home or throw away a lot of food and pay a high price. Kinda like going to Indian food.'),\n",
       " ('5.0 star rating',\n",
       "  '\\n        2/23/2018\\n    ',\n",
       "  'Absolutely the highlight of our NYC trip! This restaurant was recommended by a friend who lived in the city and we are elated that we listened. Although the service was a bit slow our waiter was very helpful and the dishes more than made up for it. We started with smaller, tapas-style appetizers that were astounding. Would highly recommend the Brussels sprout dish and the iron shrimp. We then moved on to the mixed grill which was a large portion for sharing. It included steak, chicken, kafta and lamb. We then finished the evening with a candy bar for dessert. Highly recommend this restaurant if you are spending an evening in the city.'),\n",
       " ('1.0 star rating',\n",
       "  '\\n        2/21/2018\\n    ',\n",
       "  \"It's one if the worst Mediterranean restaurants I have been to. The food lacks any kind of seasoning. The makanik was undercooked and bland. The kibbeh blaban resembled nothing of the true Lebanese version and tasted awful. Not sure how other reviewers are giving this place more than one star.\"),\n",
       " ('4.0 star rating',\n",
       "  '\\n        2/21/2018\\n    ',\n",
       "  \"Great brunch! The sparkling cava cocktail is tasty. The salmon was delicious. The egg dishes, while good, are pretty heavy. Probably the only thing I wouldn't order again.\"),\n",
       " ('4.0 star rating',\n",
       "  '\\n        2/20/2018\\n    ',\n",
       "  \"anytime you have over 2k reviews and 4 stars or better usually is a good sign. It is no different here except for a hiccup in service which I explain below. We came on a friday night and the place was bustling. We sat upstairs and although the tables are close to each other we had ample space.We went for the meze options rather than ordering entrees. The server sold us on the fact that we needed 8-9 small dishes which seemed like a lot but I knew she was worried we would take a table on a friday night and order like 3 meze plates. I am no rookie though so I wouldnt do that!!! I understand servers try to upsell the guest but its another thing to give wrong info since there was no way 2 people could eat that much food. For two people you only need 6 maybe 7 appetizers. The lebanese red wine was also unique and added to our experience. It has a little kick to it at the end which I liked.Now for the food: Must order- cauliflower, duck shawarma, lamb dumplings, phoenican fries, fresh pita's (they come at beginning of the meal)What I would pass on was the lamb sausage and cherry meatballsOverall, a solid 4 stars. the server had good intentions but it definitely rubbed me the wrong way. \\xa0I would come back.\"),\n",
       " ('5.0 star rating',\n",
       "  '\\n        2/19/2018\\n    ',\n",
       "  'Ilili was amazing. \\xa0High end Lebanese food at its best. \\xa0Some of the best kibbeh naye I have ever tasted. \\xa0 This was my second visit and it was just as good as I remembered 4 years later. \\xa0 This is aNYC must!'),\n",
       " ('5.0 star rating',\n",
       "  '\\n        2/18/2018\\n    ',\n",
       "  'We have been going to ilili for years! We actually celebrated our engagement here almost 9 years ago. We are spending the weekend in the city and decided to dine at ilili again. For the first time, we sat upstairs, which was different...a little more intimate. The guests dining next to us were SO LOUD and frankly a little rude but they left in time for us to actually enjoy our meal. Food is 100% phenomenal! We are Armenian so Lebanese is not too far from our cuisine. A MUST try if you are looking for a flair of something different!'),\n",
       " ('3.0 star rating',\n",
       "  '\\n        2/18/2018\\n    ',\n",
       "  'I went here for restaurant week and it didn\\'t completely live up to my expectations. I will say, for a restaurant week type of deal, you get to pick more appetizers than you normally are allowed. My boyfriend and I both got to pick 2 appetizers each, an entree, and dessert. The appetizers were pretty flavorful. Their pita was also extremely airy, puffy, and yummy. We ordered the hommus, moussaka, baba ghannouj, and the kibbeh naye beirutieh (steak tartar). The moussaka and baba ghannouj were extremely delicious and was definitely the best part of the meal. They had so much flavor and really captured the Mediterranean taste. The entree was very very subpar, I barely even finished mine. I got the semolina gnocchi and it just did not taste \"right\". It almost tasted a little sweet, but not in a familiar way. It was not what I expected. As for the dessert, not much can go wrong there especially since I ordered the ilili candy bar. It was a rich dark chocolate ganache, fig caramel, dulce de leche ice cream, topped with salted pistachios. To be honest, I don\\'t remember tasting all of those ingredients, but it was pretty good. The true downfall to this restaurant would have to be its service. It was SO SLOW! Now I understand during restaurant week, there will definitely be a higher volume of customers, but it shouldn\\'t take 10 mins to be asked what drink we would like to order, and another 10 mins afterwards to inform us that you don\\'t have the ingredients to make the drink... by the time we actually ordered and got our drink it was already roughly 25-30 mins into sitting and still waiting for our meal.Come here for the atmosphere as it\\'s a very pretty and ornate restaurant, I think you could find better Mediterranean food with better service.'),\n",
       " ('5.0 star rating',\n",
       "  '\\n        2/18/2018\\n    ',\n",
       "  'I went with 3 other friends for restaurant week. The waitress encouraged us to each buy different food and share with each other which is exactly what we did. The food was amazing. Some of my favorite appetizers were the hummus with lamb, mouhamara & fattoush. The chicken liver was my least favorite (def an acquired taste). The entree was also extremely good but we were already so full from the appetizers!! Lastly, the desserts were to dieeee for, especially the khafe!! Highly highly recommend!'),\n",
       " ('3.0 star rating',\n",
       "  '\\n        2/17/2018\\n    ',\n",
       "  \"First off I made reservations for 9:30, we came early at about 9 and sat at the lounge but the waitress never never came for drinks or anything. Finally were seated around 9:40, but no that was closer to our reservation. The tables are very tightly packed but the ambinence is nice very sleek modern with flare. \\xa0We did the falafal for an app, it looked different but the taste was authentic so far so good. We also ordered some wine and the chicken duo and lamb makleoubah. The waiter tried to tell us that was not enough food and we will be hungry, which seemed like an upsell since we were not just ordering apps but meals. \\xa0We ended up being more than fine. We didn't even finish so didn't appreciate that part. \\xa0The food was authentic, I just wish they had better pairings. The chicken was a kebab it was good just needed some rice or vegetables on the side. We ended up ordering some rice on the side. The lamb dish was authentic and good but same I struggled to get a bite that was not just lamb. \\xa0Overall nice restaurant the food was a bit lacking for us but worth a try.\")]"
      ]
     },
     "execution_count": 5,
     "metadata": {},
     "output_type": "execute_result"
    }
   ],
   "source": [
    "ilili1"
   ]
  },
  {
   "cell_type": "code",
   "execution_count": 6,
   "metadata": {
    "collapsed": true
   },
   "outputs": [],
   "source": [
    "ilili_review=ilili1[18:]+ilili2[:15]"
   ]
  },
  {
   "cell_type": "code",
   "execution_count": 7,
   "metadata": {},
   "outputs": [
    {
     "data": {
      "text/plain": [
       "17"
      ]
     },
     "execution_count": 7,
     "metadata": {},
     "output_type": "execute_result"
    }
   ],
   "source": [
    "len(ilili_review)"
   ]
  },
  {
   "cell_type": "code",
   "execution_count": 8,
   "metadata": {},
   "outputs": [
    {
     "data": {
      "text/plain": [
       "[('5.0 star rating',\n",
       "  '\\n        2/18/2018\\n    ',\n",
       "  'I went with 3 other friends for restaurant week. The waitress encouraged us to each buy different food and share with each other which is exactly what we did. The food was amazing. Some of my favorite appetizers were the hummus with lamb, mouhamara & fattoush. The chicken liver was my least favorite (def an acquired taste). The entree was also extremely good but we were already so full from the appetizers!! Lastly, the desserts were to dieeee for, especially the khafe!! Highly highly recommend!'),\n",
       " ('3.0 star rating',\n",
       "  '\\n        2/17/2018\\n    ',\n",
       "  \"First off I made reservations for 9:30, we came early at about 9 and sat at the lounge but the waitress never never came for drinks or anything. Finally were seated around 9:40, but no that was closer to our reservation. The tables are very tightly packed but the ambinence is nice very sleek modern with flare. \\xa0We did the falafal for an app, it looked different but the taste was authentic so far so good. We also ordered some wine and the chicken duo and lamb makleoubah. The waiter tried to tell us that was not enough food and we will be hungry, which seemed like an upsell since we were not just ordering apps but meals. \\xa0We ended up being more than fine. We didn't even finish so didn't appreciate that part. \\xa0The food was authentic, I just wish they had better pairings. The chicken was a kebab it was good just needed some rice or vegetables on the side. We ended up ordering some rice on the side. The lamb dish was authentic and good but same I struggled to get a bite that was not just lamb. \\xa0Overall nice restaurant the food was a bit lacking for us but worth a try.\"),\n",
       " ('3.0 star rating',\n",
       "  '\\n        2/14/2018\\n    ',\n",
       "  \"A nicer Mediterranean fusion place that actually delivers on food quality for the most part. Solid 4 star quality, but deducted one for a really slow service.Ambience - Restaurant is really well decorated. I don't normally take pictures of the restaurant, but this one is up there.Service - Painfully slow. Nice staff, but they explained the food 3 times for whatever reason. Again, it was painfully slow. Someone at my table ate an energy bar because the service was so slow...Food (Out of 7 appetizers and 5 main dishes)Good - Duck shawarma was delicious, but add sauce since it can get dry. \\xa0Brussel sprouts were surprisingly good, but the ratios were a bit off on actual Brussel sprouts to other ingredients.48 day dry aged cote de bouef was slightly overcooked and undersalted, but it was still enjoyable. It sucked that some parts of the beef were more delicious than the others, and it felt slightly overpriced, considering how awesome the dry aged beef at Minetta Tavern is for only a bit more.Lamb chops were pretty flavorful, if not a little intense at times.Alright - Fries are good. We mainly ordered it thinking it'd get here fast, and we needed something to munch on. Not sure why we're getting fries at a Mediterranean place, but it was decent.Not hot - Labne wasn't popular with any of the 8 at the table. It was barely touched. Mixed Grill had meats that were really dry or just absurdly tough.Dessert - It was pretty average. We got almost one of each, and the pumpkin souffle and labne cheesecake mousse were the only good ones. Usually, most desserts suck at places like this, but these two were alright!\"),\n",
       " ('5.0 star rating',\n",
       "  '\\n        2/14/2018\\n    ',\n",
       "  'It\\'s been a few years since I\\'ve dined at ilili and a lot of things have changed. Fortunately, every change made, made this dining experience even better than the last.The decor and ambiance of the restaurant has not changed and I\\'m glad it hasn\\'t. The wood work and the mix of contemporary trims with classic accents really make the restaurant have character. It\\'s quite a piece of art.The server that we had that night was one of the best I\\'ve had in quite a while. He had full knowledge of the menu, gave us the perfect amount of recommendations, and had just the right amount of intrusiveness that let us know he was our server without making us feel like we were hovered over. Drinks were never empty, plates were always clean, food came out perfectly timed. People, the kitchen doesn\\'t always control the flow of food. Servers make that happen too. The food.... where do I begin. We had 11 mezza, 3 entrees, and 3 desserts. For a party of 4, it\\'s a lot of food but we finished almost everything clean. We started the meal with ilili classics (Cold Mezza) like their signature Hommus, we had it with shrimp(highly recommend), moussaka (my second favorite), chankleesh (my personal favorite, definite must have), and the amazing kibbeh naye. \\xa0Everything was so on point and the flavors mixed with/out the fresh pita bread (which has become even more fluffy and delicious) were just bliss. As for the Hot Mezza, we had the brussel sprouts, (sweet, tart, delicious goodness), arnabeet mekle (fried cauliflower so good), kebab kerez (possibly the most interesting combination of flavors and textures that amazes me every time), manti(fluffy \"dumpling\"), atayef and veal bacon (the Lebanese take on pork buns), duck shawarma (literally everything that is good in life is in here), and black iron shrimp (still good but perhaps the only average dish of the night). I made everyone eat with their hands and told them how to have a good time. For the Mains, we had the Cote de Boeuf (absof#$%inglutly the highlight of the meal), diver scallops, and the Whole Roasted Chicken (the flavors on this chicken and the presentation are to die for). Let\\'s say we just saw bones left on our plates. Holy smokes I\\'m hungry again. Dessert, good ol Knafe bil Jibneh (IF YOU HAVE BEEN TO ILILI AND HAVE NOT HAD THIS OR IF YOU HAVE NOT BEEN TO ILILI, YOU MUST HAVE THIS), sorbets to clean the palette, and the labne cheesecake (interesting mix of yogurt to create a cheesecake flavor).We were so full at the end we couldn\\'t leave for about 20 minutes. I shouldn\\'t wait so long until my next visit here but I live kinda far now... until next time my friend.'),\n",
       " ('3.0 star rating',\n",
       "  '\\n        2/11/2018\\n    ',\n",
       "  \"A girlfriend hosted her birthday dinner here with a group of us. Getting there early I parked myself at the bar for a drink and was greeted by nice staff and a solid drink menu.Upon being seated when our group arrived, we were seated at a large table that felt a little too big for us so it wasn't as intimate as we would have liked. The food options were great for sharing and we ordered multiple rounds after tasting and seeing what we liked. There was an awkward moment when ordering wine when I asked to taste a wine I chose and then didn't like it. It seemed corked and when I raised concerns with the waitress it took quite some time for them to come back with the menu and reconcile my concerns. It's certainly not the first nor the last time something like that will happen, so seeing staff shuffle to get a manager just to make sure I could be provided with another bottle was just bizarre.Not a place I'd go out of my way to return to, but wouldn't turn it down if in the neighborhood.\"),\n",
       " ('4.0 star rating',\n",
       "  '\\n        2/11/2018\\n    ',\n",
       "  \"A solid four star restaurant. We were so excited when we snagged reservations for ilili, looking at the 2k+ reviews we knew we were in for a treat! \\xa0It was 8pm on a Saturday night and we were out with our good friends, the night was already setting up to be awesome. First off, this place itself is massive! \\xa0We were seated promptly at an adorable table against a wall in one of the dining spaces. \\xa0The restaurant divided up the space so it doesn't feel cavernous, and adds a fun architectural feel to the room with all the wood and 30ish foot ceilings. The decor is simple without being bare, yet upscale in it's furnishings and accents. Although it was Restaurant Week, we opted to graze through the traditional menu - choosing to heed our waiters advice / suggestions for the ultimate meal. \\xa0His suggestions were spot on, and provided us with many dishes we might not have ordered on our own. \\xa0He also recommended a better wine for us, while staying in our price point - I always appreciate that, versus when a waiter suggests a bottle that $45 more than the one we originally picked out.We ordered an array of foods, and below I'll list them out with my thoughts. \\xa0My favorite favorite would be the duck shawarma - which shocked me, as well as the fries (yes, I know, but ... just try them!). \\xa0 Dishes we ordered, below:Cold Mezza::: Baba Ghannouj - I'm always such a fan of this eggplant dish wherever I go - it was simple and yum! \\xa0Less garlic than I am used to, but good as a start! \\xa0(Eggplant, tahini, olive oil):: Labne - a slight bit boring to be truthful, tasted very much like plain greek yogurt, I think ours also was missing the roe? (Strained yogurt, olive oil, fresh mint, zaatar, salmon roe):: Tuna Tartare - fantastic! \\xa0Fresh, the lemon and the tuna were beautiful together, plus the pita added texture, a must-order (harissa, lemon, pita):: Chankleesh - super yummy! The waiter mashes up everything together dish - its salty and savory and really flavorful! \\xa0(feta cheese, onions, tomato, zaatar).Hot Mezza::: Black Iron Shrimp: really yummy, our waiter suggested tasting it with the Chankleesh which was really good (jalapeño, garlic, cilantro):: Phoenician Fries: i know, i know - ordering fries at a restaurant?? But our waiter recommended them and we listened - let me tell you - they were SO GOOD. PLUS the garlic whip was divine! (sumac, parsley, garlic whip):: Atayef & Veal Bacon: these looked comical - almost like a mini breakfast sandwich that you might find at mcdonalds or something... mini pancakes making a sandwich. \\xa0It tasted NOTHING like it appeared, they were a bit spicy, very savory, and highly recommend (fig jam, pickles, hot peppers):: Brussels Sprouts: a little too sweet for my taste honestly, but prepared really well - big hit on the table (grapes, fig jam, walnuts, mint yogurt):: Kebab Kerez: absolutely delicious, very sweet/savory with the lamb&beef combo in the cherry sauce... yum! (lamb & beef meatballs, cherry sauce, kataifi, scallions):: Duck Shawarma: my favorite dish of the night - 3 come to a serving, I believe so they added an extra for us - all the best flavors of shawarma, amplified. \\xa0There was a sauce on them, which I would have happily drunk with a straw! (duck magret & chicken, fog jam, green onion, garlic whip)Overall, one of my favorite things to do is to eat a bunch of different types of food - I really enjoy eating tapas style. \\xa0Because of this, there was little of the menu which we didn't get to sample. \\xa0Solid experience, great food, and really fun atmosphere!\"),\n",
       " ('3.0 star rating',\n",
       "  '\\n        2/10/2018\\n    ',\n",
       "  \"Honestly, my review might be a little biased but regardless I would like to share experience. Ambiance is very chic. Hostess were courteous as well as the server and waiter. On the contrary, food is not something I would rave too much on. I'm hoping your experience will be better. I got there around 7:05pm and although they advised it would be 5 mins, I didn't get seated for about 30 mins. For the amount of money I paid (this cannot be because it's Manhattan, New York as my experience has been different at other restaurants), food was ok. \\xa0If you enjoy eating Arabic food, this isn't the place to be. However, as I mentioned earlier that my review may be biased, my colleagues who recommended me to this restaurant feel this is a good place. Apologies for contradicting review.\"),\n",
       " ('5.0 star rating',\n",
       "  '\\n        2/10/2018\\n    ',\n",
       "  'The food was so varied and amazing. Service was good. Great for a date night. I would definitely be interested in going back.'),\n",
       " ('3.0 star rating',\n",
       "  '\\n        2/8/2018\\n    ',\n",
       "  'Great ambience, interior decor. Looks very fancy, but i didnt really enjoy the food. I thought it is overpriced. The waiter was pretty sassy. Even though I asked him, he never mentioned any name of the dish so it was pretty hard to figure out which one is which. He just seemed pretty busy just putting dishes on the table. I kinda enjoyed the experience here, but would not go back again.'),\n",
       " ('3.0 star rating',\n",
       "  '\\n        2/4/2018\\n    ',\n",
       "  'My friends and I decided to check out ilili during Restaurant Week last week. I love mediterranean food, so I was really looking forward to some of the items they had on the menu. We had a reservation and were seated right away. Walking through the restaurant was quite an experience-- there were mirrors everywhere, so the place looks a lot bigger than it probably is. The decor was awesome! When we were seated, we were greeted by our server given the menu. Our waiter was awesome. He was outgoing, funny and helpful with any questions we asked. I told him that I couldn\\'t eat any dairy and he walked through each and every Restaurant Week menu item, telling me if it had dairy or if it could be made without it. When it came to the dessert options, he realized that each option was no good, so he actually had the kitchen make sorbet special for me! I wish I got out waiter\\'s name because he was really patient in explaining all my options. Instead of the typical one appetizer, one main, and one dessert, ilili lets you order two appetizers off the Restaurant Week menu. So I ordered the Mouhamara, and Moussaka. I\\'ve had Moussaka before, but I\\'d never heard of Mouhamara so I figured it would be a good time to try it out. When they came out, they were not really what I expected-- the Moussaka was basically just cold chunks of eggplant with some other vegetables and seasonings. Usually, I equate Moussaka to a mediterranean lasagna but this version didn\\'t have any layers, and didn\\'t appear to be baked since it was served cold. That being said, I still really enjoyed both appetizers. Just as we were about finished with the apps, they put out the main course. This was a little confusing though, because they hadn\\'t yet removed the appetizer plates. \\xa0For my entree, I ordered the Lamb Makloubeh (which I still can\\'t pronounce), and it was very good. The chunks of lamb almost melted in your mouth, although the pieces were pretty big and hard to cut with my knife. In addition to the lamb, the dish had \"dirty rice\" and fried eggplant. Not sure what made this rice \"dirty,\" but I was a fan. Finally, this dish came with a cup of yogurt that you were supposed to stir into the lamb to mix it all together (\"Sort of like oatmeal,\" my waiter told us). I didn\\'t eat the yogurt with my dish, but I suppose it would have enhanced the dish. By the time the desserts came out, I was honestly stuffed. At first, the idea of getting two appetizers sounded great but in hindsight, it was so much food. I don\\'t think I completely finished any one course that came out. Like I mentioned before, my waiter was kind enough to arrange a dairy-free dessert option for me which ended up being three scoops of sorbet: pear ginger, apple fennel, and raspberry pomegranate, I believe. This sorbet was really delicious. The only downside was that upon taking my first spoonful, I found a huge green piece of dried food stuck to the underside of the spoon. Disgusting. When I told our waiter, he apologized profusely and took the spoon and the sorbet back to get me new ones. The only problem is that I\\'m pretty sure they forgot about me. I probably waited about 15 minutes for the new sorbet to come out. I realize they did me a favor by giving me an option that wasn\\'t on the restaurant week menu, but waiting for 15 minutes was unacceptable, especially after discovering a dirty spoon in my mouth. I appreciated how surprised and apologetic he was, but he really made us wait too long. All in all, I\\'m happy I came here to experience some new dishes, but the dirty spoon was a major turn-off.'),\n",
       " ('4.0 star rating',\n",
       "  '\\n        1/31/2018\\n    ',\n",
       "  \"The food is great. Best tabbouleh I've ever had. The cauliflower was also a huge hit, served over a bed of labneh. The big downside was the noise level. We were a table of six and I was only able to talk to the people on either side of me.\"),\n",
       " ('3.0 star rating',\n",
       "  '\\n        1/28/2018\\n    ',\n",
       "  \"My friends and I came into Ilili for Restaurant Week dinner after the delish looking menu on the website. We had a 7pm reservation and were seated right away upon arrival. Our waiter popped over to explain the RW process and get our drinks. For the meal, I had the falafel and cauliflower to start, gnocchi for the entree, and candy bar for dessert. The best part for me was the candy bar. The rest, sadly looked better than it tasted. The two appetizers were very heavy and the entree was overpowered with the taste of tomato, not to mention the gnocchi was breaded, which I was not expecting. The meal was also timed poorly. They brought out the entrees while we were still eating our appetizers, but we waited what felt like 30 mins between the entree and dessert. Then they brought my friend a dirty spoon, which she started to eat her dessert with. Once she noticed and called the waiter over, he brought her a new dessert, but we waited another 10-15 mins for that to come. Ambiance was interesting. It has a clubby vibe to it. When we first got there it was quieter, but as the night when on the music was turned up and the volume around us got pretty loud too. You are seated very close to everyone around you, we often had to yell at our waiter for him to hear us. On that note, the service was the only reason this place didn't lose more stars. Our waiter was really great and friendly throughout the meal. Overall, this was a RW miss for me. I was really hoping to find a new Lebanese/Mediterranean favorite, but it just fell flat.\"),\n",
       " ('4.0 star rating',\n",
       "  '\\n        1/28/2018\\n    ',\n",
       "  'Good Mediterranean food with filling portion sizes. Their falafel and lamb shoulder is a must try. \\xa0Definitely recommend!'),\n",
       " ('5.0 star rating',\n",
       "  '\\n        1/28/2018\\n    ',\n",
       "  \"Great atmosphere for date night or a night out with friends. If you're looking to go out with someone, definitely reserve a table in advance so they give you one of he nice tucked away spots otherwise its too loud in the other rooms. There's three different rooms for dining and a separate bar. Pretty modern vibes and definitely a place where you can get a bit more dressed up.The food was phenomenal. There was a pre-fix menu but we decided to order a la carte. The first page was a bunch of sharable plates and the second was the main dishes/meat dishes. So we got the baba ganoush, the falafel and the manti + the lamb makloubeh. Everything tasted amazing and it was the perfect amount for two people. We came for my boyfriends birthday so we ordered dessert, the ilili candy bar, and they gave us a candle and wrote happy birthday but the best part was the dessert itself. It tasted so good!The service was quick, and helpful, and super nice. And although the price came out to $150+ (that was plus drinks), it was a pretty great night.\"),\n",
       " ('4.0 star rating',\n",
       "  '\\n        1/27/2018\\n    ',\n",
       "  \"Booked here through open table for restaurant week but didn't realize restaurant week isn't exactly in effect Saturday's and sundays. We ordered some cocktails, the mule and the cider (cider was better). I read some reviews that the appetizers were better than the entrees, and with how the entrees were priced it was an easy decision to go ham on the apps. Burrata, cheese rolls, Brussel sprouts and lamb meatballs. All listed in order of best to okay. The burrata was really, really good. Great service, great space. Probably would try a different Mediterranean spot before revisiting.\"),\n",
       " ('5.0 star rating',\n",
       "  '\\n        1/26/2018\\n    ',\n",
       "  \"Firstly this is a nice upscale fine dining. Great ambience n The interiors are so good. We came here for restaurant week dinner. It's a pre fix menu$42 per head. It's a four course meal, it was just perfect each \\xa0item was so amazingly delicious.We took cauliflower, hummus,steak tartare for appetizer.Where we took the lamb shank, it's a different version of biryani n very rich and bold flavors. The desserts were the to die for, we took Panna Cotta and the dark chocolate. Loved this place will finally come here again.\"),\n",
       " ('3.0 star rating',\n",
       "  '\\n        1/24/2018\\n    ',\n",
       "  \"Ilili has been on my list of places to visit for some time, and what better way to celebrate Restaurant Week with a visit? The four-course menu left us extremely full. Neither me nor my friend finished any one plate, and we actually took the main home for leftovers! Two full-size appetizers each, one main, and one dessert. We were stuffed!Appetizers were 8/10. We loved the hummus; very light and fresh, with an assortment of toppings to choose from. The jalapenos were cut into massive pieces and thrown on top, though. Too much for our taste. We tried the moussaka and both loved it; IMO the best appetizer. I ordered the steak tartare and am disgusted thinking about it! It tasted like room-temp insides of a sausage. An uncooked, room-temp, blended sausage. It was awful! The massive jalapenos from the hummus made an appearance on this dish as well, accompanied by blunt-cut white onion chunks. Neither made the meat tolerable. I felt sick just looking at it. Luckily, the main course redeemed the meal. I ordered the Lamb Makloubeh and absolutely loved every bite! The lamb was perfectly seasoned, and sliced in a way, yet tender enough to pull with a fork, that it touched every bite. Dirty rice? I don't care why it's brown, it's delicious. Best rice, lamb, and sauce I've had - separately and together - and that's saying a lot as I'm Greek. Excellent use of toasted pistachios and macadamia nuts. By dessert, we were SO full, but ordered the panna cotta and Knafe Bil Jibneh. I absolutely loved the panna cotta; light and flavorful, topped with the freshest grapefruit and pomegranate seeds. The Knafe was very unusual. It took 20 minutes to prepare, and tasted like a sweet baked cheese (not overpowering, almost like the texture of baked mozzarella with the flavor of paneer), but coated in cinnamon sugar! All together, it tasted like cinnamon toast crunch and mozzarella sticks - weird, I know, but worth a taste for those of you tired of the standard creme brulee and chocolate bomb after dinner.\")]"
      ]
     },
     "execution_count": 8,
     "metadata": {},
     "output_type": "execute_result"
    }
   ],
   "source": [
    "ilili_review"
   ]
  },
  {
   "cell_type": "code",
   "execution_count": 9,
   "metadata": {
    "collapsed": true
   },
   "outputs": [],
   "source": [
    "def to_string(data):\n",
    "    string=''\n",
    "    for i in range(len(data)):\n",
    "        string=string+data[i][2]\n",
    "    return string"
   ]
  },
  {
   "cell_type": "code",
   "execution_count": 10,
   "metadata": {
    "collapsed": true
   },
   "outputs": [],
   "source": [
    "ilili_string=to_string(ilili_review)"
   ]
  },
  {
   "cell_type": "code",
   "execution_count": 11,
   "metadata": {},
   "outputs": [
    {
     "name": "stdout",
     "output_type": "stream",
     "text": [
      "<class 'str'>\n"
     ]
    }
   ],
   "source": [
    "print(type(ilili_string))"
   ]
  },
  {
   "cell_type": "code",
   "execution_count": 12,
   "metadata": {},
   "outputs": [
    {
     "data": {
      "text/plain": [
       "'I went with 3 other friends for restaurant week. The waitress encouraged us to each buy different food and share with each other which is exactly what we did. The food was amazing. Some of my favorite appetizers were the hummus with lamb, mouhamara & fattoush. The chicken liver was my least favorite (def an acquired taste). The entree was also extremely good but we were already so full from the appetizers!! Lastly, the desserts were to dieeee for, especially the khafe!! Highly highly recommend!First off I made reservations for 9:30, we came early at about 9 and sat at the lounge but the waitress never never came for drinks or anything. Finally were seated around 9:40, but no that was closer to our reservation. The tables are very tightly packed but the ambinence is nice very sleek modern with flare. \\xa0We did the falafal for an app, it looked different but the taste was authentic so far so good. We also ordered some wine and the chicken duo and lamb makleoubah. The waiter tried to tell us that was not enough food and we will be hungry, which seemed like an upsell since we were not just ordering apps but meals. \\xa0We ended up being more than fine. We didn\\'t even finish so didn\\'t appreciate that part. \\xa0The food was authentic, I just wish they had better pairings. The chicken was a kebab it was good just needed some rice or vegetables on the side. We ended up ordering some rice on the side. The lamb dish was authentic and good but same I struggled to get a bite that was not just lamb. \\xa0Overall nice restaurant the food was a bit lacking for us but worth a try.A nicer Mediterranean fusion place that actually delivers on food quality for the most part. Solid 4 star quality, but deducted one for a really slow service.Ambience - Restaurant is really well decorated. I don\\'t normally take pictures of the restaurant, but this one is up there.Service - Painfully slow. Nice staff, but they explained the food 3 times for whatever reason. Again, it was painfully slow. Someone at my table ate an energy bar because the service was so slow...Food (Out of 7 appetizers and 5 main dishes)Good - Duck shawarma was delicious, but add sauce since it can get dry. \\xa0Brussel sprouts were surprisingly good, but the ratios were a bit off on actual Brussel sprouts to other ingredients.48 day dry aged cote de bouef was slightly overcooked and undersalted, but it was still enjoyable. It sucked that some parts of the beef were more delicious than the others, and it felt slightly overpriced, considering how awesome the dry aged beef at Minetta Tavern is for only a bit more.Lamb chops were pretty flavorful, if not a little intense at times.Alright - Fries are good. We mainly ordered it thinking it\\'d get here fast, and we needed something to munch on. Not sure why we\\'re getting fries at a Mediterranean place, but it was decent.Not hot - Labne wasn\\'t popular with any of the 8 at the table. It was barely touched. Mixed Grill had meats that were really dry or just absurdly tough.Dessert - It was pretty average. We got almost one of each, and the pumpkin souffle and labne cheesecake mousse were the only good ones. Usually, most desserts suck at places like this, but these two were alright!It\\'s been a few years since I\\'ve dined at ilili and a lot of things have changed. Fortunately, every change made, made this dining experience even better than the last.The decor and ambiance of the restaurant has not changed and I\\'m glad it hasn\\'t. The wood work and the mix of contemporary trims with classic accents really make the restaurant have character. It\\'s quite a piece of art.The server that we had that night was one of the best I\\'ve had in quite a while. He had full knowledge of the menu, gave us the perfect amount of recommendations, and had just the right amount of intrusiveness that let us know he was our server without making us feel like we were hovered over. Drinks were never empty, plates were always clean, food came out perfectly timed. People, the kitchen doesn\\'t always control the flow of food. Servers make that happen too. The food.... where do I begin. We had 11 mezza, 3 entrees, and 3 desserts. For a party of 4, it\\'s a lot of food but we finished almost everything clean. We started the meal with ilili classics (Cold Mezza) like their signature Hommus, we had it with shrimp(highly recommend), moussaka (my second favorite), chankleesh (my personal favorite, definite must have), and the amazing kibbeh naye. \\xa0Everything was so on point and the flavors mixed with/out the fresh pita bread (which has become even more fluffy and delicious) were just bliss. As for the Hot Mezza, we had the brussel sprouts, (sweet, tart, delicious goodness), arnabeet mekle (fried cauliflower so good), kebab kerez (possibly the most interesting combination of flavors and textures that amazes me every time), manti(fluffy \"dumpling\"), atayef and veal bacon (the Lebanese take on pork buns), duck shawarma (literally everything that is good in life is in here), and black iron shrimp (still good but perhaps the only average dish of the night). I made everyone eat with their hands and told them how to have a good time. For the Mains, we had the Cote de Boeuf (absof#$%inglutly the highlight of the meal), diver scallops, and the Whole Roasted Chicken (the flavors on this chicken and the presentation are to die for). Let\\'s say we just saw bones left on our plates. Holy smokes I\\'m hungry again. Dessert, good ol Knafe bil Jibneh (IF YOU HAVE BEEN TO ILILI AND HAVE NOT HAD THIS OR IF YOU HAVE NOT BEEN TO ILILI, YOU MUST HAVE THIS), sorbets to clean the palette, and the labne cheesecake (interesting mix of yogurt to create a cheesecake flavor).We were so full at the end we couldn\\'t leave for about 20 minutes. I shouldn\\'t wait so long until my next visit here but I live kinda far now... until next time my friend.A girlfriend hosted her birthday dinner here with a group of us. Getting there early I parked myself at the bar for a drink and was greeted by nice staff and a solid drink menu.Upon being seated when our group arrived, we were seated at a large table that felt a little too big for us so it wasn\\'t as intimate as we would have liked. The food options were great for sharing and we ordered multiple rounds after tasting and seeing what we liked. There was an awkward moment when ordering wine when I asked to taste a wine I chose and then didn\\'t like it. It seemed corked and when I raised concerns with the waitress it took quite some time for them to come back with the menu and reconcile my concerns. It\\'s certainly not the first nor the last time something like that will happen, so seeing staff shuffle to get a manager just to make sure I could be provided with another bottle was just bizarre.Not a place I\\'d go out of my way to return to, but wouldn\\'t turn it down if in the neighborhood.A solid four star restaurant. We were so excited when we snagged reservations for ilili, looking at the 2k+ reviews we knew we were in for a treat! \\xa0It was 8pm on a Saturday night and we were out with our good friends, the night was already setting up to be awesome. First off, this place itself is massive! \\xa0We were seated promptly at an adorable table against a wall in one of the dining spaces. \\xa0The restaurant divided up the space so it doesn\\'t feel cavernous, and adds a fun architectural feel to the room with all the wood and 30ish foot ceilings. The decor is simple without being bare, yet upscale in it\\'s furnishings and accents. Although it was Restaurant Week, we opted to graze through the traditional menu - choosing to heed our waiters advice / suggestions for the ultimate meal. \\xa0His suggestions were spot on, and provided us with many dishes we might not have ordered on our own. \\xa0He also recommended a better wine for us, while staying in our price point - I always appreciate that, versus when a waiter suggests a bottle that $45 more than the one we originally picked out.We ordered an array of foods, and below I\\'ll list them out with my thoughts. \\xa0My favorite favorite would be the duck shawarma - which shocked me, as well as the fries (yes, I know, but ... just try them!). \\xa0 Dishes we ordered, below:Cold Mezza::: Baba Ghannouj - I\\'m always such a fan of this eggplant dish wherever I go - it was simple and yum! \\xa0Less garlic than I am used to, but good as a start! \\xa0(Eggplant, tahini, olive oil):: Labne - a slight bit boring to be truthful, tasted very much like plain greek yogurt, I think ours also was missing the roe? (Strained yogurt, olive oil, fresh mint, zaatar, salmon roe):: Tuna Tartare - fantastic! \\xa0Fresh, the lemon and the tuna were beautiful together, plus the pita added texture, a must-order (harissa, lemon, pita):: Chankleesh - super yummy! The waiter mashes up everything together dish - its salty and savory and really flavorful! \\xa0(feta cheese, onions, tomato, zaatar).Hot Mezza::: Black Iron Shrimp: really yummy, our waiter suggested tasting it with the Chankleesh which was really good (jalapeño, garlic, cilantro):: Phoenician Fries: i know, i know - ordering fries at a restaurant?? But our waiter recommended them and we listened - let me tell you - they were SO GOOD. PLUS the garlic whip was divine! (sumac, parsley, garlic whip):: Atayef & Veal Bacon: these looked comical - almost like a mini breakfast sandwich that you might find at mcdonalds or something... mini pancakes making a sandwich. \\xa0It tasted NOTHING like it appeared, they were a bit spicy, very savory, and highly recommend (fig jam, pickles, hot peppers):: Brussels Sprouts: a little too sweet for my taste honestly, but prepared really well - big hit on the table (grapes, fig jam, walnuts, mint yogurt):: Kebab Kerez: absolutely delicious, very sweet/savory with the lamb&beef combo in the cherry sauce... yum! (lamb & beef meatballs, cherry sauce, kataifi, scallions):: Duck Shawarma: my favorite dish of the night - 3 come to a serving, I believe so they added an extra for us - all the best flavors of shawarma, amplified. \\xa0There was a sauce on them, which I would have happily drunk with a straw! (duck magret & chicken, fog jam, green onion, garlic whip)Overall, one of my favorite things to do is to eat a bunch of different types of food - I really enjoy eating tapas style. \\xa0Because of this, there was little of the menu which we didn\\'t get to sample. \\xa0Solid experience, great food, and really fun atmosphere!Honestly, my review might be a little biased but regardless I would like to share experience. Ambiance is very chic. Hostess were courteous as well as the server and waiter. On the contrary, food is not something I would rave too much on. I\\'m hoping your experience will be better. I got there around 7:05pm and although they advised it would be 5 mins, I didn\\'t get seated for about 30 mins. For the amount of money I paid (this cannot be because it\\'s Manhattan, New York as my experience has been different at other restaurants), food was ok. \\xa0If you enjoy eating Arabic food, this isn\\'t the place to be. However, as I mentioned earlier that my review may be biased, my colleagues who recommended me to this restaurant feel this is a good place. Apologies for contradicting review.The food was so varied and amazing. Service was good. Great for a date night. I would definitely be interested in going back.Great ambience, interior decor. Looks very fancy, but i didnt really enjoy the food. I thought it is overpriced. The waiter was pretty sassy. Even though I asked him, he never mentioned any name of the dish so it was pretty hard to figure out which one is which. He just seemed pretty busy just putting dishes on the table. I kinda enjoyed the experience here, but would not go back again.My friends and I decided to check out ilili during Restaurant Week last week. I love mediterranean food, so I was really looking forward to some of the items they had on the menu. We had a reservation and were seated right away. Walking through the restaurant was quite an experience-- there were mirrors everywhere, so the place looks a lot bigger than it probably is. The decor was awesome! When we were seated, we were greeted by our server given the menu. Our waiter was awesome. He was outgoing, funny and helpful with any questions we asked. I told him that I couldn\\'t eat any dairy and he walked through each and every Restaurant Week menu item, telling me if it had dairy or if it could be made without it. When it came to the dessert options, he realized that each option was no good, so he actually had the kitchen make sorbet special for me! I wish I got out waiter\\'s name because he was really patient in explaining all my options. Instead of the typical one appetizer, one main, and one dessert, ilili lets you order two appetizers off the Restaurant Week menu. So I ordered the Mouhamara, and Moussaka. I\\'ve had Moussaka before, but I\\'d never heard of Mouhamara so I figured it would be a good time to try it out. When they came out, they were not really what I expected-- the Moussaka was basically just cold chunks of eggplant with some other vegetables and seasonings. Usually, I equate Moussaka to a mediterranean lasagna but this version didn\\'t have any layers, and didn\\'t appear to be baked since it was served cold. That being said, I still really enjoyed both appetizers. Just as we were about finished with the apps, they put out the main course. This was a little confusing though, because they hadn\\'t yet removed the appetizer plates. \\xa0For my entree, I ordered the Lamb Makloubeh (which I still can\\'t pronounce), and it was very good. The chunks of lamb almost melted in your mouth, although the pieces were pretty big and hard to cut with my knife. In addition to the lamb, the dish had \"dirty rice\" and fried eggplant. Not sure what made this rice \"dirty,\" but I was a fan. Finally, this dish came with a cup of yogurt that you were supposed to stir into the lamb to mix it all together (\"Sort of like oatmeal,\" my waiter told us). I didn\\'t eat the yogurt with my dish, but I suppose it would have enhanced the dish. By the time the desserts came out, I was honestly stuffed. At first, the idea of getting two appetizers sounded great but in hindsight, it was so much food. I don\\'t think I completely finished any one course that came out. Like I mentioned before, my waiter was kind enough to arrange a dairy-free dessert option for me which ended up being three scoops of sorbet: pear ginger, apple fennel, and raspberry pomegranate, I believe. This sorbet was really delicious. The only downside was that upon taking my first spoonful, I found a huge green piece of dried food stuck to the underside of the spoon. Disgusting. When I told our waiter, he apologized profusely and took the spoon and the sorbet back to get me new ones. The only problem is that I\\'m pretty sure they forgot about me. I probably waited about 15 minutes for the new sorbet to come out. I realize they did me a favor by giving me an option that wasn\\'t on the restaurant week menu, but waiting for 15 minutes was unacceptable, especially after discovering a dirty spoon in my mouth. I appreciated how surprised and apologetic he was, but he really made us wait too long. All in all, I\\'m happy I came here to experience some new dishes, but the dirty spoon was a major turn-off.The food is great. Best tabbouleh I\\'ve ever had. The cauliflower was also a huge hit, served over a bed of labneh. The big downside was the noise level. We were a table of six and I was only able to talk to the people on either side of me.My friends and I came into Ilili for Restaurant Week dinner after the delish looking menu on the website. We had a 7pm reservation and were seated right away upon arrival. Our waiter popped over to explain the RW process and get our drinks. For the meal, I had the falafel and cauliflower to start, gnocchi for the entree, and candy bar for dessert. The best part for me was the candy bar. The rest, sadly looked better than it tasted. The two appetizers were very heavy and the entree was overpowered with the taste of tomato, not to mention the gnocchi was breaded, which I was not expecting. The meal was also timed poorly. They brought out the entrees while we were still eating our appetizers, but we waited what felt like 30 mins between the entree and dessert. Then they brought my friend a dirty spoon, which she started to eat her dessert with. Once she noticed and called the waiter over, he brought her a new dessert, but we waited another 10-15 mins for that to come. Ambiance was interesting. It has a clubby vibe to it. When we first got there it was quieter, but as the night when on the music was turned up and the volume around us got pretty loud too. You are seated very close to everyone around you, we often had to yell at our waiter for him to hear us. On that note, the service was the only reason this place didn\\'t lose more stars. Our waiter was really great and friendly throughout the meal. Overall, this was a RW miss for me. I was really hoping to find a new Lebanese/Mediterranean favorite, but it just fell flat.Good Mediterranean food with filling portion sizes. Their falafel and lamb shoulder is a must try. \\xa0Definitely recommend!Great atmosphere for date night or a night out with friends. If you\\'re looking to go out with someone, definitely reserve a table in advance so they give you one of he nice tucked away spots otherwise its too loud in the other rooms. There\\'s three different rooms for dining and a separate bar. Pretty modern vibes and definitely a place where you can get a bit more dressed up.The food was phenomenal. There was a pre-fix menu but we decided to order a la carte. The first page was a bunch of sharable plates and the second was the main dishes/meat dishes. So we got the baba ganoush, the falafel and the manti + the lamb makloubeh. Everything tasted amazing and it was the perfect amount for two people. We came for my boyfriends birthday so we ordered dessert, the ilili candy bar, and they gave us a candle and wrote happy birthday but the best part was the dessert itself. It tasted so good!The service was quick, and helpful, and super nice. And although the price came out to $150+ (that was plus drinks), it was a pretty great night.Booked here through open table for restaurant week but didn\\'t realize restaurant week isn\\'t exactly in effect Saturday\\'s and sundays. We ordered some cocktails, the mule and the cider (cider was better). I read some reviews that the appetizers were better than the entrees, and with how the entrees were priced it was an easy decision to go ham on the apps. Burrata, cheese rolls, Brussel sprouts and lamb meatballs. All listed in order of best to okay. The burrata was really, really good. Great service, great space. Probably would try a different Mediterranean spot before revisiting.Firstly this is a nice upscale fine dining. Great ambience n The interiors are so good. We came here for restaurant week dinner. It\\'s a pre fix menu$42 per head. It\\'s a four course meal, it was just perfect each \\xa0item was so amazingly delicious.We took cauliflower, hummus,steak tartare for appetizer.Where we took the lamb shank, it\\'s a different version of biryani n very rich and bold flavors. The desserts were the to die for, we took Panna Cotta and the dark chocolate. Loved this place will finally come here again.Ilili has been on my list of places to visit for some time, and what better way to celebrate Restaurant Week with a visit? The four-course menu left us extremely full. Neither me nor my friend finished any one plate, and we actually took the main home for leftovers! Two full-size appetizers each, one main, and one dessert. We were stuffed!Appetizers were 8/10. We loved the hummus; very light and fresh, with an assortment of toppings to choose from. The jalapenos were cut into massive pieces and thrown on top, though. Too much for our taste. We tried the moussaka and both loved it; IMO the best appetizer. I ordered the steak tartare and am disgusted thinking about it! It tasted like room-temp insides of a sausage. An uncooked, room-temp, blended sausage. It was awful! The massive jalapenos from the hummus made an appearance on this dish as well, accompanied by blunt-cut white onion chunks. Neither made the meat tolerable. I felt sick just looking at it. Luckily, the main course redeemed the meal. I ordered the Lamb Makloubeh and absolutely loved every bite! The lamb was perfectly seasoned, and sliced in a way, yet tender enough to pull with a fork, that it touched every bite. Dirty rice? I don\\'t care why it\\'s brown, it\\'s delicious. Best rice, lamb, and sauce I\\'ve had - separately and together - and that\\'s saying a lot as I\\'m Greek. Excellent use of toasted pistachios and macadamia nuts. By dessert, we were SO full, but ordered the panna cotta and Knafe Bil Jibneh. I absolutely loved the panna cotta; light and flavorful, topped with the freshest grapefruit and pomegranate seeds. The Knafe was very unusual. It took 20 minutes to prepare, and tasted like a sweet baked cheese (not overpowering, almost like the texture of baked mozzarella with the flavor of paneer), but coated in cinnamon sugar! All together, it tasted like cinnamon toast crunch and mozzarella sticks - weird, I know, but worth a taste for those of you tired of the standard creme brulee and chocolate bomb after dinner.'"
      ]
     },
     "execution_count": 12,
     "metadata": {},
     "output_type": "execute_result"
    }
   ],
   "source": [
    "ilili_string"
   ]
  },
  {
   "cell_type": "markdown",
   "metadata": {},
   "source": [
    "# get en-japanese-brasserie reviews"
   ]
  },
  {
   "cell_type": "code",
   "execution_count": 13,
   "metadata": {
    "collapsed": true
   },
   "outputs": [],
   "source": [
    "japanese=get_review('https://www.yelp.com/biz/en-japanese-brasserie-new-york?sort_by=date_desc')"
   ]
  },
  {
   "cell_type": "code",
   "execution_count": 14,
   "metadata": {
    "collapsed": true
   },
   "outputs": [],
   "source": [
    "japanese_review=japanese[6:11]"
   ]
  },
  {
   "cell_type": "code",
   "execution_count": 15,
   "metadata": {},
   "outputs": [
    {
     "data": {
      "text/plain": [
       "'This is my favorite Japanese restaurant in NYC so I\\'ve been here many times. \\xa0Finally took my SO here for his birthday and it didn\\'t disappoint. \\xa0We sat at the bar area (my favorite place to sit) where you can watch the chefs cook since there\\'s a very open kitchen. \\xa0It\\'s the best seat since there\\'s bright lighting and you can watch all the dishes being prepared. \\xa0We ordered the fresh homemade tofu (warm), big eye tuna and avocado salad, the black miso cod, and the salmon with salmon roe clay pot rice. \\xa0The clay pot rice takes 40 minutes to prepare so you should order that first. \\xa0My favorite dishes were the salmon clay pot rice and the cod. \\xa0The server distributed the salmon rice to everyone and then you add salmon roe and shiso to your liking. \\xa0The rice was hot and the crispy bits were my favorite part. \\xa0The black miso cod was buttery and totally melts in your mouth. \\xa0The crispy cod skin was the best part. \\xa0Service was great as usual - the servers and waiter were fast and very attentive to every detail. \\xa0Since it was someone\\'s birthday, they put a candle and a sign with dessert. \\xa0If you have a group, book a tatami room in the back, really nice private area for a large group. \\xa0I\\'ll definitely be back sometime soon.We came here because my bro in law was craving black cod w/ miso and the my go-to spot for this dish (Aburiya Kinnosuke) didn\\'t have any availability.I found the flavor of miso cod a little on the bland side and it seemed to me portion size of this dish was too small, even factoring in a) Japanese portion sizes and b) the dish isn\\'t typically a large dish. \\xa0We tried a variety of things and for Kyoto style food, this was pretty average. The couple of dishes I liked were the agedashi tofu and the shoyu braised pork belly with lotus roots (under the obanzai section).Overall, we enjoyed our time here. \\xa0The space is nice with high ceilings and since we had a 2 year old with us, it was nice not to be cramped. \\xa0The service was decent. \\xa0Probably will not return though.Got the vegan kaiseki (Nohara) and loved it!The kaiseki is incredibly filling-I was dying by the end of mine vegan one, and two of the three others in my party that got the other two gave up \\xa0trying to eat theirs toward the end, lol. The meal is also incredibly long, so make sure you have 4-5 hours to spare for dinner!The dishes worth noting from this kaiseki are the zensai (starter), smoked shira ae salad-smoked tofu sauce is AMAZING, and 15 grain rice pot with the mushroom. Everything else was pretty good,but not exceptional. I sampled some of the dishes from the other two kaisekis-the grilled black cod is really good, but the lobster and scallop from the other one isn\\'t, especially if you like traditional Asian seafood, and not the citrus-y bullshit on your lobster. I got the hot ginger drink with my meal and loved it, but hot tea would also have been nice.The two older people in our party wanted to share a kaiseki because old people don\\'t have much of an appetite, but unsurprisingly, the restaurant does not allow that--preserving the integrity of the dish/chef\\'s artistry, or profit incentive? Probably the same thing haha. Would still love to be back for the smoked tofu and mushroom rice pot. A great alternative to other, raw fish Japanese options out there.I just had the food at this restaurant. Something happened really awful and totally ruined the experience. My friends and I all had the soyo kaze meal. Everything exceeded our expectation until we get the warm soba.We tended not to like the taste of the soba very much, but the overall experience was good. Soon, I discovered an iron spring (it seems it is from a scouring pad). I felt it was very very dangerous and it could cut my throat if I swallowed it. I immediately stopped the waitress and told her about this thing, she took it right away just like nothing happened. When she was serving the ice cream, she also served a chocolate cake and told us the cake was on the restaurant. Still, didn\\'t say sorry to us. Maybe the leader of the waiters discovered that we were upset and came with a chestnut cake and expressed her sorry to us. We just took a bite of the cake, and they are too sweet and none of us like it. On the way back, I feel I could went to emergency room if I swallowed that. It was so dangerous. And the scouring pad thing made me feel that the soba was boiled in the dish water and all of us felt it was disgusting.I liked the restaurant before taking the soba, but not anymore. I am very upset about the restaurant for majorly 2 points.1. The scouring pad is in the soba noodle is dangerous and disgusting.2. The waitress\\' attitude toward this incident is indifferent.Organised a lunch here well in advance via open table for a celebration. The table was booked for Friday Jan 26th at 2:15pm. Two of us arrived at 2:10pm. Were seated for 2:17pm and subsequently told the kitchen closed at 2:25pm. We\\'d a total of 8mins to order and as one of our guests hadn\\'t arrived yet we were told \"you should order for them otherwise they won\\'t be able to eat\".... eh sorry WHAT?Why they\\'d take the reservation for 10mins prior to the kitchen closing no one knows. Such bad unapologetic service. We were left with no choice but to leave and find a new restaurant that would actually serve us food.Thankfully we got a table in The Clam who were incredibly nice, knowledgeable and accommodating.'"
      ]
     },
     "execution_count": 15,
     "metadata": {},
     "output_type": "execute_result"
    }
   ],
   "source": [
    "jap_string=to_string(japanese_review)\n",
    "jap_string"
   ]
  },
  {
   "cell_type": "markdown",
   "metadata": {},
   "source": [
    "# get japanese 2017 reviews"
   ]
  },
  {
   "cell_type": "code",
   "execution_count": 16,
   "metadata": {
    "collapsed": true
   },
   "outputs": [],
   "source": [
    "japanese_2017_1=get_review('https://www.yelp.com/biz/en-japanese-brasserie-new-york?start=60&sort_by=date_desc')"
   ]
  },
  {
   "cell_type": "code",
   "execution_count": 17,
   "metadata": {
    "collapsed": true
   },
   "outputs": [],
   "source": [
    "japanese_2017_2=get_review('https://www.yelp.com/biz/en-japanese-brasserie-new-york?start=80&sort_by=date_desc')"
   ]
  },
  {
   "cell_type": "code",
   "execution_count": 18,
   "metadata": {},
   "outputs": [
    {
     "data": {
      "text/plain": [
       "10"
      ]
     },
     "execution_count": 18,
     "metadata": {},
     "output_type": "execute_result"
    }
   ],
   "source": [
    "jap_review_2017=japanese_2017_1[16:]+japanese_2017_2[:6]\n",
    "len(jap_review_2017)"
   ]
  },
  {
   "cell_type": "code",
   "execution_count": 19,
   "metadata": {},
   "outputs": [
    {
     "data": {
      "text/plain": [
       "\"Location; west village closed to TriBeCa. This place is high-end Japanese fusion ! Place is divided by two parts based on its function: a bar session and dining area. They made reservation in case things went wild and we were very glad that we did because people were waiting for tables...Food: had their all three kaiseke n one of them was vegan. There are some great part like their soymilk and chicken dish. Most are just Delish. Service: very professional they introduced how each cuisine customer should eat and how they made of. Price: $$$Overall: goodEverything I've had here is excellent. Beautiful place and Japanese service. The soft tofu is worth the trip. Very expensive.I was there for my birthday and I have a phenomenal time! The food was delicious, the servers were great and the atmosphere was very relaxing but also upbeat! I would definitely recommend this place to anyone. The truffle chawamushi is to die for! The En Kaiseki is a great seven course meal that does not disappoint!I adore this place for UNI. I cannot get enough of all the uni and ikura options they have available. Their cocktails are amazing too. I come here when I have the craving for UNI and I want the best. I don't normally order rolls from here but this time I did. I have however been to EN many times and I have had some rolls I did not enjoy. I stick with my tried and true Uni , sashimi, salmon clay pot and I always enjoy their chamanmushi (steamed egg)Overpriced, mediocre food. Poor service. Very poor seating arrangements and general atmosphere. \\xa0This place practically belongs in times square, its very out of place in the neighborhood. The quality returned for the price is appalling in every aspect of the experience. Pass on this place, there are far better options.I highly doubt Ill be back for a second try.Oh My God. I love this place. Not just my favorite Japanese restaurant, but my favorite restaurant \\xa0PERIOD. Everything about my experience was A+. We had reservations for 8:30 and we were seated right away. The server was friendly and helpful. The food was delicious. You can tell the staff is so attentive and they go out of their way to make sure you're enjoying your night. The food came out in a very timely manner. My review is all over the place but this place is just amazing. I will be recommending it and returning soon!WOW! I decided to take my girlfriend out on a date to this delicious restaurant. After hearing many great reviews about it, I wanted to personally check it out myself. This is by far one of the best dining experiences we've ever had. The decor in the restaurant is classy and extremely fitting to what they server there, very Japanese like. We had wagyu beef and they specifically took the wagyu steak to show us before cooking it, which was very new to us and unexpected. The salmon nigiri was phenomenal and we'd order 10x of them if we were to go back, which I'm sure we will. We did order other things on the menu as well and they were equally as delicious. This is the place to go on a nice date.I'm so disappointed to see how much EN has changed since I first came 12 years ago and again 4 years ago. I dined there last week with my boyfriend, and man what a waste of money that experience was. Don't get me wrong, I don't mind spending $170, but the food needs to be top quality along with the service. Unfortunately we had neither. Our server was totally awkward and pretentious, and continued to interrupt our conversation every two minutes or so. Terrible intuition and situational awareness. Also he constantly tried to upsell us in a very obvious way (it's not like we each ordered a Miso soup- we dished out almost $200). My boyfriend's chicken dish was inedible. We are not chefs, but we could have made a more appetizing chicken at home. His lotus root appetizer tasted disgusting. Uni is one of my favorite foods, and I was really bored by the uni dish. It was TINY. I really regret going there and in hindsight should have gone to Yasuda.So so delicious. I am so sad it's so far from where I live. I enjoyed a 3 hour lunch recently - Food was so delicious that even though I was stuffed, I had to keep eating. Truly authentic Japanese sensibility in flavors, textures, and presentation.Some nice non-typical selections as well. the Shiso fried rice - was to die for. The ginkgo nut appetizer was so unusual but perfect with my ginger cocktail.Price was also very reasonable and service was great!Food and ambiance is really nice here! \\xa0Enjoyed the Black Cod, Anago Bozushi roll, Aburi Salmon and Avocado roll, and the sea trout. \\xa0Not a huge fan of the Ishinko (assorted pickles). \\xa0I could do without that. \\xa0Edamame was different yet tasty. \\xa0Definitely coming back to try some of the other dishes!\""
      ]
     },
     "execution_count": 19,
     "metadata": {},
     "output_type": "execute_result"
    }
   ],
   "source": [
    "jap_string_2017=to_string(jap_review_2017)\n",
    "jap_string_2017"
   ]
  },
  {
   "cell_type": "markdown",
   "metadata": {},
   "source": [
    "# get Fig & Olive Uptown reviews 2017"
   ]
  },
  {
   "cell_type": "code",
   "execution_count": 20,
   "metadata": {
    "collapsed": true
   },
   "outputs": [],
   "source": [
    "fig2017=get_review('https://www.yelp.com/biz/fig-and-olive-uptown-new-york?start=20&sort_by=date_desc')"
   ]
  },
  {
   "cell_type": "code",
   "execution_count": 21,
   "metadata": {},
   "outputs": [
    {
     "data": {
      "text/plain": [
       "[('5.0 star rating',\n",
       "  '\\n        3/1/2017\\n    ',\n",
       "  'Great food and atmosphere. The waitress was really helpful and looked happy to work there. Nothing better than a happy person serving you. I tried their sliders with fries and they were great. Will definitely go back to try more of their appetizers.'),\n",
       " ('4.0 star rating',\n",
       "  '\\n        2/17/2017\\n    ',\n",
       "  \"I had an absolutely delightful dinner here with my mom. She was in town for the weekend and we wanted a nice, leisurely spot to catch up. The restaurant has a lovely interior and we were seated at a high top close to the window allowing us to watch those passing by. The menu had so many yummy options we had trouble deciding! We went with the crostinis for an appetizer which were good but not my absolute fave. I LOVED the kabocha risotto. The fried sage and pumpkin seeds were the perfect touch. I wouldn't recommend getting the chicken on it however. The chargrilled taste of the meat too away from the pasta. Anyways I would definitely come again.\"),\n",
       " ('5.0 star rating',\n",
       "  '\\n        2/12/2017\\n    ',\n",
       "  'I stopped by here on a Friday evening after a long day of work and decided to treat myself to a nice glass of Château du Caillou Malbec while reading my ebook. I eventually got hungry and ordered from the Prix Fixe menu the truffle mushroom croquette (my absolute fave), penne funghi, and pot de crème. Everything was delicious and the staff was excellent and very attentive.'),\n",
       " ('3.0 star rating',\n",
       "  '\\n        2/6/2017\\n    ',\n",
       "  'Overall a nice experience. Relaxing atmosphere, fast service, surprisingly generous appetizer portion (burrata and beats - amazingly balanced, very tasty dish), and small entree dish (branzino with roasted potatoes). Filet wasn\\'t a good portion at all and at first I thought potatoes would be on a separate dish that wasn\\'t brought out yet, since I didn\\'t see them on the plate in front of me... until I poked the filet and caught a glimpse of potatoes underneath. Didn\\'t find anything attractive on the dessert menu, ordered something that had \"soufflé\" in the title and got unexpected cherry sorbet instead.'),\n",
       " ('4.0 star rating',\n",
       "  '\\n        2/4/2017\\n    ',\n",
       "  \"My friend and I made a reservation for 6:30pm on a Wednesday. It wasn't too crowded at that time but became more crowded around 8:30pm/9pm. We both opted for the prix fixe menu, which was surprisingly cheap at on $38 for an appetizer, entrée and dessert. I also ordered a white wine spritzer. The food and drinks were great and I recommend this chain for business meetings, first dates and lunch with friends. They also participate in restaurant week.\")]"
      ]
     },
     "execution_count": 21,
     "metadata": {},
     "output_type": "execute_result"
    }
   ],
   "source": [
    "fig_review_2017=fig2017[3:8]\n",
    "fig_review_2017"
   ]
  },
  {
   "cell_type": "code",
   "execution_count": 22,
   "metadata": {},
   "outputs": [
    {
     "data": {
      "text/plain": [
       "'Great food and atmosphere. The waitress was really helpful and looked happy to work there. Nothing better than a happy person serving you. I tried their sliders with fries and they were great. Will definitely go back to try more of their appetizers.I had an absolutely delightful dinner here with my mom. She was in town for the weekend and we wanted a nice, leisurely spot to catch up. The restaurant has a lovely interior and we were seated at a high top close to the window allowing us to watch those passing by. The menu had so many yummy options we had trouble deciding! We went with the crostinis for an appetizer which were good but not my absolute fave. I LOVED the kabocha risotto. The fried sage and pumpkin seeds were the perfect touch. I wouldn\\'t recommend getting the chicken on it however. The chargrilled taste of the meat too away from the pasta. Anyways I would definitely come again.I stopped by here on a Friday evening after a long day of work and decided to treat myself to a nice glass of Château du Caillou Malbec while reading my ebook. I eventually got hungry and ordered from the Prix Fixe menu the truffle mushroom croquette (my absolute fave), penne funghi, and pot de crème. Everything was delicious and the staff was excellent and very attentive.Overall a nice experience. Relaxing atmosphere, fast service, surprisingly generous appetizer portion (burrata and beats - amazingly balanced, very tasty dish), and small entree dish (branzino with roasted potatoes). Filet wasn\\'t a good portion at all and at first I thought potatoes would be on a separate dish that wasn\\'t brought out yet, since I didn\\'t see them on the plate in front of me... until I poked the filet and caught a glimpse of potatoes underneath. Didn\\'t find anything attractive on the dessert menu, ordered something that had \"soufflé\" in the title and got unexpected cherry sorbet instead.My friend and I made a reservation for 6:30pm on a Wednesday. It wasn\\'t too crowded at that time but became more crowded around 8:30pm/9pm. We both opted for the prix fixe menu, which was surprisingly cheap at on $38 for an appetizer, entrée and dessert. I also ordered a white wine spritzer. The food and drinks were great and I recommend this chain for business meetings, first dates and lunch with friends. They also participate in restaurant week.'"
      ]
     },
     "execution_count": 22,
     "metadata": {},
     "output_type": "execute_result"
    }
   ],
   "source": [
    "fig_string_2017=to_string(fig_review_2017)\n",
    "fig_string_2017"
   ]
  },
  {
   "cell_type": "markdown",
   "metadata": {},
   "source": [
    "# get Thalassa Restaurant reviews 2017"
   ]
  },
  {
   "cell_type": "code",
   "execution_count": 23,
   "metadata": {
    "collapsed": true
   },
   "outputs": [],
   "source": [
    "tha2017_1=get_review('https://www.yelp.com/biz/thalassa-restaurant-new-york?start=40&sort_by=date_desc')"
   ]
  },
  {
   "cell_type": "code",
   "execution_count": 24,
   "metadata": {
    "collapsed": true
   },
   "outputs": [],
   "source": [
    "tha2017_2=get_review('https://www.yelp.com/biz/thalassa-restaurant-new-york?start=60&sort_by=date_desc')"
   ]
  },
  {
   "cell_type": "code",
   "execution_count": 25,
   "metadata": {},
   "outputs": [
    {
     "data": {
      "text/plain": [
       "['5.0 star rating',\n",
       " '\\n        2/4/2017\\n    ',\n",
       " \"THE BEST!! Great service, delicious Mediterranean food, beautiful space, and the epitome of professionalism.My new wife and I came across Thalassa last year while searching online for a venue for our wedding reception (extended cocktail style). \\xa0We had been very disappointed by several of NYC's top restaurants due to their lack of attention, communication, and detail. When we contacted Thalassa, we were introduced to their general manager, Tasso. He was the game-changer! It quickly became clear that Tasso was extremely detail-oriented, communicative, and dedicated to ensuring our satisfaction. This effort, exhibited before we had even tasted menu items, put Thalassa at the top of our list.I scheduled a tasting with Tasso, on a busy Saturday night no less, and he could not have been more accommodating. He toured me around his beautiful restaurant while my fiancee was FaceTime'ing with us. We immediately fell in love with the wine cellar, which is furnished with masterfully hand-crafted Greek wood tables. Then I began wine tasting. The selection is to die for! Afterwards, I began sampling several items from the Private Events Menu. The freshness, quality, and delectability of each bite was almost overwhelming. That locked us in. In the weeks leading up to the wedding, Tasso was communicating with us regularly and responding to any questions we had. Truly attentive.Needless to say, our wedding reception went off exquisitely. Tasso even made arrangements for our live singers to perform using the on-site PA system. We received countless compliments on the food and service provided my Thalassa's staff. The tastiness of the food reflected its beautiful presentation. The bartenders and butlers were always available to us and our guests. Many of our friends and family also commented on the beautiful decor and ambiance. We did not decorate a thing. That's just how Thalassa rolls.Thalassa, Tasso, and Chef Ralpheal Abrahante were the BEST! I wish I could add more stars to this review.\",\n",
       " ('4.0 star rating',\n",
       "  '\\n        1/29/2017\\n    ',\n",
       "  \"UPDATE: there was an accidental billing mishap. i called and left a message. the owner, Steve, checked voice mails even though they were closed on sunday. he called me back immediately to address my concern and promised to correct the mistake on monday. really amazing customer service from the owner. However, not really excited by my interaction with the GM and the solution/info offered to rectify my situation. Dropping a star for this. Not what I hoped for from a higher end place. Otherwise, still a solid 4 star experience.soooooo tasty! we went here for restaurant week and everything was perfect. the ambiance, though definitely greek, is more like a hip night club and the food has similar flare... for example, we sat across from an aesthetically pleasing display of frozen sea creatures surrounded by the neon lights of a euro dance party... i never thought i would write that sentence... but this place took a common outdoor market experience and made it swank. much like my entrée: baked salmon wrapped in grape leaves, served on top of artichoke hearts... it looked like a trendy nori sushi hand roll burrito thing... but had all the classic comforting greek flavors i hoped for! this place really focuses on cultivating their own playful style twist when it comes to traditional greek elements.i couldn't afford things if i had come for a regular meal. dear restaurant: thank you for offering such a hearty and well-priced meal set for NYC restaurant week 2017. and for my fellow SIBO pals (low fodmap, paleo, gluten free, dairy free crowds), if you want to check out restaurant week yourself, I know you will be given the same consideration and excellent customer care! here's what I recommend... (be flexible with sugar & garlic)table food: no gluten free bread, so ask for cut cucumbers to dip in oil. the olives are great! the hummus is made from fava beans (i think?)appetizer: the grilled octopus was delightful. i was bad and ate the drizzled sauce, but you could easily avoid it if you wanna be strictmeal 1: salmon crudo & zucchini flower shrimp salad are both great options; citrus lovers rejoice! meal 2: baked salmon wrapped in grape leaves... yummmmers! or the lamb but watch out for spinach risotto. i tried a little of my friend's risotto and it was waaaaay too delicious to be appropriate for us food sensitive types ;) but normal eaters, please chow down and enjoy so i may continue to vicariously enjoy the yums through your spinach risotto appreciation posts! meal 3: i didn't even ask for a moderation; our waiter offered fresh berries + mint leaves for my dessert. it was sprinkled with such a perfect sugar drizzle... so i was bad and also gobbled that up real quick! but the sugar was not much. i'm sure you could ask to avoid additional sugar. it was perfectly ripe blackberries and strawberries. drink: white wine is a good option to split with the table. we had dry rosé... which is also not recommended for SIBO foodies (dry white is the only wine friendly option) but the dry pink rosé is a moderately not-so-bad SIBO choice... especially if you stick to 1 glass... which I didn't, annnnd I got so drunk I knocked over my glass (if you are reading restaurant staff: i'm sorry i was a giggly drunk mess towards the end!)so to recap: regular people, come eat this delicious meal. people with gastrointestinal troubles, come eat this meal. all people who want a swanky friday night NYC restaurant week experience, come eat this meal.\"),\n",
       " ('5.0 star rating',\n",
       "  '\\n        1/28/2017\\n    ',\n",
       "  \"We had our wedding here, and it was incredible! \\xa0So many of our guests said it was the best wedding they'd ever been to, the best food they'd ever had at a wedding, and we owe it entirely to the Thalassa staff (especially Tasso, the event coordinator). \\xa0From day one Tasso was so helpful in our planning - everything from figuring out the contract, to scheduling a tasting, to working out the timeline on the day of, to accepting deliveries and packages for our event.The restaurant was gorgeous for our wedding, and the staff was so great - guests never had an empty glass, plates were cleared immediately, our cake and cupcakes were presented and served perfectly - the entire day was completely seamless and smooth because of their expertise and impeccable service. \\xa0We can't wait to go back and celebrate anniversaries and other occasions at Thalassa - we highly recommend them for any event you are considering. \\xa0They helped give us the best day of our lives!\")]"
      ]
     },
     "execution_count": 25,
     "metadata": {},
     "output_type": "execute_result"
    }
   ],
   "source": [
    "tha2017_review=list(tha2017_1[19])+list(tha2017_2[:2])\n",
    "tha2017_review"
   ]
  },
  {
   "cell_type": "code",
   "execution_count": 26,
   "metadata": {},
   "outputs": [
    {
     "data": {
      "text/plain": [
       "\"0 EUPDATE: there was an accidental billing mishap. i called and left a message. the owner, Steve, checked voice mails even though they were closed on sunday. he called me back immediately to address my concern and promised to correct the mistake on monday. really amazing customer service from the owner. However, not really excited by my interaction with the GM and the solution/info offered to rectify my situation. Dropping a star for this. Not what I hoped for from a higher end place. Otherwise, still a solid 4 star experience.soooooo tasty! we went here for restaurant week and everything was perfect. the ambiance, though definitely greek, is more like a hip night club and the food has similar flare... for example, we sat across from an aesthetically pleasing display of frozen sea creatures surrounded by the neon lights of a euro dance party... i never thought i would write that sentence... but this place took a common outdoor market experience and made it swank. much like my entrée: baked salmon wrapped in grape leaves, served on top of artichoke hearts... it looked like a trendy nori sushi hand roll burrito thing... but had all the classic comforting greek flavors i hoped for! this place really focuses on cultivating their own playful style twist when it comes to traditional greek elements.i couldn't afford things if i had come for a regular meal. dear restaurant: thank you for offering such a hearty and well-priced meal set for NYC restaurant week 2017. and for my fellow SIBO pals (low fodmap, paleo, gluten free, dairy free crowds), if you want to check out restaurant week yourself, I know you will be given the same consideration and excellent customer care! here's what I recommend... (be flexible with sugar & garlic)table food: no gluten free bread, so ask for cut cucumbers to dip in oil. the olives are great! the hummus is made from fava beans (i think?)appetizer: the grilled octopus was delightful. i was bad and ate the drizzled sauce, but you could easily avoid it if you wanna be strictmeal 1: salmon crudo & zucchini flower shrimp salad are both great options; citrus lovers rejoice! meal 2: baked salmon wrapped in grape leaves... yummmmers! or the lamb but watch out for spinach risotto. i tried a little of my friend's risotto and it was waaaaay too delicious to be appropriate for us food sensitive types ;) but normal eaters, please chow down and enjoy so i may continue to vicariously enjoy the yums through your spinach risotto appreciation posts! meal 3: i didn't even ask for a moderation; our waiter offered fresh berries + mint leaves for my dessert. it was sprinkled with such a perfect sugar drizzle... so i was bad and also gobbled that up real quick! but the sugar was not much. i'm sure you could ask to avoid additional sugar. it was perfectly ripe blackberries and strawberries. drink: white wine is a good option to split with the table. we had dry rosé... which is also not recommended for SIBO foodies (dry white is the only wine friendly option) but the dry pink rosé is a moderately not-so-bad SIBO choice... especially if you stick to 1 glass... which I didn't, annnnd I got so drunk I knocked over my glass (if you are reading restaurant staff: i'm sorry i was a giggly drunk mess towards the end!)so to recap: regular people, come eat this delicious meal. people with gastrointestinal troubles, come eat this meal. all people who want a swanky friday night NYC restaurant week experience, come eat this meal.We had our wedding here, and it was incredible! \\xa0So many of our guests said it was the best wedding they'd ever been to, the best food they'd ever had at a wedding, and we owe it entirely to the Thalassa staff (especially Tasso, the event coordinator). \\xa0From day one Tasso was so helpful in our planning - everything from figuring out the contract, to scheduling a tasting, to working out the timeline on the day of, to accepting deliveries and packages for our event.The restaurant was gorgeous for our wedding, and the staff was so great - guests never had an empty glass, plates were cleared immediately, our cake and cupcakes were presented and served perfectly - the entire day was completely seamless and smooth because of their expertise and impeccable service. \\xa0We can't wait to go back and celebrate anniversaries and other occasions at Thalassa - we highly recommend them for any event you are considering. \\xa0They helped give us the best day of our lives!\""
      ]
     },
     "execution_count": 26,
     "metadata": {},
     "output_type": "execute_result"
    }
   ],
   "source": [
    "tha_string_2017=to_string(tha2017_review)\n",
    "tha_string_2017"
   ]
  },
  {
   "cell_type": "markdown",
   "metadata": {},
   "source": [
    "# get all reviews from restaurants"
   ]
  },
  {
   "cell_type": "code",
   "execution_count": 27,
   "metadata": {
    "collapsed": true
   },
   "outputs": [],
   "source": [
    "figny2018='Excellent service, fantastic food, and great atmosphere. The first floor has a large bar and seating that it modern and hip. Upstairs feels more cozy with the wicker chairs. Everything from the risotto to the mushroom courquette with the black truffle, it \\xa0was scrumptious! The olive cake was fantastic. The menu is certainly pricey but its great food and a grear experiences. The cocktails were okay, nothing special, but they were good and strong. Overall looking forward to going back.Came here for Valentine\\'s dinner prior to a concert at Carnegie. Comfortable atmosphere and not too loud. Seating was comfortable and not too crammed. The prix fix menu had enough of a selection. We both had the lamb and it was great. Also the drinks - summer in Provence - was delicious. I would like to go back and explore the whole menu.Had dinner here on Saturday evening prior to attending a show. We were seated immediately, even though we arrived earlier than our reservation.(We appreciated this since it was a rainy evening.) We started off with a crostini selection and I have to say, they were incredible. We honestly could have ended our meal there because they were filling, but we opted for the Amish chicken and a pasta dish for entrees. Both were cooked to perfection and the potatoes that accompanied the chicken were outstanding. The wait staff are attentive and very helpful. We enjoyed our experience here and will be back!I stopped by here for restaurant week. When I got there I remembered I had already been to the restaurant before. Last time it didn\\'t leave much of an impression but this time was quite different. We ordered a sampling of the crostinis, all of which were great. I highly recommend them. My husband had the steak- which he thought was pretty good. I really enjoyed my risotto. Extremely well made. For me the highlights of the night were the mushroom croquettes (not the healthiest option but so delicious), and the chocolate pot de creme. Also, our server was amazing- extremely attentive and very nice. The whole experience was great for us.We had the restaurant week special for Sunday brunch - $29 each without tax. The appetizers were the best part of the meal - the truffle croquettes were amazing and each bite was packed with truffle. The entrees were ok - the chicken salad my friend ordered had a bit of red in it (which the waiter said was a nerve and promptly served it back with zero apology) Which leads me to my qualms for the restaurant - the service. This was my first time at Fig and Olive and I had always heard great things about the restaurant. Walking in with a party of three, the decor was amazing and I expected quality service that matched the decor.What we got was a waiter who consistently forgot who got what food (a hazard to those who have food allergies). And the worse part was the serving of the dessert. It was Friend A\\'s birthday and we were also celebrating some other life accomplishments for Friend B. Friend A and I ordered a pastry like dessert. And Friend B ordered a chocolate dessert. A chocolate dessert came out with a candle for Friend A and we thought it was a nice complementary dessert the restaurant gave for Friend A\\'s birthday. It wasn\\'t until later that we realized Friend B did not have a dessert coming that the waiter actually took Friend B\\'s dessert, stuck a candle in it, and gave it to Friend A. I have never been more humiliated or insulted for all of us. The lack of care in the service surprised, astonished, and disappointed me for this restaurant.T.H. and I came here for date night very recently and discovered they were all set up for restaurant week! So normally restaurant week means a lot of the food is sub par and prepped en masse and the crowd is more boisterous to put it nicely. Luckily the food quality at this location of Fig and Olive seemed unaffected. I went for the Prix fixe as I wanted an appetizer as well but TH just went straight for the dry aged steak. I started out with the classic Fig and Olive salad which had a nice balance between the sweet figs, the crunchy walnuts, the acidic dressing and the tart fresh apples. Definitely a good salad but also a large portion for someone my size. The next course I had was the duck breast which was nestled on a bed of shaved beets and accompanied by some roasted fingerling potatoes. The potatoes were a little overdone but still didn\\'t throw off the dish entirely. The amount of shaved beets was a little odd given that it took over half the dish but it gave a little extra sweetness to what could have been a dry dish. For dessert I opted for the chocolate pot with praline and foam. All together a good dessert with a perfectly made chocolate mousse and vanilla foam. I almost wish there was a little more foam as I don\\'t have a huge sweet tooth but you order chocolate, you get chocolate, \\xa0no complaints.TH\\'s aged steak was cooked very precisely and had a great flavor being dry aged and all. It was accompanied by three sauces, a watercress salad, and potatoes. All in all, he inhaled the steak with the sauces but also found that the potatoes were a little overdone. Additionally, we both thought that the watercress salad could have used a little extra acidity to balance out a decadent dish. All in all, we\\'re giving it 4 stars because the food was good and I\\'d come again but there were some small things that could have been done better. Though I almost assume that\\'s also because of the restaurant week rush.Such a cool place! The food was so fresh and delicious. Service was great too. Ambiance was chill. I will definitely go again. My husband loved it too because the food was extremely flavorful without using tons of garlic and oil like most other restaurantsI\\'ve been to the meatpacking district location a few times and never had issues but this lunch experience was just wrong. Booked a table for for business lunch for 1:15pm got it at 1:30pm, got complimentary bread at 1:55pm and food at around 2:10pm !! Now about the RW lunch :- the salmon tarte was very meh, the chicken pillard was favor full but the chicken was a bit to dry for my taste and the cherry on the dessert was way to sour.I just have to say that the wait staff at this particular location are very patient and nice. My friend showed up almost an hour late and they did not kick me out of my table. The food was also really good but I think the alcohol is a bit too expensive. Other than that I had a great time. The crostinis are probably my favorite part about the entire meal. The fig and olive salad comes in a great quantity and is pretty filling too. The truffle risotto was probably just the right quantity considering how heavy and delicious it is.I love Fig & Olive! The ambiance and staff are lovely and the food is superb. I highly recommend it and look forward to the next time I\\'m there.An unexpected dining experience! Don\\'t let the name fool you. Each dish was seriously aromatic and flavorful. Outstanding wait staff from the moment we stepped inside. Enjoy!I wish I had decided to skip dinner!I arrived from Los Angeles and checked into my hotel and immediately set out to find a restaurant for dinner. \\xa0By 9:30 pm I was walking around and found Fig & Olive on Yelp and called for a reservation. \\xa0They told me that they had their last seating at 9:30 pm, but the kitchen was open until 9:45, although I may be asked to sit at the bar. \\xa0I was one block away so arrived at 9:32. \\xa0The host told me that the kitchen was closed and I could not be seated. \\xa0I explained that I had just hung with reservations 30-60 seconds ago and she said she would go speak with someone. \\xa0During this time I was seated at the bar and what I assume was the manager came and told me that kitchen was closed. \\xa0I told them I had reservations on the phone and they again said I should be seated so she indicated she would go and ask someone else (she never returned). \\xa0The bartender pushed a menu toward me and said \"if you order in 60 seconds, I\\'ll slip the order in.\" \\xa0I quickly picked an item -- that they were out of -- so just picked broiled chicken. \\xa0It arrived quickly (over salted and dry) and I ate it quickly. \\xa0I was done within 10 minutes and the bartender just said \"You\\'re done now?\" \\xa0No offer of dessert or coffee (no one else at the bar or tables had gotten up while I was there), no one asked if I liked my meal or wanted more water. \\xa0I left quickly, having spent about $45 for a mediocre broiled chicken. \\xa0I felt rushed, unwelcome and would not suggest frequenting this place.'"
   ]
  },
  {
   "cell_type": "code",
   "execution_count": 28,
   "metadata": {
    "collapsed": true
   },
   "outputs": [],
   "source": [
    "figm2018=\"Great spot for a night out in nyc. Wine list and the menu is quite impressive. Bar scene is nice so arrive early and just enjoy a cocktail firstGreat meal and great atmosphereWe had the grilled cauliflower as an appetizer and it was absolutely delicious. I had the quinoa salad which was also very good. The food was great but unfortunately our waiter forgot to put in the order for our side dishes so we didn't get them until after we finished our meal.Came here for Sunday Jazz brunch with my husband on a very rainy day. It was packed! Although it was very loud in there, the music was great, service was decent. We did the 3 course pre fixe and had a cocktail. Food was pretty good - not huge portions but not too small either - just right. Great place to go with a group.I visited for lunch, I had aged steak fries best I ever had in my life. Steak aging is savory reminds me of my childhood. My great grandfather was a \\xa0Ma顃re d' at Peter Lugers, Great Neck and Brooklyn from time to time we had steaks and chicken for dinner. \\xa0That same aged flavor is in the steak I had at Fig and Olive. The fries are prepared in Rosemary, I am not a great fan of rosemary, it is usually over seasoned or non existent. The fries were above excellent this is the new bar set for steak and fries lunch, you will not find better.Took advantage of NY restaurant week and came by one of my favorite places for lunch w the girls. Service is always on point. I had the salmon tartar for appetizer followed by the seafood paella both were delicious! Portions were kinda of small but just the right amount. Last time I was here was for valentines last year and I regret not coming more often.We had a great time cause the drinks were great.Food.. Not so much... 3 starts for foodAmbience 5 stars.We ordered the piscine...freeh strawberry with sparkling wine !! Loved it!, The fight and olive signature drink (was good) and a raspberry mojito.We just munched on some stuff... Not an entire dinner.Got the mushroom crostini plate all the vegetarian ones.. Did not like the manchego with fig...too sweet... The burrata crostini was the best.Also had the truffle risssoto which was awesome!Will go back for sure..soeciaaly if I'm in the area and craving a \\xa0fresh strawberry cocktail ;)This place is amazing, you can smell of the mixture of olive oil and truffle the moment when you step into the restaurant. And the next thing is that you are impressed by the upscale setting inside. My friend and I are here at the restaurant weekend, and we ordered a set menu for 42 per person. Also we ordered a bottle of wine, and I have to say the wine taste amazing! I have attached the pictures of our food, and I have to highly suggest their truffle and duck breast. The flavor has an unique mixture that you feel the complexity and harmony.A solid spot for brunch/lunch in the meatpacking area. The place itself gives out a spring vibe, ideal for the hangover healing process. Checked in our coats at the front to a smiling gentleman.We were seven of us and the prix fixe option was too good to be real hence we expected some compensation in the quality. But boy oh boy, - Carrot n ginger soup : Soul food- Truffle mushroom croquette : finger licking awesome- Riveria Salmon : Cooked to perfection- Pot de creme : sang to me in FrenchVery impressed with this place, quality & taste to remember.Found this place on Gilt City and was surprisingly impressed. The food was great, cocktails were good, and the staff was attentive and friendly. The decor was very spacious, trendy and hip. A great place for a group event or a nice dinner date.We went for lunch on a Friday and it was very quiet. The food was good and the servings were large. The salads were put together well. I had crostini and they were good. Our server wasn't amazing. Drinks took forever to arrive even though the restaurant was empty and the bartender was just lounging behind the bar. Then they sat for a bit before they were brought to our table. Then it took about 15 mins to ask for our check.Ate here for Restaurant Week. Nice for a date night, the atmosphere is very pretty and romantic. A little pricey for what you get, but we expected that for a date night. The crostini selections were our favorite, there are also so many options. The truffle app and entre are incredibly rich, but if you're a fan of truffle you should be pleased. The Fig & Olive salad was nice, except we wished they had used different greens instead of romaine lettuce. Salmon entre was pretty good, but definitely have had better. Dessert was ok, also pretty rich - we had the olive oil cake and hazelnut/chocolate pot de creme. Overall was a nice night out, but nothing extraordinary.We ate here during Restaurant Week and had a fabulous dinner. Much more than what we were expecting. We started with the prosciutto, kabocha squash and gorgonzola crostinis. All were good but gorgonzola was the best. Followed by the Fig and Olive salad and the mushroom croquettes. Both were tasty. For entrees, we chose the salmon and risotto. Although the menu had mushroom risotto for Restaurant Week, they allowed me to substitute the kabocha squash risotto. Salmon was tasty but the risotto was amazing! \\xa0We finished with the pot de creme and the olive oil cake. Service was attentive and the general manager was checking in with each table.Definitely a great dining experience- I ordered the lamp chops and they were deliciously life-changing. A vast selection of wines and other beverages made the meal complete and extra special. This restaurant is a must visit in lower Manhattan!We came here on Saturday for dinner and it was packed! Understandably so, it took us a while to get seated but we were treated extremely well at the bar while we waited for our table. A couple of Matadors later we were at our table enjoying a few crostinis. This place is amazing; the food, the decor, the live DJ keeping us grooving all night long. We didn't get his name but apparently they have live DJs multiple nights a week. We honestly didn't want to leave but it was the perfect place to start our night. I highly recommend stopping in for a few drinks at the bar and a light dinner before you get your night started. Will definitely be back!\""
   ]
  },
  {
   "cell_type": "code",
   "execution_count": 29,
   "metadata": {
    "collapsed": true
   },
   "outputs": [],
   "source": [
    "Limani2018='There was very little to love about this place on Valentine\\'s Day. My generous date was far too gracious to complain (& I only made a discreet comment to the waiter as we left) but it must be said here: this place is a huge rip off! He paid nearly $400 for a dinner last night that was mediocre at best in every way (except the company!) First, this space is far less elegant & inviting than it looks online. The vibe was very college dining hall: loud, cold, and stressful. The service was subpar & the food well below average (and such small portions!) The Valentine\\'s Day Prix Fixe for $125 per person sounded great but was four tiny courses. Minuscule, tasteless oysters, a crab cake the size of a quarter (I almost laughed out loud when the put it in front of me!) a a poorly grilled lobster (poor thing lost its life to be presented this way! what a waste!) and dessert for the two of us was dried out baklava & two small chocolate covered strawberries. It literally made me angry on a day that ought to be all about love. The best part of the meal was actually the side dish of lemony potatoes & asparagus. Wines were overpriced ($16 for very small pours) & not great & even the tea must have been expensive because with 3 glasses of wine & a tea between us, the bill came to over well over $300 (I only know because I looked at the bill when my date went to the men\\'s room as they were actually breaking down tables all around us at 11pm!!! They were literally opening doors and hauling garbage through the dining room while people were still eating!!) It was a lovely idea, just based on the website, but don\\'t be fooled. At this price point, there are hundreds of better options in midtown. Never again.My boyfriend and I dined at Limani for Valentines Day. We arrived for our reservation at 6:30 and it was not packed. There were definitely people eating there but many tables for two and four were open. The hostess handed every woman a rose when she walked in which was really cute. There were rose petals scattered on the white table cloth as well, a very romantic touch. The waiter was waiting to take our order within minutes of us sitting down. For the first course my boyfriend opted for the salmon tartare and I ordered the tuna tartare. We had our appetizers in the same amount of time that one would wait to get french fries at Shake Shack. By the time I finished one piece of bread the tuna tartare was being placed under my nose. It had to be pre-made and sitting around waiting to be delivered to the table. Nonetheless, both tartare dishes were really, really good. I do have to note, the wait staff did not pace the meal and were trying to get each course out as quickly as possible. For our second course (it was a 4 course pre-fixe meal), my boyfriend ordered grilled jumbo shrimp and I had the octopus. The octopus had roasted red and yellow peppers and thinly shaved onions. The portion was huge and it was absolutely delicious.The texture was soft but not chewy. The octopus was prepared with a decent amount of olive oil but the octopus\\' flavors were prominent \\xa0and it did not taste fishy. I wish I could eat \\xa0the octopus again for dinner tonight ! In regards to the shrimp, my boyfriend said \"this shrimp is so buttery/covered in butter\" so they probably put too much olive oil on his shrimp. It was drenched. For the main course, I had the two pound lobster and he ordered the filet mignon. The lobster provided perfect amount of meat for a main course. \\xa0 It was not served with melted butter on the side. But, butter was not even necessary; it was perfect without it. My boyfriend\\'s filet mignon must have been good because he finished every last bite and he normally complains he\\'s too full and never finishes his steak. For dessert they automatically served one milk chocolate covered strawberry, one white chocolate covered strawberry and baklava. It was my boyfriends first time ever having baklava and he fell in love with it! \\xa0He legit cut me a portion then ate the rest because he wanted to enjoy the majority of the dessert.Overall, my experience at Limani was wonderful. I hope to come back soon!One of the classiest, most elegant & delicious restaurants in nyc. Perfect for every occasion -- Limani is truly one of a kind. From the incredible ambiance & decor, to the perfectly flavored and crafted food, Limani is a gem. Restaurant week options are available, as is a prix fixed dinner ($49), or a normal menu, yet all options pair amazing dishes and options. Great wine selection with authentic Greek wines and perfectly crafted desserts. Thank you Limani NYC for an amazing evening!The final night for NYC Restaurant Week 2018.A gathering of girlfriends who reside in different boroughs. Elegance, attentive service and overall ambiance. Meditteranean cuisine done right.Sliced bread alongside poured olive oil, it is meditteranean. We skipped the pre-fix and created our own experience.I ordered stuffed calamari with a side of asparagus and it was delicious. The calamari was stuffed with two or three Greek cheeses. Two were goat cheeses.I was going yo order the Greek fries, however my health consciousness won and asparagus with sauteed onions won.The decor was stunning and the host was super accommodating, moving our table to a different area upon request. The wines were all spectacular, with a nice selection of Greek wines. Came for restaurant week and it did not disappoint. The lamb chops were unreal, and the sea bass was just A1. The apps were all delicious too. I\\'ve never seen such ripe tomatoes!! Anywho, this place is really really good, you should definitely go.When you go to write a review on Yelp -- for those who don\\'t do it -- the five star rating says \"Woohoo! As good as it gets!\" \\xa0Well, that is exactly how i feel about this restaurant. From food to atmosphere to service, this restaurant is one that you can\\'t walk away from without singing praises. We went a bit on the later side, so it was not jammed \\xa0-- making it a little quieter and nicer for us. The decor here is exceptional -- it sort of brings you right into the Mediterranean feel -- and in the back of the restaurant, you can talk to the chefs and eye up the freshest catch of the day. \\xa0The service was also wonderful. We had read reviews that said the waiters were a bit \"condescending.\" We didn\\'t find that at all. They were accommodating and helpful. Finally, the food. \\xa0Amazing -- you must get \\xa0fish -- fresh and well prepared. We each had a different dish, but both were wonderful. We were celebrating our anniversary and it was the perfect place for it.Nice place, decent food. I\\'ve been spoiled with better Greek restaurants in California and DC, so the food here ended up being just a-ok (ergo the stars). Decent deal for restaurant week, although they have a regular price fix menu that is only a few dollars more and has more options. Atmosphere: White, clean, spacious. White. So white. Came for restaurant week brunch, $29 for three courses.Food:Ordered the Mediterranean Meze, which is a large sampler of all the cold hummus and yogurt and cheese dishes. Let me just start by saying the dolmades was not good, and I LOVE dolmades. It was flavorless and the texture was not the best. The other stuff, however, was all pretty tasty and filling and they give you a good amount of pita bread to indulge in with it. For my main I got the chicken breast. Cooked well,but honestly nothing to write home about. Didn\\'t really taste much rosemary and thyme, but it was tender and not too dry. The steamed veggies were cooked well. Dessert, got he karidopita (walnut cake). The cake was good, but again, nothing to write home about, and maybe a little drier than I would have liked. The ice cream served with it though was DELICIOUS. I think it was honey lavender. So subtle and so sweet and so creamy.Service: Prompt, friendly, great.Probably wouldn\\'t drag myself to come here again, but I would recommend it to anyone looking for a reasonably priced Greek restaurant in midtown.I don\\'t know what more you could ask for.The decor was drop dead gorgeous. \\xa0Our service was outstanding. \\xa0If you eat when the place is packed, service can break down. \\xa0It is not for want of trying, it is just a numbers game.Our restaurant week lunch was excellent. \\xa0Meze to start gave us a wide array of well executed appetizers. We added the cucumber, tomato, feta salad with beautiful vegetables even though it was February. \\xa0We both had the grilled deboned dorado. \\xa0Perfectly cooked, fresh, light, flaky. \\xa0All you could ask for in a fish entree. \\xa0And the 1 pound whole fish was a generous portion size. \\xa0We finished with the karidopita. \\xa0It was a medium dense walnut cake, with nutty crunch, molasses notes, probably cinnamon, maybe clove. \\xa0Not too sweet. They paired it with honey lavender ice cream. \\xa0Open yourself to this desert. Cast aside your preconceived expectations, and you will be rewarded.No need to wait for restaurant week. \\xa03 course fixed price meals are available year around for a few dollars more.came for restaurant week and realized that they have a prefixe dinner menu that is very similar, so their deals are good year-round. i had a filet mignon was that cooked perfect to order, melt in your mouth delicious. my partner had the loup de mer that was moist as promised. their crab cake was made with jumbo lump crabmeat, although tiny, was delicious. all in all, the food was good. couldnt say the same for the service. our waiter was ok but the busboys were almost rude. there was no smile, it was a cold and unfriendly atmosphere in the restaurant, but our meals did come to the table promptly. so it depends on what your preferences are. i would lean more towards a place of comfort for my next trip.Limani has a gorgeous setting, great hosts and wonderful atmosphere. They are very accommodating and willing to service you with your needs. The best seat in the house is by the pool of course, but if you are in a group, you likely won\\'t get it it as their tables aren\\'t set up that way.The lamb chops on the menu, as well as the avocado salads and scallops are delicious. Those are what I would recommend and restaurant week is the best time to visit, especially for Sunday lunch. The price is a bit steep and they have no brunch menu though, so those are a bit of a problem.Came here for restaurant week and did the lunch menu, for the very subpar food and extremely ordinary food that I\\'m sure anyone could whip up this place is not worth the splurge. Nor was the experience that great either it\\'s just one of your pricier \\'fancy\\' places in the city. I\\'ve been to Davio\\'s during their special pre fixe lunch menu and everything was still perfect and we all left feeling satisfied with both food service and decor. Overall I wouldn\\'t choose to splurge hereI came here in a large group knowing how Midtown this restaurant was, which is essentially flashy and overpriced / the kind of place you\\'ll take your clients if it\\'s on the company tab, never where you should take friends or a date. The food was every kind of mediocre, and the service was worse. I had the restaurant week prix fixe and started with the calamari. It took the servers three attempts to serve me until they got it right (first bringing me the octopus, then bringing me the tomato salad). The sea bass which I had for my main was served unattractively split open and overcooked, not to mention all the little bones inside. The ice cream for dessert was decent, but the scoops were quite small and served on a massive plate. All this for $100 since they automatically add 20% gratuity, and of course the drinks were marked up to the max. There\\'s really no draw in going here, so...don\\'t.Just enjoyed a prix fix lunch that hit all the right marks. The food was great and delivered in good sized portions. Price very reasonable for midtown. House wine was not awesome but just fine especially @$8 per glass. Service was good and attentive when appropriate. Lots of energy in the place which was OK with us!'"
   ]
  },
  {
   "cell_type": "code",
   "execution_count": 30,
   "metadata": {
    "collapsed": true
   },
   "outputs": [],
   "source": [
    "Batard2018='Came here for a 5pm dinner with my husband on a Saturday. We were greeted by the staff immediately. We checked our coats in and got seated at a couch area. It has a very cozy and warm ambiance overall with pretty chandeliers which could be a perfect place for occasions and dates :). The menu had two courses, three courses, and four courses; we ended up ordering three courses and a cheese plate. Attached is the photo of menu, but it may change time to time.We were served with complimentary sourdough bread and brioche. I got octopus pastrami for appetizer, duck breast for entree, and the Paris Brest for dessert. My husband ordered garganelli for appetizer, Niman ranch dry aged striploin for entree, and chocolate varlhona. All of the dishes were really good, but we really enjoyed the garganelli (the aldante texture and the sauce). Surprisingly, the server never asked us how well our meats to be cooked for our entrees. When they came out, it was medium rare. This is how we usually order so it didn\\'t matter, but if you are a well-done person or prefer it other way, I think you need to address it to the server. Next was our cheese plates... we ordered three but they gave us one more; I forgot the names of the cheese, but they were extremely delicious and complemented very well with the dry apricot, hazelnut vinegar, balsamic vinegar, etc.Finally the dessert was also very good; the chocolate varlhona is very rich with hazelnut chocolate cream (just like the core of ferrero rocher chocolate). We had lemon macarons for our petit four. We enjoyed our dinner at batard, and the pictures tell it all :)Summary: Excellent food but poor service and staff coordination for a restaurant of B鈚ard\\'s caliberWe went to B鈚ard for dinner on a Saturday night and chose to have the four-course dinner menu. The food was delicious and exceeded expectations.Service, however, was disappointing and in some cases close to insulting. In no particular order:* Bread brought to table prior to the waiter even taking a drink order (waiter essentially MIA for first 10 minutes after we were seated)* We ordered a glass of champagne which turned out to not be great upon the tasting pour - we asked if we could try the other option offered instead to which the waiter said \"Sure but it\\'s $40 a glass\" - did we look like we couldn\\'t afford it (we were actually aware of the price already)? Tip to Batard, perhaps have more than two champagne options on your by-the-glass menu: a $15 sub-par rose with the next step up being a $40 glass of Bollinger? * Servers stepped on my feet multiple times while bringing food to table and bumped against us as we exited the restaurant* The entire four course meal was served in less than 60 minutes - no spacing of portions at all - our first course was delivered 5 minutes after we placed the order - this limited our enjoyment of the dining experience and made the meal feel rushedB鈚ard has really great food and we were satisfied with everything on the menu but the service really could use a step up - this seems to be consistent with other feedback I\\'ve read on Yelp, and it\\'s surprising that the restaurant hasn\\'t done more to address the issue. We won\\'t be back soon because of this.Food were tasty and delicate. Good for families and friend gathering. Friendly services.Great pick for restaurant week - I had the beets, poussin, and chocolate fondant. The beets were refreshing, the poussin juicy, and the fondant rich. Most of all, I am so so impressed by the level of attention and service that the staff provided. They came frequently, asking if we needed anything, and gave recommendations on the menu/wine. What put it over the top for me was when my friend went to the restroom and our entrees came out, they noticed she was missing and folded her napkin, placed a dome cover on top of both our plates, and waited until she returned. Seconds after she sat down they were back and removed the covers to allow us to enjoy our meal, and it was seamless - timed perfectly.Had high expectations due to the Michelin star. \\xa0Pros: \\xa0outstanding service staff, prix fixe menu with great diversity of choices, food with intense flavors, outstanding dessert. \\xa0Cons: \\xa0several dishes way too salty! The pasta was almost difficult to finish due to salt. \\xa0Same for gravlax. \\xa0That mistake shouldn\\'t happen at a restaurant of this caliber. \\xa0And wines were abnormally pricey. \\xa0Don\\'t know if we\\'ll be back.We had the restaurant week menu. Food was great. The starters we had were both very refreshing. I had bass for my entree, I loved the crispy skin of the fish. I had poached pear as dessert, it was amazing. My friend had chocolate fondant. It was below average... Service was just ok. I was asked to stand and wait for my friend to arrive before I can get seated. And also the waiter gave the wrong dessert initially. The atmosphere is very casual. Even the hostess and waiters are very casually dressed.Overall, as a one star Michelin restaurant, I would give 4 stars for food and 2 stars for service. It was very good value with restaurant week menu.Came during restaurant week. Ordered the Viennese soup, Bass, and chocolate fondant for my three courses. I came with my cousin, and we also ordered a bottle of wine and the selection of 3 cheeses for $14. They added an extra cheese which was a nice touch. Food was great and presented beautifully but the service was not very timely. Overall, would recommend this to a friend!Pretty solid restaurant week experience - not sure if I would have felt as positively if I had paid the full sticker price, but for a $42 3-course meal...sure, you got me. I went with my cousin with a 9:00pm reservation and were seated immediately. They charge $25/pp for canceled reservations, which as much as it bothers me on principle, I totally get it. We ordered a bottle of white wine to share. There were a number of cheap-ish bottles on the menu (in the $40-$50 range) which I think is always nice. The bottle was fine but unexceptional.We ordered the Viennese Wedding Soup and Gravlax for our first courses. I was impressed with the portion size of the Gravlax, which was delicious and beautifully presented. The Viennese Wedding Soup was tasty as well.For our mains, I had the Pappardelle with sausage and my cousin had the Bass. Mine was absolutely delicious but the portion size was a little disappointing, especially for a pasta which is relatively inexpensive to make. My cousin greatly enjoyed her Bass.For dessert, I had the Poached Pear and my cousin had the Chocolate Fondant. She loved hers but I thought it was underwhelming. The Poached Pear, on the other hand, was absolutely delicious. Definitely some of the better desserts I\\'ve had from a high-end place, which I find are usually the disappointments of the meal.We ordered the $14 cheese supplement which was a great value and we got to pick from a list of cheeses. We ordered a goats milk cheese, a cheddar, and a brie. They also gave us some bleu cheese, which was quite pungent and not at all my favorite, but a nice gesture regardless. Service/timing could have been better and is the reason I\\'m deducting a star. Our first courses came out relatively quickly but we waited quite a long time for our mains. Throughout the meal the service was relatively uncoordinated (servers not communicating with each other). We ended up having to rush the last part of our meal in order to make it out for bottle service. TL;DR: Good experience. Not perfect, but a great value for restaurant week. Would consider returning during Summer restaurant week.Our dinner at Batard was a new exposure to contemporary Austrian cuisine and to what I would call nouvelle Viennese. The Tribeca restaurant is in lower Manhattan and has an understated sheen that gently glitters in a subdued hue.The bar opens at the entrance and attracts your attention as you walk to your table of dark burnished wood sans table cloth. The deep banquette seating allows you to take in the dining room. Cocktails for starters were well prepared and had a cool quenching taste. The appetizers were a nicely served Viennese Wedding Soup, which was a broth of \\xa0liver dumplings, white-egg noodles and short rib. Its presentation in a crafted pottery bowl was simple yet elegant. The cr鑝e de resistance was the famed Octopus Pastrami of braised ham hock, pommery mustard and new potatoes. The ingredients were compressed to form a gelatinous slice that I doubt was ever eaten in fin de si鑓le Vienna.One main entree consisted of Roast Poussin, a very \\xa0tender young chicken with celeriac, pearl onion, baby spinach and apple. The chicken was so tender due to the delectable moisture that seeped through the crispy skin and white meat. A Cote du Rhone white complemented the Poussin. The second entr閑 was Berkshire Pork Schnitzel served with potato salad, cucumber, lingonberry and sea buckthorn. \\xa0After a full meal, we ended with Sorbets of mandarin, lemon and white peach ices and coffee. I found much food in the three-course servings and appreciated the attentive service that was not rushed.Like this restaurant very much. Came here for the restaurant week, but it didn\\'t disappoint me. The prix-fixe menu for restaurant week consists of three courses. I ordered the Viennese wedding soup with noodles, Bass, and Sorbet. The noodle soup is really good, tasting just like home-made Asian noodles. My friends and I even made jokes that Batard might specially design this dish for all the coming Asian customers lol. The Bass is always my favorite. I do like the cooking style Batard. The dessert just highlighted the night - the three-flavor sorbet was so nice, chilly, do love the cranberries flavor the best. Will definitely come back to try its main menu some time later.Restaurant week dinner for 3. Food was fine. Service from servant was good. Environment was casual. The arrogant attitude from one of the manager-level guy made it a 1-star experience.We had an accident when my 2-years old daughter was drinking water from the glassware. The glassware was broken in her mouth out of sudden. Luckily, she spotted it out and didn\\'t get hurt. The servant apologized and the rest of dinner went smoothly. After signing the tip, I wanted to leave a comment about this glassware issue. I went to the manager-level guy at the front desk and told him that this glassware is too fragile and not suitable for a young kid. It\\'s might be better to serve the kid-friendly plastic ware or not providing the glassware for a kid. He fought \\xa0back:\" I don\\'t take blame for that. You should train your kid to use the glassware. I work in this business since 1986 and we use glassware in the Michelin star restaurant. If you want to use a plastic ware, don\\'t go to the Michelin restaurant.\"I felt disrespected. Yes. I learned a lesson that I need to teach my daughter that the glassware provided for her in the restaurant might not be safe. \\xa0But does a 30-year experience makes it right to not listen to the customers\\' voice and being so arrogant in a Michelin star restaurant? No, it definitely not.'"
   ]
  },
  {
   "cell_type": "code",
   "execution_count": 31,
   "metadata": {
    "collapsed": true
   },
   "outputs": [],
   "source": [
    "tha2018=\"Come hungry -- portions are generous and there is much to try! We visited Thalassa for a belated Valentine's dinner. The food and atmosphere were great and the staff rated a 5 out of 5. We had the Dolmas and Arugula for starters -- both excellent. For our main course, we had the red snapper and turbot. The snapper was fantastic. The turbot was cooked nicely, with a flaky center, and nicely crisped outside. However, fish itself is a type with a bit too much of an ocean-y taste, if that makes sense. If I could pick a different fish to be cooked the same way, it would be perfect.Dessert was Galaktoboureko, which was nicely light-tasting for something containing dough and cream. There is so much -- split this one!Complimentary mini stew, dessert wine, mini zucchini cakes and chocolate, and cookies were given. Such a sweet surprise!Even if you don't need the bathroom, check out the lower level -- the decor is awesome!I highly recommend this place both to my parents and everyone else on Yelp. ;)Impeccable hospitality and service. These guys go above and beyond. In addition to amazing food and spectacular ambiance, we were also fortunate enough to have incredible servers. The manager, Madison came to check on us multiple times and made us feel very welcome. Food and wine was great. The wine cellars downstairs are a beautiful touch as well. Great spot for date night or even girls night. Will be back for sure!!This was an amazing experience. Me and 3 other friends came for restaurant week, and unlike other instances where you may have felt like the selection/food was underwhelming, there were NO empty plates here.There was a minor mix up because we had a reservation and there was an unexpected wait, but the restaurant gave us a complimentary bottle of wine to compensate while we waited for our table (and the additional wait was not really that long). 2 thumbs up for them going the extra mile.I cannot express how amazing all of the food was. To top it off, we were offered a free dessert because they knew we were trying to sample all of the restaurant week selections, as well as complimentary dessert wine. We really didn't want to leave. We will definitely be back here!Came here for my anniversary and had a great first impression. The restaurant is in a nice area and has a really classy interior. The waiter recommended an expensive fish filet saying it was the best thing on the menu, once the food came our mouths were getting stabbed by a bone almost every bite.The waiter was no where to be found for most of the visit so we had to flag him down to let him know about the bones in our fish, he then offered us two drinks that were highly alcoholic to compensate. Not thinking we will return!My friend stumbled upon this restaurant for restaurant week and I couldn't have been happier with the decision. We both started with the tomato salad which was a good sized portion. They give you focaccia and another type of bread to start along with oil,olives, and another dip which was all very good . For the main, I had the lamb which was cooked perfectly , very juicy and came with spinach risotto . The meal itself wasn't huge, but just the right size . For dessert I had the filo with vanilla custard which was very tasty ! We were given complimentary soup, dessert wine, and chocolate which was a nice treat. Throughout the evening, I felt very attended to, and upon leaving , Steve asked us how our meal was and gave us a bag of cookies as a gift. I can understand why this place has such good reviews - really a fantastic experience and am looking forward to coming back soon!\""
   ]
  },
  {
   "cell_type": "code",
   "execution_count": 32,
   "metadata": {
    "collapsed": true
   },
   "outputs": [],
   "source": [
    "figo2018=\"4 stars for food. 1 star for waiter. \\xa0Busboys amazing. \\xa0Waiter didn't know menu or that there was more than one kind of oyster.I went here for restaurant week with a couple of my friends. To start everyone working there that day was warm and welcoming. We had a great server. Her and her server assistant made sure we were thoroughly taken cared of without being too pushy. I love the beet salad! And that cranberry slaw on the duck is absolutely delish! The duck also melted in my mouth. My friends and I loved the food, the decor and the people. We will definitely be coming back!\""
   ]
  },
  {
   "cell_type": "code",
   "execution_count": 33,
   "metadata": {
    "collapsed": true
   },
   "outputs": [],
   "source": [
    "review2018={'ilili':ilili_string,'figny':figny2018,'figm':figm2018,'limani':Limani2018,'batard':Batard2018,\\\n",
    "            'tha':tha2018,'fig0':figo2018,'jap':jap_string}"
   ]
  },
  {
   "cell_type": "code",
   "execution_count": 34,
   "metadata": {
    "collapsed": true
   },
   "outputs": [],
   "source": [
    "ilili2017='After visiting NYC a couple months ago with my friend from Jordan, we had to stop by Ilili since he would not stop raving about how good the food was. The overall experience did not disappoint.I did not grow up eating Mediterranean food, so even now when I try it, it\\'s a unique experience for me. My three friends and I went through at least four baskets of bread since we ordered all kinds of hummus dips and spreads, and they were all fantastic. I also ordered the falafel, which was also very good but a little salty for my taste.I\\'m vegan and I will say that apart from the spreads, bread, and falalfel, vegan options are very limited (if any). The food was also very pricey and our bill totaled around $190 not including tip or alcohol ... but then again, we\\'re all college students so we had a tighter budget. Apart from that, ilili was a fantastic experience!Overpriced and overhyped in my opinion. The food didn\\'t impress. I came here for restaurant week and although the appetizers were decent the entree was mediocre. The service was good though that\\'s the only thing that I liked.Great food .. the staff could get friendlier though. \\xa0For lunch i highly recommend their shrimp salad. \\xa0Dinner the roasted chicken.3.5 StarsIt\\'s a beautiful, warmly lit restaurant with a hint of upscale and a bit of a trendy vibe. I thought the charm of the place came from it\\'s atmosphere.I came here to try the Restaurant Week menu. Ilili has decent Mediterranean food, presented appealingly, but definitely not the best if we go by taste. They allowed a pick of two appetizers (which was great), one entree and one dessert. The moussaka was my favorite appetizer, the cold eggplant was pretty tasty. The hummus was ok, the falafel squares were a bit dry and the tahini sauce was ok. The mouhamara was good especially paired with the little strips of cut radish, but it was on the sweeter side because of the pomegranate molasses. A small basket of pita bread was brought, I found it to be a little thin and more floury on the outside than I liked. The dishes went down better with pita though.The entrees wereWent for restaurant week lunch menu.Ordered mosaka which was good. Fries that was very soggy, then had burger which was not seasoned and the smell of meat was not appealing. We also had chicken wrap which was very dry. The waiter gave us our appetizers and entrees all at once so by the time we got to our entree our food was already cold. For desert, we had konafe and astha and both were good.A friend of mine who recommended it was surprised by the quality of food as she tried their duck shwarma once and said it was really goodHad an overall great Restaurant Week experience here, though the service was a little iffy. They required the whole table to get the RW pre fixe which I find annoying, but we were planning to anyway. We shared:+ falafel+ cauliflower+ moussaka+ steak tartare+ burrata+ lamb makloubeh+ salmon+ candy bar+ ashtaThe best appetizers were the falafel and the cauliflower, and my lamb was absolutely amazing. I also really enjoyed the candy bar dessert, which reminded me of the \"chocolate forest\" they have at Spot Dessert Bar. Furthermore, it was more than enough food and I even had leftovers. Like I said, service was inattentive and even a little rude at times, but overall it was a nice meal.I have been a few times 1st time this year. Overall: very pricey, so restaurant week is a great time to try it out.Ariana our waitress was tremendous. Amiable, very helpful, all her suggestions were spot on, and spectacular service. Perfect. \\xa0Appetizers(in order of love);Tuna Tartare (wonderful! Had to close my eyes, I wanted no distractions from the joy in my mouth), \\xa0Burrata(yummy) spread it on the warm pita (very good but best @ L\\'Apicio), Octopus(large thick juicy pieces in a tasty mosaic veggies ), Hommus(Good but just hommus) & Chicken Livers(OK).Entrees: Diver Scallops( perfectly cooked scallops in delicious bright sauce), Lamb Makloubeh(Good but, very heavy). Desserts: Both were amazing!Coconut Panna Cotta (layered custards, covered with pomegranate seeds & toasted coconut gave necessary texture)& the Ashta ( warm cheese with sweet rose water). Thank goodness \\xa0I did not ask about the dish first because I would not have ordered it. Cheese & sugar? Ugh. But this was crazy delicious, I personally prefer warm desserts anyway, however BOTH were amazing.Been coming here since I moved to NYC in 2012. \\xa0Delicious, appetizing food met by high standards of service by the staff. \\xa0Step out of your busy NYC routine, and walk into ilili today.Barely average meal - highly disappointing, as I\\'d been looking forward to trying this place with friends based on the raving reviews. Perhaps it was because it was a rainy Monday night? Was the Chef sick? My friend and I each had the lamb chops, only to find each of our chops mostly fat, with little meat. Absolutely inexcusable for a $45 entree. I\\'d expect a restaurant of this caliber to obtain quality lamb from their meat purveyor, it being a Mediterranean restaurant.In terms of cold mezze dishes, the hummus was light and fresh and moussaka was flavorful, but not mind blowing. However, the \"Kibbeh Naye Beiruteh\" or steak tartare, which was recommended by our waitress as a popular dish, was a tasteless paste and nothing like any tartare should be. Would not return and would not recommend to friends.Great Lebanese fusion food. Fried Kibe great, Mujadara great, Tabuli great, Hummus great, mix grill great. The deserts wow, ice cream delicious and the kanafe was superb. A must in New YorkLoved this restaurant! \\xa0From the decor to the atmosphere to the fantastic food, it was just wonderful. \\xa0The main dining room is the better choice, though. \\xa0Booked a table for my son\\'s birthday and specifically requested the large dining room, but when we arrived we were seated in a tiny, bland and claustrophobic room. \\xa0We were very disappointed and asked to switch tables (there were empty ones too). \\xa0Thankfully, we were seated in the front room. Soooo much better. \\xa0Will definitely be back.Ilili is the best Lebanese food I\\'ve ever had. It is quite pricey, but well worth it for the quality of food, spectacular service, and nice atmosphere. The drinks were delicious as well. I am a huge fan and will definitely be back.As a regular visitor to Beirut I feel that ilili (which means \"tell me\" in Arabic) hits it on the head with their delicious mezzas but fails to meet Lebanese standards with their main courses. \\xa0The prices are high for any Lebanese restaurant, but typical for a dine in Manhattan restaurant. \\xa0Their Hunnish and eggplant mezzas were delicious! \\xa0They cut the eggplants into little pieces, fry them, then infused them with their pomegranate/turmeric and tomato based sauce. \\xa0It was delicious! \\xa0Their raw and fried Kobe were also on par with other Lebanese restaurants! \\xa0However, their popular Brussel Sprouts is not a Lebanese dish.So why the 3 star? Their main course was not up to Lebanese standards, doesn\\'t come with rice or grill onion/vegetables. \\xa0I\\'ve been to very authentic restaurants in Beirut, including Em Shireef, Laila\\'s, Karam and many others, and all, ensure meats are prepared and covered in pita bread, and served skewer style! ilili\\'s main entrees lack flavor and failed in presentation.I was not impressed with the quality of the food. My dining experience was a little below average wrt to other Lebanese food experiences.AMAZING Lebanese food. traditional dishes with a modern twist. A must do is the Kebab Kezaz, Phoenician fries and cheese rolls. Alexande was our waiter and was great and accommodating. Def will be back when in NYC. kristen Abajianexpensive but worth it for a boy who was in lebanon this summer and craves good lebanese food.Went here with a friend for dinner. Great atmosphere \\xa0in the restaurant. We ordered the Falafel, Duck Sharwma, Jalape駉 Hummus with Pita and Lamb Yogurt dish. We also ordered a wine bottle and few cocktails. Pros: Cocktails were made well and even the wine selection is great. I had never tried Duck Shwarma but it was juicy and prepared well. The lamb dish with yogurt was also delicious. Cons: We only ordered 4 appetizers and it took quite some time for food to arrive. We were done with our wine bottle by the time food arrived. Also the Jalape駉 hummus was served as hummus spread with 3 sliced jalape駉s... I was expecting more of a well diced jalape駉s mixed into the hummus spread. I have given 4 stars only because of the cons..Fancy place. Date night ambiance. Lamb shank was amazing. Humus was fresh and tasty. Champagne to toss the night away!The food is pretty good and the prices are good too. However the service is a little slow. The interior of this restaurant is beautiful. I really though their falafel tasted strange but the rice and pita were delicious.Amazing food, staff and atmosphere! As my husband is half Lebanese we eat Lebanese cuisine quit often, therefore my expectations were high! However I was surprised of the good quality! Will definitely go back!'"
   ]
  },
  {
   "cell_type": "code",
   "execution_count": 35,
   "metadata": {
    "collapsed": true
   },
   "outputs": [],
   "source": [
    "figny2017=\"Great service, great food, great for groups, great choice. To be fully transparent, I went here for a group dinner where we ordered from a limited menu. However, everything was perfect. The staff ensured that all of our needs were quickly tended to. All of the food options were well described, and quickly bought out. I went with the salmon for my main meal and was not disappointed. I'd definitely go back.Good food. \\xa0A little loud to hear yourself think. \\xa0Food was not worth the price. \\xa0Probably won't go backPricey, but everything we ordered tasted really good. We went for the prix fixe restaurant week dinner menu and delighted ourselves with butternut squash & chestnut soup, truffle mushroom croquettes, fig & olive tajine, moulard magret duck breast, and chocolate pot de creme. I have to say the truffles croquettes is the highlight of our meal, crunchy outside and tender and flavourful inside. The tajine's chicken was done very well, not too dry and neither salty nor tasteless, though the sauce itself was rather salty. The duck was excellent, though being a big eater, I found the 2 slices wanting for quantity.The place was decorated nicely with the right amount of lighting. While the candlelight at the table gave off a classy romantic feel, \\xa0the noise level of the patrons' chatter was not. Perhaps on a less busy night it would be more suitable for quiet conversations.The service was good (thankfully we made reservations so we didn't have to wait longer than the 2 minutes they took to settle us in). Our server, Michael, was polite and informative without being pushy (as I hear some can be for this place).Wonderful experience! We were celebrating a small bridal shower for my cousin (6 people) and they gave a lovely table by the window. We all ordered from the pre-fix menu and had different cocktails. The food was spectacular snd all the cocktails were delicious as well. Favorite dishes were the mushroom and truffle croquettes as well as the chocolate pot the creme for dessert!! I can't wait to take my husband to try this place!I love this place. We had Jennifer as a waitress. She was so accommodating and sweet. One appetizer was forgotten and she offered the app for free afterwards. The Bronzino was unreal. Super fresh!!! The floor manager (Ray) was A +++ so accommodating. Such an amazing place. You can't go wrong. You feel like royalty! Vibe is Romantic and swanky.I'll never understand why people who have no customer service skills get into jobs where they have to deal with the public. My problem was not the food, it was my waiter. I went here recently with a few friends for restaurant week. From the get go, our waiter could not be bothered. My friend was asking him questions about the menu, like what dishes he recommended, etc. and he told her, well it seems like you still need some time, and walked away without answering. When he finally decided to come back, we of course still had a few questions. I am exploring a vegetarian diet, so I asked if a certain dish could be made without meat, and he did everything short of roll his eyes at me. I get it was potentially a silly question, but a simple no would have sufficed, instead of the judgmental response I got. All of that can somewhat be forgotten though. And it almost was given how good the food was. BUT, I found a HAIR in my soup. This has never happened to me before but I knew I had to bring it to my waiter's attention. When I did, he has the audacity to ask why I finished the soup! I had to explain that the hair did not become evident to me until I had reached nearly the bottom of the bowl. Obviously, had I discovered it sooner, I would not have eaten as much! He then begrudgingly offered me another one which I declined. I asked if instead I could have another drink and he contemplated this and walked away without answering. He did bring another round of drinks but I had no idea that it was comped until I checked the bill. He had just basically ignored my request and never actually answered me. Here's a tip to the management and waitstaff: if a patron discovers a hair in their soup, do not treat them as if they put the hair there. My waiter did not apologize and instead treated the situation as if it were my fault. I can't even believe this has to be said.I will be back, because the food was delicious (other than the hair soup), but maybe to a different location.The food is great, even the waiters will convince you that they care. God forbid you stay for 15 more minutes after you pay, you will be asked to get drinks at the bar.Dropped by for restaurant week for lunch on a Thursday. At 12:30 PM it was 5 min for a bar seat or 45 min for a table for 2. We were seated at the bar pretty quickly. Weird that we didn't get the crostini sampler even though it was part of the RW menu. But I had the croquettes as the app. Surprisingly they gave a lot. You prob get around 6-7 mini croquettes that are really rich in flavor and yummy. From there I ordered the paella as part of the entree. Not the best paella I've had but it was good tasting. You get a good amount of seafood as well as seafood to rice ratio. For dessert, I had the chocolate creme which is kinda like a chocolate pudding but lighter. I enjoyed it!I may be in the minority, but I find Fig & Olive very pricey for such stingy portions. We ordered 3 types of crostini for $12. Our expectation was that there'd be few of each type, but there was only one of each little crostini. Although they were tasty and ingredients fresh, definitely not satisfying.Then we had cooked salmon, figuring we'd share the $24 dish, but it was hardly enough for one person! Wine, $12 a glass. Really?Not my idea of anything special. When I pay a lot, I expect a lot.Fig & Olive meets my definition of pretentious.Superb experience dining here for restaurant week. \\xa0Was able to get a reservation 10 mins in advance and service was excellent. \\xa0Food was also delicious, appetiter of truffle mushroom croquette and hamabi (yellowtail) with pomegranate seeds were both excellent. \\xa0I had duck breast entry and fianc?had salmon, they said salmon was their top seller but it seemed a bit average. Duck was good with tasty bed of sweet red cabbage and beets. \\xa0Chocolate pot dessert was very rich and yummy. \\xa0Great food and service! Would come again!Came here for restaurant week lunch and was not disappointed. The food and service were exceptional, and I think it's worth coming here for lunch if you were thinking about it (make a reservation though, this place is packed during lunch hours).The meal comes with an olive oil tasting with their home made bread. There's 3 different types of olive oil and the waiter explained the difference, but they were all kinda whatever. The bread tho (omg) was so good.We chose the crostini tasting which was an add-on for 3 dollars, and we got the mushroom, burrata, and onion. My favorite was the burrata. The onion was a bit too sweet for my liking.We chose the truffle mushroom croquettes and the salmon crudo for our appetizers, and they were both great. The croquettes were nice and crispy, and the mushroom filling was good, and the parmesan and truffle on top were amazing. The salmon had a nice mix of flavors; the saltiness from the sauce, the sourness of pomegranate, and the bitterness from the grapefruit. If you choose to go, I would just stick with one order of the croquettes because it is very filling and the truffle is strong.For the main courses we chose the paella with scallops ($6 supplement) and the squash risotto with shrimps ($8 supplement). Both dishes are beautifully plated, especially the paella. We added on 2 scallops (yes only two ) for $6 but I think it was worth it. The scallops were so fresh and perfectly seared. The rice was a but creamier than I expected (different than the paella I've had in Spain) but still good nonetheless. They were generous with the rest of the seafood. The risotto was disappointing, because I thought the granules of rice were too soft and a bit over cooked. I prefer my risottos al dente for the extra bite, but this had the texture of porridge almost. I added on 5 shrimps for a $8 supplement. The shrimps were nicely seared, but not a must try at $8. The kabocha was sweet and very tender which was nice. I would say this is a pass and try something else maybe. The portion for the paella is enormous, and is definitely something you can share. While the risotto portion wasn't enormous, it was extremely filling because of the creaminess from the starch and cheese.For the desserts, we chose the chocolate pot de creme and the dessert crostinis. We did not care for either because they were extremely sweet and one dimensional in flavor. The crostini itself was quite nice. The pot de creme was literally a cute pot of chocolate with cream on top (I personally find it gross but everyone has their tastes). If I come back during non restaurant week I'll skip the desserts.In total, our food itself came out to $80 ($29x2 for restaurant week course + $8 crostini + $6 scallops + $8 shrimps). I think it's hilarious how every time I go out for restaurant week it's never just $27/$42. All in all this is a great restaurant and I highly recommend you come here during restaurant week to get a feel for the food they serve here. The service is great; the waiters and the people in the front were super nice.\""
   ]
  },
  {
   "cell_type": "code",
   "execution_count": 36,
   "metadata": {
    "collapsed": true
   },
   "outputs": [],
   "source": [
    "figm2017=\"If you need a reservation or a last minute place, this venue in meatpacking could work. I have tried other Fig & Olives but not for brunch so this was an experiment. It was a great experience for a group and we all had beautiful dishes. My only wish is that cocktails could be in larger glasses or more affordable.Dined here for restaurant week on a Tuesday evening with an 8:30pm reservation for a party of 2. Upon arrival, the hostess let us know that the water had been turned off due to street construction so we went to the bar area for a drink and he noted that he would come to seat us once the situation was resolved. We each ordered a glass of wine and ~30-40 min passed. We started to see others being seated and concluded the hostess forgot us at the bar. We went back to the hostess and then were immediately seated.We had checked the menu beforehand and were very excited for the offerings! We started with a crostini sampler (3 for $8 because of RW) - mushroom/artichoke/truffle, burrata/pesto/balsamic, caramelized onion/goat cheese. All were delicious. I ordered the hamachi crudo as the RW app and my friend ordered the butternut squash soup. We both got the salmon entrees. For dessert, she got something chocolately and I got a cherry sorbet. Could have passed on the desserts as they were very average, but the main food menu would be something to come back for.Also, great atmosphere and ambiance on the inside. The decor gives a modern yet laid back NYC vibe.Nice restaurant, nice food, ok service. Our waitress was definitely a bit distracted throughout the night.Highlight of the food was the three types of olive oil that came with bread. One had a slightly bitter aftertaste, and the other two had variations of spicinesses. They really made the meal interesting and creative.We also loved our crostinis - goat cheese with sweet onion, avocado shrimp and manchego with jam. Avocado shrimp was the best.Hamachi crudo came with orange, which made it a bit sour, but the fish was very good. Mushroom croquette was served with just the right amount of truffle, but you could only eat a few as they're on the heavy side. Salmon was seared tenderly with a very crispy skin, and the duck came out very firm, which went well with the onion puree. Dessert was ok.Overall a nice place for a casual date, as the restaurant is very well decorated and very spacey. Ambiance is great for a romantic dinner. Need to improve on service just a bit.Been wanting to try this place for the longest time! And finally did. Loved the experience was classy and cute. The ambiance was great. The food was good had the cheese platter and the truffle pasta w salmon on the side. The menus are high tech (on ipads) and they have a wide alcohol selection. Would def come back and recommend!Tried this place during restaurant week. Everything we tried was excellent- fresh and balanced flavor. Will come back againA friend of mine told me to check this place out for brunch in the meatpacking district. I went on a glorious Sunday afternoon and it was quite delightful. I decided to sit by the bar since I was alone. My waiter, Alex , made my experience here a very positive one. First, this place is CLASSY AF! You will feel like a celebrity because the place is beautiful, and spacious, and totally looks like something out of a Kardashian Episode. Alex suggested that I try the crostini and I am happy that I did because they were awesome. Gorgonzola, goat cheese, and manchego quickly became a favorite. For my main meal, I had the poached eggs with priciutto. AMAZING! The salad was very fresh too. Loved he pear hollandaise sauce.The bartender hooked it up too with the jalape駉 martini. Never had one before but now I'm all about it. All in all, I had a very memorial pleasant experience due to all of Alex's suggestion. I will definitely be coming back here to try other things on the menuWe went here tonight for restaurant week. The food was good, not amazing but still good. The wine was good, very pricey, but still. \\xa0What went wrong was what happened after we left the restaurant. Clearly something was wrong with the food since all three of us are now sick in some way. \\xa0We shared the appetizers and dessert, but I am thinking it was one of the appetizers. \\xa0When you pay $75 to get sick it's a bad day. Not worth it. \\xa0This is New York, there are plenty of options, pick somewhere else and spare your self the trip to the bathroom.To me personally, the atmosphere is just as important as the food and this Fig & Olive delivers.\""
   ]
  },
  {
   "cell_type": "code",
   "execution_count": 37,
   "metadata": {
    "collapsed": true
   },
   "outputs": [],
   "source": [
    "limani2017=\"Dined here the other night and everything was fantastic. The decor is all white and clean. Hostesses were welcoming. I just had a few glasses of red wine (Malbec) and my hubby had Greek beer so can't comment on their specialty drinks, but they sounded great based on their descriptions. As for food, to start, we had fried calamari, grilled octopus and mushrooms (grilled shitaki, oyester and king mushroom). They were absolutely delicious. For main course, I had Filet Mignon cooked medium. The meat was tender, juicy and cooked perfectly. My hubby had swordfish which he loved as well. Ordered a side of beets salad and Broccoli robe. Beets delicious but broccoli robe was a bit bitter. It's expensive but worth it. Service was great too. All in all - very good!The food is mesh, the price is high, the atmosphere is boring, the service is poor. Really can't think anything nice to convince myself to come back.I would have given this restaurant 5 stars had our service been better. Don't get me wrong, the food was delicious and we had a very nice bus boy who took a nice picture of my friends at the bar. Here's where this place went wrong:My friends and I came here for restaurant week and as soon as we walked in we instantly felt isolated. We had reservations but even so, they decided to sit us as close to the door as possible even though the restaurant wasn't full. I didn't think much of this until other events transpired ( I'll get there). We felt constantly rushed throughout our meal. The wait staff kept circling our table and towards the end of our meal while we were finishing up our cocktails and desert the waitress lays our check on our table before we even finished up our drinks. It was if to say it's time for you and your minority friends to go. We were instantly insulted by this; you couldn't wait for us to ask for the check? This was the same courtesy you gave the table next to us. Couldn't you at least have waited until we finished our drinks? And how do they know we weren't going to order something else? Well, it was extremely rude and they just missed out on a chance to get another order from us. We decided to let the check sit there while we talk amongst ourselves because we paid for this experience and if we want to sit here a few mins we will. While we were sitting there talking and finishing up our drinks the waitress circles our table 7-9 times to see if we paid our check. I was just thinking like this is so rude? Why are you babysitting us? You didn't you babysit the table full of white woman next to us who were participating in restaurant week as well; you allowed them to ask for their check and leave on their own accord. It wasn't like we were sitting there for hours, we had JUST finished desert and were drinking. We weren't disruptive, just quietly talking to one another. \\xa0The whole thing was very unsettling and uncomfortable and they will not get our hard earned money again. Here a tip: Next time treat all of your customers the same. When they come, not matter what their skin color is, they are using their hard earned money and deserve the same respect as everyone else.Went here last week for restaurant week. Totally loved it. The space (at night) is really upscale in a swanky Miami way. The food was good. I had the tomato salad (GOOD but two of my tomatoes were soggy) , the lamb chops were were greaaaaat. I only eat lamb if it's Greek/middle eastern seasoned so this was perfect. I had three good sized chops, tasty fries and broccoli and cauliflower. It was a big portion and I'm still surprised I couldn't finish, but trust me I was really trying to. Somehow I managed to squeeze in the karidopita for dessert- walnut cake with LAVENDER ice cream, which i totally fell in love with. Hopefully will be back for any other dresses up occasion or restaurant week. It's worth the 42$ easilyI visited Limani for their restaurant week lunch specials.The entire restaurant is pristine white- the tables, the chairs, and the floor. I think they were going for a trendy look but all the whiteness made it feel a little sterile. There was a large blue pool in the middle which from afar looked neat against the white background. However, when I got closer I noticed it was actually pretty dirty and hadn't been cleaned in a while. It gets very crowded around 12:30 with midtown professionals. I would recommend making a reservation or getting to the restaurant before 12PM if you want to secure a seat without a wait. The restaurant week menu was pretty extensive with both seafood and meat options (no vegetarian options though!). I chose the tomato salad as my appetizer which was pretty delicious. The tomatoes were plentiful and very fresh. Another good option my co-workers raved about was the scallops. The avocado salad was also a favorite but it is a very small portion. For my entr閑 I choose the chicken which was pretty bland and a little too tough for me. I really had to work to cut into it. I think most of my co-workers were more impressed with their appetizer than entr閑 choice. The dessert I tried the karidopita with ice cream which was my favorite part of the meal. Overall, I think this restaurant is trying to be upscale and trendy but it just doesn't cut it. The d閏or is too sterile and the food isn't anything exceptional to command the high prices. If it wasn't restaurant week, I would not visit again.Friends who live in Manhattan recommended this restaurant & we must concur: it us lovely - all billowy white curtains, tables & white leather seating.It's Greek seafood. Wifey had lobster, best ever she said. Not a seafood fan, had lamb chops. They were spectacular. You great 3, very delicately flavored, with perfectly prepared carrots, cauliflower & broccoli.I'd say it is a bit expensive but it was worth it.Heartily recommend.Ambiance is modern and bright. High prices, average, at best, service and food. Exceptionally slow service. Food was poorly cleaned (sandy scallops, shrimp that had not been deveined, leafs and stems still on fruit. Would not recommend and will not return.I'm totally in love with this place!! The decor and the food was amazing, so fresh and the service was outstanding. I can't wait to go back. The grilled octopus was cooked to perfection and so buttery and the lobster was delicious!! My dessert was the perfect end with my coffee to an awesome and succulent meal.Food wonderful, great location for a Mediterranean rest... only thing staff to smile and be pleasant. Felt rushed and not welcoming. Hence why it's a three star. Otherwise excellent food.\""
   ]
  },
  {
   "cell_type": "code",
   "execution_count": 38,
   "metadata": {
    "collapsed": true
   },
   "outputs": [],
   "source": [
    "batard2017='Had a truly delightful meal here with my family for a group birthday celebration.The ambiance was simple and elegant. Stark black floors and pretty lighting fixtures with more than ample space between tables made for a nice atmosphere. Beware, though as the floors are slightly slanted which could make the table feel a bit uncomfortable.The service was incredibly friendly and accommodating. One member of my party regretted not ordering a different dish and pulled over the waitress who changed her order with no issue.The food was excellent! Their \"octopus pastrami\" was beautiful and tasted just like pastrami, I couldn\\'t believe it. The Leber and Zunge (liver and tongue) was so foreign to me that I knew I had to try it. While the texture was a bit odd, the flavor was excellent and I knew since the waitress said it was classically Austrian that this would be the place to enjoy it. For my main course I had a branzino with lentils that was truly delicious. Delicate, elegant and really a special dish. For dessert I had a duck egg creme  that extremely indulgent and very very well prepared. It rivaled the creme at Le Cirque!Overall a lovely meal with great company. Every dish that came out impressed me both with its flavor and its innovativeness. Highly recommend to anyone who wants to indulge in a nice meal.It seems that this place pre-made all their appetizers. The octopus pastrami is just OK. In addition, the restaurant need to put more focus on the staff training. It seems that the server does not care about customers who are not throwing $$$ to the food.Came on a Tuesday night and has a fantastic four course meal.- Drinks: Going gin fizz and another gin drink lovely - Bread - YuM!- Steak Tartare (best ever) Octopus Patrami - yummay- Carmelle and Lobster - Yum- Pork Shoulder and Arctic Char - amazing - Milk Bread (yes!) and Chocolate cake - goodGreat wines by the glass and solid bottles. Perfect service and no pretension. \\xa0Easy reservation.I LOVE this restaurant. \\xa0I came here with some girlfriends to celebrate my birthday and the staff at Batard treated us like rock stars. The meal and experience were incredible. We ordered the four course menu and between the three of us, I was able to sample most of the menu; my mouth is watering just thinking of it. Each bite was better than the last. That Amish Chicken tho... The sommelier was very helpful and picked a bottle that was within our price range and paired perfectly with the meal. What I love about Batard is that the quality and experience is worth the hype. The team is just lovely. Everyone went out of their way to make sure we had an incredible time. It\\'s exactly what hospitality should be. \\xa0Thank you for a wonderful time!There\\'s a reason OpenTable always seems to have Batard openings. I went in hoping it was a hidden gem per Yelp, but it turns out OpenTable availability doesn\\'t lie. We liked how unpretentious and minimalist the space was and how reasonable the prices were. Unfortunately, those good impressions were countervailed by the seemingly endless rotation of waitstaff and servers.On to the food. Love what they\\'re trying to do with the unique ingredient combos but most dishes fell short for us: the octopus was barely balanced by the ham hock, rabbit in the pasta was bland, chanterelles overpowered the duck, and yuzu ice cream tasted like artificial extract. I would recommend the pate, cheese plate, and venison though. Sadly two of those items don\\'t even involve cooking...'"
   ]
  },
  {
   "cell_type": "code",
   "execution_count": 39,
   "metadata": {
    "collapsed": true
   },
   "outputs": [],
   "source": [
    "tha2017=\"THE BEST!! Great service, delicious Mediterranean food, beautiful space, and the epitome of professionalism.My new wife and I came across Thalassa last year while searching online for a venue for our wedding reception (extended cocktail style). \\xa0We had been very disappointed by several of NYC's top restaurants due to their lack of attention, communication, and detail. When we contacted Thalassa, we were introduced to their general manager, Tasso. He was the game-changer! It quickly became clear that Tasso was extremely detail-oriented, communicative, and dedicated to ensuring our satisfaction. This effort, exhibited before we had even tasted menu items, put Thalassa at the top of our list.I scheduled a tasting with Tasso, on a busy Saturday night no less, and he could not have been more accommodating. He toured me around his beautiful restaurant while my fiancee was FaceTime'ing with us. We immediately fell in love with the wine cellar, which is furnished with masterfully hand-crafted Greek wood tables. Then I began wine tasting. The selection is to die for! Afterwards, I began sampling several items from the Private Events Menu. The freshness, quality, and delectability of each bite was almost overwhelming. That locked us in. In the weeks leading up to the wedding, Tasso was communicating with us regularly and responding to any questions we had. Truly attentive.Needless to say, our wedding reception went off exquisitely. Tasso even made arrangements for our live singers to perform using the on-site PA system. We received countless compliments on the food and service provided my Thalassa's staff. The tastiness of the food reflected its beautiful presentation. The bartenders and butlers were always available to us and our guests. Many of our friends and family also commented on the beautiful decor and ambiance. We did not decorate a thing. That's just how Thalassa rolls.Thalassa, Tasso, and Chef Ralpheal Abrahante were the BEST! I wish I could add more stars to this review. 0EUPDATE: there was an accidental billing mishap. i called and left a message. the owner, Steve, checked voice mails even though they were closed on sunday. he called me back immediately to address my concern and promised to correct the mistake on monday. really amazing customer service from the owner. However, not really excited by my interaction with the GM and the solution/info offered to rectify my situation. Dropping a star for this. Not what I hoped for from a higher end place. Otherwise, still a solid 4 star experience.soooooo tasty! we went here for restaurant week and everything was perfect. the ambiance, though definitely greek, is more like a hip night club and the food has similar flare... for example, we sat across from an aesthetically pleasing display of frozen sea creatures surrounded by the neon lights of a euro dance party... i never thought i would write that sentence... but this place took a common outdoor market experience and made it swank. much like my entr閑: baked salmon wrapped in grape leaves, served on top of artichoke hearts... it looked like a trendy nori sushi hand roll burrito thing... but had all the classic comforting greek flavors i hoped for! this place really focuses on cultivating their own playful style twist when it comes to traditional greek elements.i couldn't afford things if i had come for a regular meal. dear restaurant: thank you for offering such a hearty and well-priced meal set for NYC restaurant week 2017. and for my fellow SIBO pals (low fodmap, paleo, gluten free, dairy free crowds), if you want to check out restaurant week yourself, I know you will be given the same consideration and excellent customer care! here's what I recommend... (be flexible with sugar & garlic)table food: no gluten free bread, so ask for cut cucumbers to dip in oil. the olives are great! the hummus is made from fava beans (i think?)appetizer: the grilled octopus was delightful. i was bad and ate the drizzled sauce, but you could easily avoid it if you wanna be strictmeal 1: salmon crudo & zucchini flower shrimp salad are both great options; citrus lovers rejoice! meal 2: baked salmon wrapped in grape leaves... yummmmers! or the lamb but watch out for spinach risotto. i tried a little of my friend's risotto and it was waaaaay too delicious to be appropriate for us food sensitive types ;) but normal eaters, please chow down and enjoy so i may continue to vicariously enjoy the yums through your spinach risotto appreciation posts! meal 3: i didn't even ask for a moderation; our waiter offered fresh berries + mint leaves for my dessert. it was sprinkled with such a perfect sugar drizzle... so i was bad and also gobbled that up real quick! but the sugar was not much. i'm sure you could ask to avoid additional sugar. it was perfectly ripe blackberries and strawberries. drink: white wine is a good option to split with the table. we had dry ros?.. which is also not recommended for SIBO foodies (dry white is the only wine friendly option) but the dry pink ros?is a moderately not-so-bad SIBO choice... especially if you stick to 1 glass... which I didn't, annnnd I got so drunk I knocked over my glass (if you are reading restaurant staff: i'm sorry i was a giggly drunk mess towards the end!)so to recap: regular people, come eat this delicious meal. people with gastrointestinal troubles, come eat this meal. all people who want a swanky friday night NYC restaurant week experience, come eat this meal.We had our wedding here, and it was incredible! \\xa0So many of our guests said it was the best wedding they'd ever been to, the best food they'd ever had at a wedding, and we owe it entirely to the Thalassa staff (especially Tasso, the event coordinator). \\xa0From day one Tasso was so helpful in our planning - everything from figuring out the contract, to scheduling a tasting, to working out the timeline on the day of, to accepting deliveries and packages for our event.The restaurant was gorgeous for our wedding, and the staff was so great - guests never had an empty glass, plates were cleared immediately, our cake and cupcakes were presented and served perfectly - the entire day was completely seamless and smooth because of their expertise and impeccable service. \\xa0We can't wait to go back and celebrate anniversaries and other occasions at Thalassa - we highly recommend them for any event you are considering. \\xa0They helped give us the best day of our lives!\""
   ]
  },
  {
   "cell_type": "code",
   "execution_count": 40,
   "metadata": {
    "collapsed": true
   },
   "outputs": [],
   "source": [
    "figo2017='I had an absolutely delightful dinner here with my mom. She was in town for the weekend and we wanted a nice, leisurely spot to catch up. The restaurant has a lovely interior and we were seated at a high top close to the window allowing us to watch those passing by. The menu had so many yummy options we had trouble deciding! We went with the crostinis for an appetizer which were good but not my absolute fave. I LOVED the kabocha risotto. The fried sage and pumpkin seeds were the perfect touch. I wouldn\\'t recommend getting the chicken on it however. The chargrilled taste of the meat too away from the pasta. Anyways I would definitely come again.I stopped by here on a Friday evening after a long day of work and decided to treat myself to a nice glass of Chateau du Caillou Malbec while reading my ebook. I eventually got hungry and ordered from the Prix Fixe menu the truffle mushroom croquette (my absolute fave), penne funghi, and pot de crème. Everything was delicious and the staff was excellent and very attentive.Overall a nice experience. Relaxing atmosphere, fast service, surprisingly generous appetizer portion (burrata and beats - amazingly balanced, very tasty dish), and small entree dish (branzino with roasted potatoes). Filet wasn\\'t a good portion at all and at first I thought potatoes would be on a separate dish that wasn\\'t brought out yet, since I didn\\'t see them on the plate in front of me... until I poked the filet and caught a glimpse of potatoes underneath. Didn\\'t find anything attractive on the dessert menu, ordered something that had \"soufflé\" in the title and got unexpected cherry sorbet instead.My friend and I made a reservation for 6:30pm on a Wednesday. It wasn\\'t too crowded at that time but became more crowded around 8:30pm/9pm. We both opted for the prix fixe menu, which was surprisingly cheap at on $38 for an appetizer, entrée and dessert. I also ordered a white wine spritzer. The food and drinks were great and I recommend this chain for business meetings, first dates and lunch with friends. They also participate in restaurant week.Over the top fantastic lunch. Went there this weekend. Reservation made on Open Table was honored in a very timely fashion during restaurant week. Started off with three crostini, kabocha squash, mushroom and shrimp. They were delectable!For lunch I ordered chicken paillard and my dining companion ordered riviera salmon. They were both beautifully presented by a very professional yet friendly waiter. The meals were both sublime.We decided to forego dessert. The waiter came out with two plates of sampling desserts compliments of the chef, we were told. Oh my! They were mouthwatering!!! What a fantastic lingering taste to exit the restaurant with.I highly recommend this restaurant. I have also been in the one in the meatpacking district. They are both of excellent, superior quality.'"
   ]
  },
  {
   "cell_type": "code",
   "execution_count": 41,
   "metadata": {
    "collapsed": true
   },
   "outputs": [],
   "source": [
    "jap2017=\"Everything I've had here is excellent. Beautiful place and Japanese service. The soft tofu is worth the trip. Very expensive.I was there for my birthday and I have a phenomenal time! The food was delicious, the servers were great and the atmosphere was very relaxing but also upbeat! I would definitely recommend this place to anyone. The truffle chawamushi is to die for! The En Kaiseki is a great seven course meal that does not disappoint!I adore this place for UNI. I cannot get enough of all the uni and ikura options they have available. Their cocktails are amazing too. I come here when I have the craving for UNI and I want the best. I don't normally order rolls from here but this time I did. I have however been to EN many times and I have had some rolls I did not enjoy. I stick with my tried and true Uni , sashimi, salmon clay pot and I always enjoy their chamanmushi (steamed egg)Overpriced, mediocre food. Poor service. Very poor seating arrangements and general atmosphere. \\xa0This place practically belongs in times square, its very out of place in the neighborhood. The quality returned for the price is appalling in every aspect of the experience. Pass on this place, there are far better options.I highly doubt Ill be back for a second try.Oh My God. I love this place. Not just my favorite Japanese restaurant, but my favorite restaurant \\xa0PERIOD. Everything about my experience was A+. We had reservations for 8:30 and we were seated right away. The server was friendly and helpful. The food was delicious. You can tell the staff is so attentive and they go out of their way to make sure you're enjoying your night. The food came out in a very timely manner. My review is all over the place but this place is just amazing. I will be recommending it and returning soon!WOW! I decided to take my girlfriend out on a date to this delicious restaurant. After hearing many great reviews about it, I wanted to personally check it out myself. This is by far one of the best dining experiences we've ever had. The decor in the restaurant is classy and extremely fitting to what they server there, very Japanese like. We had wagyu beef and they specifically took the wagyu steak to show us before cooking it, which was very new to us and unexpected. The salmon nigiri was phenomenal and we'd order 10x of them if we were to go back, which I'm sure we will. We did order other things on the menu as well and they were equally as delicious. This is the place to go on a nice date.I'm so disappointed to see how much EN has changed since I first came 12 years ago and again 4 years ago. I dined there last week with my boyfriend, and man what a waste of money that experience was. Don't get me wrong, I don't mind spending $170, but the food needs to be top quality along with the service. Unfortunately we had neither. Our server was totally awkward and pretentious, and continued to interrupt our conversation every two minutes or so. Terrible intuition and situational awareness. Also he constantly tried to upsell us in a very obvious way (it's not like we each ordered a Miso soup- we dished out almost $200). My boyfriend's chicken dish was inedible. We are not chefs, but we could have made a more appetizing chicken at home. His lotus root appetizer tasted disgusting. Uni is one of my favorite foods, and I was really bored by the uni dish. It was TINY. I really regret going there and in hindsight should have gone to Yasuda.So so delicious. I am so sad it's so far from where I live. I enjoyed a 3 hour lunch recently - Food was so delicious that even though I was stuffed, I had to keep eating. Truly authentic Japanese sensibility in flavors, textures, and presentation.Some nice non-typical selections as well. the Shiso fried rice - was to die for. The ginkgo nut appetizer was so unusual but perfect with my ginger cocktail.Price was also very reasonable and service was great!Food and ambiance is really nice here! \\xa0Enjoyed the Black Cod, Anago Bozushi roll, Aburi Salmon and Avocado roll, and the sea trout. \\xa0Not a huge fan of the Ishinko (assorted pickles). \\xa0I could do without that. \\xa0Edamame was different yet tasty. \\xa0Definitely coming back to try some of the other dishes!Second time here, both were for business dinners so we had the private room. One star for the ingredients, they were fresh and nice, especially the \\xa0fish and truffles. One star for the decoration. Other than that... food presentation was cute, service was not bad, but they need to consider the food qualities after they cooked. I understand that they want to send the food at the same time to everyone, but the waygu beef was COLD! The clay pot rice was COLD! Very disappointing as they were the main dishes everyone was expecting. I have had better experience than EN.... The chef needs to consider to control the timing of the food temperature. The food's taste was good, but the COLD temperature took all the credits. Will not come back again.\""
   ]
  },
  {
   "cell_type": "code",
   "execution_count": 42,
   "metadata": {
    "collapsed": true
   },
   "outputs": [],
   "source": [
    "review2017={'ilili':ilili2017,'figny':figny2017,'figm':figm2017,'limani':limani2017,'batard':batard2017,\\\n",
    "            'tha':tha2017,'fig0':figo2017,'jap':jap2017}"
   ]
  },
  {
   "cell_type": "markdown",
   "metadata": {},
   "source": [
    "# sentiment analysis"
   ]
  },
  {
   "cell_type": "code",
   "execution_count": 43,
   "metadata": {
    "collapsed": true
   },
   "outputs": [],
   "source": [
    "import nltk\n",
    "import re\n",
    "from nltk.corpus import stopwords\n",
    "import pandas as pd \n",
    "\n",
    "\n",
    "def sentiment_analysis(text, positive_words, negative_words):\n",
    "    \n",
    "    sentiment=''\n",
    "    #set negations\n",
    "    negations=['not', 'too', 'n\\'t', 'no', 'cannot', 'neither','nor']\n",
    "    #using NLTK word tokenizer\n",
    "    tokens = nltk.word_tokenize(text.lower())\n",
    "    \n",
    "    token1 = [s for s in tokens if re.match(r'[^\\-_][a-zA-Z]*[\\-_]*[a-zA-Z]*[^\\-_]+$', s)]\n",
    "    #remove stop words\n",
    "    stop_words = stopwords.words('english')\n",
    "    token_select = [i for i in token1 if i not in stop_words]\n",
    "    \n",
    "    \n",
    "    #get positive words\n",
    "    positive_tokens=[]\n",
    "    for idx, token in enumerate(token_select):\n",
    "        if token in positive_words:\n",
    "            if idx>0:\n",
    "                if tokens[idx-1] not in negations:\n",
    "                    positive_tokens.append(token)\n",
    "            else:\n",
    "                positive_tokens.append(token)\n",
    "    #get negative words\n",
    "    negative_tokens=[]\n",
    "    for idx, token in enumerate(token_select):\n",
    "        if token in negative_words:\n",
    "            if idx>0:\n",
    "                if tokens[idx-1] not in negations:\n",
    "                    negative_tokens.append(token)\n",
    "            else:\n",
    "                negative_tokens.append(token)\n",
    "    #return sentiment\n",
    "    if len(positive_tokens)>len(negative_tokens):\n",
    "        sentiment='positive'\n",
    "    else:\n",
    "        sentiment='negative'\n",
    "    # write your code here\n",
    "    \n",
    "    return sentiment\n",
    "\n"
   ]
  },
  {
   "cell_type": "code",
   "execution_count": 44,
   "metadata": {},
   "outputs": [
    {
     "name": "stdout",
     "output_type": "stream",
     "text": [
      "\n",
      "sentiment\n",
      "positive\n"
     ]
    }
   ],
   "source": [
    "with open(\"positive-words.txt\",'r') as f:\n",
    "    positive_words=[line.strip() for line in f]\n",
    "        \n",
    "with open(\"negative-words.txt\",'r') as f:\n",
    "    negative_words=[line.strip() for line in f]\n",
    "        \n",
    "print(\"\\nsentiment\")\n",
    "sentiment=sentiment_analysis(review2018['ilili'], positive_words, negative_words)\n",
    "print(sentiment)"
   ]
  },
  {
   "cell_type": "code",
   "execution_count": 45,
   "metadata": {
    "collapsed": true
   },
   "outputs": [],
   "source": [
    "rest2018=list(review2018.keys())"
   ]
  },
  {
   "cell_type": "code",
   "execution_count": 46,
   "metadata": {},
   "outputs": [
    {
     "name": "stdout",
     "output_type": "stream",
     "text": [
      "['positive']\n",
      "['positive']\n",
      "['positive']\n",
      "['positive']\n",
      "['positive']\n",
      "['positive']\n",
      "['positive']\n",
      "['positive']\n"
     ]
    }
   ],
   "source": [
    "for i in rest2018:\n",
    "    sentiment=[]\n",
    "    s=sentiment_analysis(review2018[i], positive_words, negative_words)\n",
    "    sentiment.append(s)\n",
    "    print(sentiment)"
   ]
  },
  {
   "cell_type": "code",
   "execution_count": 47,
   "metadata": {
    "collapsed": true
   },
   "outputs": [],
   "source": [
    "rest2017=list(review2017.keys())"
   ]
  },
  {
   "cell_type": "code",
   "execution_count": 48,
   "metadata": {},
   "outputs": [
    {
     "name": "stdout",
     "output_type": "stream",
     "text": [
      "['positive']\n",
      "['positive']\n",
      "['positive']\n",
      "['positive']\n",
      "['positive']\n",
      "['positive']\n",
      "['positive']\n",
      "['positive']\n"
     ]
    }
   ],
   "source": [
    "for i in rest2017:\n",
    "    sentiment=[]\n",
    "    s=sentiment_analysis(review2017[i], positive_words, negative_words)\n",
    "    sentiment.append(s)\n",
    "    print(sentiment)"
   ]
  },
  {
   "cell_type": "markdown",
   "metadata": {},
   "source": [
    "# TF-IDF"
   ]
  },
  {
   "cell_type": "code",
   "execution_count": 49,
   "metadata": {
    "collapsed": true
   },
   "outputs": [],
   "source": [
    "import numpy as np \n",
    "import pandas as pd\n",
    "import nltk, re, string\n",
    "from nltk.corpus import wordnet\n",
    "from nltk.corpus import stopwords\n",
    "from nltk.stem import WordNetLemmatizer \n",
    "from nltk.stem.porter import PorterStemmer\n",
    "\n",
    "# library for normalization\n",
    "from sklearn.preprocessing import normalize\n",
    "\n",
    "# numpy is the package for matrix caculation\n",
    " \n",
    "\n",
    "stop_words = stopwords.words('english')\n",
    "\n",
    "text=[ilili_string,ilili2017,\\\n",
    "      figny2018,figny2017,\\\n",
    "      figm2018,figm2017,\\\n",
    "      Limani2018,limani2017,\\\n",
    "      Batard2018,batard2017,\\\n",
    "      tha2018,tha2017,\\\n",
    "      figo2018,figo2017,\\\n",
    "      jap_string,jap2017]\n"
   ]
  },
  {
   "cell_type": "code",
   "execution_count": 50,
   "metadata": {},
   "outputs": [],
   "source": [
    "def get_wordnet_pos(pos_tag):\n",
    "    \n",
    "    # if pos tag starts with 'J'\n",
    "    if pos_tag.startswith('J'):\n",
    "        # return wordnet tag \"ADJ\"\n",
    "        return wordnet.ADJ\n",
    "    \n",
    "    # if pos tag starts with 'V'\n",
    "    elif pos_tag.startswith('V'):\n",
    "        # return wordnet tag \"VERB\"\n",
    "        return wordnet.VERB\n",
    "    \n",
    "    # if pos tag starts with 'N'\n",
    "    elif pos_tag.startswith('N'):\n",
    "        # return wordnet tag \"NOUN\"\n",
    "        return wordnet.NOUN\n",
    "    \n",
    "    elif pos_tag.startswith('R'):\n",
    "        return wordnet.ADV\n",
    "    else:\n",
    "        # be default, return wordnet tag \"NOUN\"\n",
    "        return wordnet.NOUN"
   ]
  },
  {
   "cell_type": "code",
   "execution_count": 51,
   "metadata": {},
   "outputs": [
    {
     "name": "stdout",
     "output_type": "stream",
     "text": [
      "{0: FreqDist({'food': 27, \"n't\": 27, 'good': 25, 'restaurant': 22, 'really': 21, 'come': 18, 'like': 18, 'get': 18, 'one': 18, 'u': 17, ...}), 1: FreqDist({'food': 21, 'restaurant': 14, 'good': 13, 'lebanese': 12, 'great': 11, 'also': 9, 'little': 9, 'delicious': 9, 'hummus': 8, 'lamb': 8, ...}), 2: FreqDist({'food': 12, 'friend': 11, 'dessert': 11, 'great': 10, 'restaurant': 10, 'olive': 7, 'go': 7, 'also': 7, 'say': 7, 'chicken': 7, ...}), 3: FreqDist({'food': 14, 'get': 11, 'go': 10, 'restaurant': 10, 'great': 9, 'week': 9, 'good': 8, 'come': 8, 'service': 7, \"n't\": 7, ...}), 4: FreqDist({'great': 12, 'good': 9, 'place': 9, 'night': 8, 'restaurant': 8, 'olive': 7, 'food': 6, 'truffle': 6, 'wine': 5, 'bar': 5, ...}), 5: FreqDist({'come': 8, 'place': 7, 'food': 7, 'restaurant': 6, 'go': 6, 'back': 6, 'good': 5, 'try': 5, 'could': 4, 'great': 4, ...}), 6: FreqDist({'restaurant': 19, 'place': 12, 'food': 12, 'service': 11, 'well': 11, 'good': 11, 'week': 11, 'course': 10, \"n't\": 10, \"'s\": 9, ...}), 7: FreqDist({\"n't\": 17, 'restaurant': 13, 'food': 9, 'week': 8, \"'s\": 7, 'get': 7, 'u': 7, 'table': 7, 'service': 6, 'think': 6, ...}), 8: FreqDist({'restaurant': 19, 'order': 14, 'service': 11, 'menu': 10, 'course': 10, \"n't\": 10, 'food': 10, 'come': 9, 'cheese': 9, 'week': 9, ...}), 9: FreqDist({'meal': 4, 'dish': 4, 'octopus': 4, 'make': 3, 'order': 3, 'pastrami': 3, 'like': 3, \"n't\": 3, 'course': 3, 'lovely': 3, ...}), 10: FreqDist({'come': 7, 'wine': 6, 'u': 6, 'restaurant': 6, 'food': 5, 'dessert': 5, 'give': 5, '--': 4, 'great': 4, 'fish': 4, ...}), 11: FreqDist({'...': 10, 'restaurant': 9, 'tasso': 8, 'food': 7, 'thalassa': 7, 'come': 6, 'wed': 6, 'u': 6, 'meal': 6, 'best': 5, ...}), 12: FreqDist({'star': 2, 'food': 2, 'waiter': 2, 'friend': 2, 'server': 2, 'love': 2, 'duck': 2, '4': 1, '1': 1, 'busboys': 1, ...}), 13: FreqDist({\"n't\": 6, 'restaurant': 5, 'order': 5, 'menu': 4, 'dessert': 4, 'nice': 3, 'decide': 3, 'appetizer': 3, 'would': 3, 'recommend': 3, ...}), 14: FreqDist({'dish': 10, \"n't\": 8, 'u': 8, 'restaurant': 7, 'cod': 7, 'rice': 7, 'like': 7, 'take': 6, \"'s\": 5, 'salmon': 5, ...}), 15: FreqDist({'food': 13, 'place': 10, 'time': 7, 'delicious': 6, 'uni': 6, 'service': 5, 'come': 5, 'enjoy': 5, 'experience': 5, 'go': 5, ...})}\n"
     ]
    }
   ],
   "source": [
    "def get_doc_tokens(doc,lemmatized = True):\n",
    "    \n",
    "    stem_words = [ ]\n",
    "    porter_stemmer = PorterStemmer()\n",
    "    wordnet_lemmatizer = WordNetLemmatizer()\n",
    "    stop_words = stopwords.words('english')\n",
    "    \n",
    "    tokens = [token.strip() \\\n",
    "            for token in nltk.word_tokenize(doc.lower()) \\\n",
    "            if token.strip() not in stop_words and\\\n",
    "               token.strip() not in string.punctuation]\n",
    "    # add Lemmatization here\n",
    "    if lemmatized == True:\n",
    "        tagged_tokens = nltk.pos_tag(tokens)\n",
    "        le_words = [wordnet_lemmatizer.lemmatize(word, get_wordnet_pos(tag)) \\\n",
    "              for (word, tag) in tagged_tokens \\\n",
    "              if word not in stop_words and \\\n",
    "              word not in string.punctuation]\n",
    "        token_count = nltk.FreqDist(le_words)\n",
    "        return token_count\n",
    "    # add Stemming here\n",
    "    else:\n",
    "        for i in tokens:\n",
    "            after_stem = porter_stemmer.stem(str(i))\n",
    "            stem_words.append(after_stem)\n",
    "            token_count = nltk.FreqDist(stem_words)\n",
    "        return token_count\n",
    "\n",
    "docs_tokens = {idx:get_doc_tokens(doc,True) \\\n",
    "             for idx,doc in enumerate(text)}\n",
    "print(docs_tokens)"
   ]
  },
  {
   "cell_type": "code",
   "execution_count": 52,
   "metadata": {},
   "outputs": [
    {
     "data": {
      "text/html": [
       "<div>\n",
       "<style>\n",
       "    .dataframe thead tr:only-child th {\n",
       "        text-align: right;\n",
       "    }\n",
       "\n",
       "    .dataframe thead th {\n",
       "        text-align: left;\n",
       "    }\n",
       "\n",
       "    .dataframe tbody tr th {\n",
       "        vertical-align: top;\n",
       "    }\n",
       "</style>\n",
       "<table border=\"1\" class=\"dataframe\">\n",
       "  <thead>\n",
       "    <tr style=\"text-align: right;\">\n",
       "      <th></th>\n",
       "      <th>go</th>\n",
       "      <th>3</th>\n",
       "      <th>friend</th>\n",
       "      <th>restaurant</th>\n",
       "      <th>week</th>\n",
       "      <th>waitress</th>\n",
       "      <th>encourage</th>\n",
       "      <th>u</th>\n",
       "      <th>buy</th>\n",
       "      <th>different</th>\n",
       "      <th>...</th>\n",
       "      <th>aburi</th>\n",
       "      <th>trout</th>\n",
       "      <th>ishinko</th>\n",
       "      <th>assort</th>\n",
       "      <th>edamame</th>\n",
       "      <th>decoration</th>\n",
       "      <th>send</th>\n",
       "      <th>waygu</th>\n",
       "      <th>temperature</th>\n",
       "      <th>credit</th>\n",
       "    </tr>\n",
       "  </thead>\n",
       "  <tbody>\n",
       "    <tr>\n",
       "      <th>0</th>\n",
       "      <td>7</td>\n",
       "      <td>5.0</td>\n",
       "      <td>7.0</td>\n",
       "      <td>22</td>\n",
       "      <td>12.0</td>\n",
       "      <td>3.0</td>\n",
       "      <td>1.0</td>\n",
       "      <td>17.0</td>\n",
       "      <td>1.0</td>\n",
       "      <td>7.0</td>\n",
       "      <td>...</td>\n",
       "      <td>0.0</td>\n",
       "      <td>0.0</td>\n",
       "      <td>0.0</td>\n",
       "      <td>0.0</td>\n",
       "      <td>0.0</td>\n",
       "      <td>0.0</td>\n",
       "      <td>0.0</td>\n",
       "      <td>0.0</td>\n",
       "      <td>0.0</td>\n",
       "      <td>0.0</td>\n",
       "    </tr>\n",
       "    <tr>\n",
       "      <th>1</th>\n",
       "      <td>4</td>\n",
       "      <td>2.0</td>\n",
       "      <td>6.0</td>\n",
       "      <td>14</td>\n",
       "      <td>5.0</td>\n",
       "      <td>2.0</td>\n",
       "      <td>0.0</td>\n",
       "      <td>1.0</td>\n",
       "      <td>0.0</td>\n",
       "      <td>0.0</td>\n",
       "      <td>...</td>\n",
       "      <td>0.0</td>\n",
       "      <td>0.0</td>\n",
       "      <td>0.0</td>\n",
       "      <td>0.0</td>\n",
       "      <td>0.0</td>\n",
       "      <td>0.0</td>\n",
       "      <td>0.0</td>\n",
       "      <td>0.0</td>\n",
       "      <td>0.0</td>\n",
       "      <td>0.0</td>\n",
       "    </tr>\n",
       "    <tr>\n",
       "      <th>2</th>\n",
       "      <td>7</td>\n",
       "      <td>0.0</td>\n",
       "      <td>11.0</td>\n",
       "      <td>10</td>\n",
       "      <td>5.0</td>\n",
       "      <td>0.0</td>\n",
       "      <td>0.0</td>\n",
       "      <td>1.0</td>\n",
       "      <td>0.0</td>\n",
       "      <td>1.0</td>\n",
       "      <td>...</td>\n",
       "      <td>0.0</td>\n",
       "      <td>0.0</td>\n",
       "      <td>0.0</td>\n",
       "      <td>0.0</td>\n",
       "      <td>0.0</td>\n",
       "      <td>0.0</td>\n",
       "      <td>0.0</td>\n",
       "      <td>0.0</td>\n",
       "      <td>0.0</td>\n",
       "      <td>0.0</td>\n",
       "    </tr>\n",
       "    <tr>\n",
       "      <th>3</th>\n",
       "      <td>10</td>\n",
       "      <td>3.0</td>\n",
       "      <td>2.0</td>\n",
       "      <td>10</td>\n",
       "      <td>9.0</td>\n",
       "      <td>1.0</td>\n",
       "      <td>0.0</td>\n",
       "      <td>1.0</td>\n",
       "      <td>1.0</td>\n",
       "      <td>4.0</td>\n",
       "      <td>...</td>\n",
       "      <td>0.0</td>\n",
       "      <td>0.0</td>\n",
       "      <td>0.0</td>\n",
       "      <td>0.0</td>\n",
       "      <td>0.0</td>\n",
       "      <td>0.0</td>\n",
       "      <td>0.0</td>\n",
       "      <td>0.0</td>\n",
       "      <td>0.0</td>\n",
       "      <td>0.0</td>\n",
       "    </tr>\n",
       "    <tr>\n",
       "      <th>4</th>\n",
       "      <td>3</td>\n",
       "      <td>2.0</td>\n",
       "      <td>1.0</td>\n",
       "      <td>8</td>\n",
       "      <td>5.0</td>\n",
       "      <td>0.0</td>\n",
       "      <td>0.0</td>\n",
       "      <td>3.0</td>\n",
       "      <td>0.0</td>\n",
       "      <td>1.0</td>\n",
       "      <td>...</td>\n",
       "      <td>0.0</td>\n",
       "      <td>0.0</td>\n",
       "      <td>0.0</td>\n",
       "      <td>0.0</td>\n",
       "      <td>0.0</td>\n",
       "      <td>0.0</td>\n",
       "      <td>0.0</td>\n",
       "      <td>0.0</td>\n",
       "      <td>0.0</td>\n",
       "      <td>0.0</td>\n",
       "    </tr>\n",
       "    <tr>\n",
       "      <th>5</th>\n",
       "      <td>6</td>\n",
       "      <td>1.0</td>\n",
       "      <td>2.0</td>\n",
       "      <td>6</td>\n",
       "      <td>3.0</td>\n",
       "      <td>1.0</td>\n",
       "      <td>0.0</td>\n",
       "      <td>4.0</td>\n",
       "      <td>0.0</td>\n",
       "      <td>0.0</td>\n",
       "      <td>...</td>\n",
       "      <td>0.0</td>\n",
       "      <td>0.0</td>\n",
       "      <td>0.0</td>\n",
       "      <td>0.0</td>\n",
       "      <td>0.0</td>\n",
       "      <td>0.0</td>\n",
       "      <td>0.0</td>\n",
       "      <td>0.0</td>\n",
       "      <td>0.0</td>\n",
       "      <td>0.0</td>\n",
       "    </tr>\n",
       "    <tr>\n",
       "      <th>6</th>\n",
       "      <td>5</td>\n",
       "      <td>2.0</td>\n",
       "      <td>1.0</td>\n",
       "      <td>19</td>\n",
       "      <td>11.0</td>\n",
       "      <td>0.0</td>\n",
       "      <td>0.0</td>\n",
       "      <td>7.0</td>\n",
       "      <td>0.0</td>\n",
       "      <td>3.0</td>\n",
       "      <td>...</td>\n",
       "      <td>0.0</td>\n",
       "      <td>0.0</td>\n",
       "      <td>0.0</td>\n",
       "      <td>0.0</td>\n",
       "      <td>0.0</td>\n",
       "      <td>0.0</td>\n",
       "      <td>0.0</td>\n",
       "      <td>0.0</td>\n",
       "      <td>0.0</td>\n",
       "      <td>0.0</td>\n",
       "    </tr>\n",
       "    <tr>\n",
       "      <th>7</th>\n",
       "      <td>5</td>\n",
       "      <td>1.0</td>\n",
       "      <td>2.0</td>\n",
       "      <td>13</td>\n",
       "      <td>8.0</td>\n",
       "      <td>2.0</td>\n",
       "      <td>0.0</td>\n",
       "      <td>7.0</td>\n",
       "      <td>0.0</td>\n",
       "      <td>0.0</td>\n",
       "      <td>...</td>\n",
       "      <td>0.0</td>\n",
       "      <td>0.0</td>\n",
       "      <td>0.0</td>\n",
       "      <td>0.0</td>\n",
       "      <td>0.0</td>\n",
       "      <td>0.0</td>\n",
       "      <td>0.0</td>\n",
       "      <td>0.0</td>\n",
       "      <td>0.0</td>\n",
       "      <td>0.0</td>\n",
       "    </tr>\n",
       "    <tr>\n",
       "      <th>8</th>\n",
       "      <td>6</td>\n",
       "      <td>1.0</td>\n",
       "      <td>6.0</td>\n",
       "      <td>19</td>\n",
       "      <td>9.0</td>\n",
       "      <td>0.0</td>\n",
       "      <td>0.0</td>\n",
       "      <td>5.0</td>\n",
       "      <td>0.0</td>\n",
       "      <td>0.0</td>\n",
       "      <td>...</td>\n",
       "      <td>0.0</td>\n",
       "      <td>0.0</td>\n",
       "      <td>0.0</td>\n",
       "      <td>0.0</td>\n",
       "      <td>0.0</td>\n",
       "      <td>0.0</td>\n",
       "      <td>0.0</td>\n",
       "      <td>0.0</td>\n",
       "      <td>0.0</td>\n",
       "      <td>0.0</td>\n",
       "    </tr>\n",
       "    <tr>\n",
       "      <th>9</th>\n",
       "      <td>3</td>\n",
       "      <td>0.0</td>\n",
       "      <td>0.0</td>\n",
       "      <td>2</td>\n",
       "      <td>0.0</td>\n",
       "      <td>2.0</td>\n",
       "      <td>0.0</td>\n",
       "      <td>3.0</td>\n",
       "      <td>0.0</td>\n",
       "      <td>1.0</td>\n",
       "      <td>...</td>\n",
       "      <td>0.0</td>\n",
       "      <td>0.0</td>\n",
       "      <td>0.0</td>\n",
       "      <td>0.0</td>\n",
       "      <td>0.0</td>\n",
       "      <td>0.0</td>\n",
       "      <td>0.0</td>\n",
       "      <td>0.0</td>\n",
       "      <td>0.0</td>\n",
       "      <td>0.0</td>\n",
       "    </tr>\n",
       "    <tr>\n",
       "      <th>10</th>\n",
       "      <td>2</td>\n",
       "      <td>1.0</td>\n",
       "      <td>2.0</td>\n",
       "      <td>6</td>\n",
       "      <td>3.0</td>\n",
       "      <td>0.0</td>\n",
       "      <td>0.0</td>\n",
       "      <td>6.0</td>\n",
       "      <td>0.0</td>\n",
       "      <td>1.0</td>\n",
       "      <td>...</td>\n",
       "      <td>0.0</td>\n",
       "      <td>0.0</td>\n",
       "      <td>0.0</td>\n",
       "      <td>0.0</td>\n",
       "      <td>0.0</td>\n",
       "      <td>0.0</td>\n",
       "      <td>0.0</td>\n",
       "      <td>0.0</td>\n",
       "      <td>0.0</td>\n",
       "      <td>0.0</td>\n",
       "    </tr>\n",
       "    <tr>\n",
       "      <th>11</th>\n",
       "      <td>3</td>\n",
       "      <td>1.0</td>\n",
       "      <td>2.0</td>\n",
       "      <td>9</td>\n",
       "      <td>5.0</td>\n",
       "      <td>0.0</td>\n",
       "      <td>0.0</td>\n",
       "      <td>6.0</td>\n",
       "      <td>0.0</td>\n",
       "      <td>0.0</td>\n",
       "      <td>...</td>\n",
       "      <td>0.0</td>\n",
       "      <td>0.0</td>\n",
       "      <td>0.0</td>\n",
       "      <td>0.0</td>\n",
       "      <td>0.0</td>\n",
       "      <td>0.0</td>\n",
       "      <td>0.0</td>\n",
       "      <td>0.0</td>\n",
       "      <td>0.0</td>\n",
       "      <td>0.0</td>\n",
       "    </tr>\n",
       "    <tr>\n",
       "      <th>12</th>\n",
       "      <td>1</td>\n",
       "      <td>0.0</td>\n",
       "      <td>2.0</td>\n",
       "      <td>1</td>\n",
       "      <td>1.0</td>\n",
       "      <td>0.0</td>\n",
       "      <td>0.0</td>\n",
       "      <td>0.0</td>\n",
       "      <td>0.0</td>\n",
       "      <td>0.0</td>\n",
       "      <td>...</td>\n",
       "      <td>0.0</td>\n",
       "      <td>0.0</td>\n",
       "      <td>0.0</td>\n",
       "      <td>0.0</td>\n",
       "      <td>0.0</td>\n",
       "      <td>0.0</td>\n",
       "      <td>0.0</td>\n",
       "      <td>0.0</td>\n",
       "      <td>0.0</td>\n",
       "      <td>0.0</td>\n",
       "    </tr>\n",
       "    <tr>\n",
       "      <th>13</th>\n",
       "      <td>2</td>\n",
       "      <td>0.0</td>\n",
       "      <td>2.0</td>\n",
       "      <td>5</td>\n",
       "      <td>1.0</td>\n",
       "      <td>0.0</td>\n",
       "      <td>0.0</td>\n",
       "      <td>1.0</td>\n",
       "      <td>0.0</td>\n",
       "      <td>0.0</td>\n",
       "      <td>...</td>\n",
       "      <td>0.0</td>\n",
       "      <td>0.0</td>\n",
       "      <td>0.0</td>\n",
       "      <td>0.0</td>\n",
       "      <td>0.0</td>\n",
       "      <td>0.0</td>\n",
       "      <td>0.0</td>\n",
       "      <td>0.0</td>\n",
       "      <td>0.0</td>\n",
       "      <td>0.0</td>\n",
       "    </tr>\n",
       "    <tr>\n",
       "      <th>14</th>\n",
       "      <td>1</td>\n",
       "      <td>0.0</td>\n",
       "      <td>1.0</td>\n",
       "      <td>7</td>\n",
       "      <td>0.0</td>\n",
       "      <td>2.0</td>\n",
       "      <td>0.0</td>\n",
       "      <td>8.0</td>\n",
       "      <td>0.0</td>\n",
       "      <td>0.0</td>\n",
       "      <td>...</td>\n",
       "      <td>0.0</td>\n",
       "      <td>0.0</td>\n",
       "      <td>0.0</td>\n",
       "      <td>0.0</td>\n",
       "      <td>0.0</td>\n",
       "      <td>0.0</td>\n",
       "      <td>0.0</td>\n",
       "      <td>0.0</td>\n",
       "      <td>0.0</td>\n",
       "      <td>0.0</td>\n",
       "    </tr>\n",
       "    <tr>\n",
       "      <th>15</th>\n",
       "      <td>5</td>\n",
       "      <td>1.0</td>\n",
       "      <td>0.0</td>\n",
       "      <td>4</td>\n",
       "      <td>1.0</td>\n",
       "      <td>0.0</td>\n",
       "      <td>0.0</td>\n",
       "      <td>3.0</td>\n",
       "      <td>0.0</td>\n",
       "      <td>1.0</td>\n",
       "      <td>...</td>\n",
       "      <td>1.0</td>\n",
       "      <td>1.0</td>\n",
       "      <td>1.0</td>\n",
       "      <td>1.0</td>\n",
       "      <td>1.0</td>\n",
       "      <td>1.0</td>\n",
       "      <td>1.0</td>\n",
       "      <td>1.0</td>\n",
       "      <td>2.0</td>\n",
       "      <td>1.0</td>\n",
       "    </tr>\n",
       "  </tbody>\n",
       "</table>\n",
       "<p>16 rows × 2676 columns</p>\n",
       "</div>"
      ],
      "text/plain": [
       "    go    3  friend  restaurant  week  waitress  encourage     u  buy  \\\n",
       "0    7  5.0     7.0          22  12.0       3.0        1.0  17.0  1.0   \n",
       "1    4  2.0     6.0          14   5.0       2.0        0.0   1.0  0.0   \n",
       "2    7  0.0    11.0          10   5.0       0.0        0.0   1.0  0.0   \n",
       "3   10  3.0     2.0          10   9.0       1.0        0.0   1.0  1.0   \n",
       "4    3  2.0     1.0           8   5.0       0.0        0.0   3.0  0.0   \n",
       "5    6  1.0     2.0           6   3.0       1.0        0.0   4.0  0.0   \n",
       "6    5  2.0     1.0          19  11.0       0.0        0.0   7.0  0.0   \n",
       "7    5  1.0     2.0          13   8.0       2.0        0.0   7.0  0.0   \n",
       "8    6  1.0     6.0          19   9.0       0.0        0.0   5.0  0.0   \n",
       "9    3  0.0     0.0           2   0.0       2.0        0.0   3.0  0.0   \n",
       "10   2  1.0     2.0           6   3.0       0.0        0.0   6.0  0.0   \n",
       "11   3  1.0     2.0           9   5.0       0.0        0.0   6.0  0.0   \n",
       "12   1  0.0     2.0           1   1.0       0.0        0.0   0.0  0.0   \n",
       "13   2  0.0     2.0           5   1.0       0.0        0.0   1.0  0.0   \n",
       "14   1  0.0     1.0           7   0.0       2.0        0.0   8.0  0.0   \n",
       "15   5  1.0     0.0           4   1.0       0.0        0.0   3.0  0.0   \n",
       "\n",
       "    different   ...    aburi  trout  ishinko  assort  edamame  decoration  \\\n",
       "0         7.0   ...      0.0    0.0      0.0     0.0      0.0         0.0   \n",
       "1         0.0   ...      0.0    0.0      0.0     0.0      0.0         0.0   \n",
       "2         1.0   ...      0.0    0.0      0.0     0.0      0.0         0.0   \n",
       "3         4.0   ...      0.0    0.0      0.0     0.0      0.0         0.0   \n",
       "4         1.0   ...      0.0    0.0      0.0     0.0      0.0         0.0   \n",
       "5         0.0   ...      0.0    0.0      0.0     0.0      0.0         0.0   \n",
       "6         3.0   ...      0.0    0.0      0.0     0.0      0.0         0.0   \n",
       "7         0.0   ...      0.0    0.0      0.0     0.0      0.0         0.0   \n",
       "8         0.0   ...      0.0    0.0      0.0     0.0      0.0         0.0   \n",
       "9         1.0   ...      0.0    0.0      0.0     0.0      0.0         0.0   \n",
       "10        1.0   ...      0.0    0.0      0.0     0.0      0.0         0.0   \n",
       "11        0.0   ...      0.0    0.0      0.0     0.0      0.0         0.0   \n",
       "12        0.0   ...      0.0    0.0      0.0     0.0      0.0         0.0   \n",
       "13        0.0   ...      0.0    0.0      0.0     0.0      0.0         0.0   \n",
       "14        0.0   ...      0.0    0.0      0.0     0.0      0.0         0.0   \n",
       "15        1.0   ...      1.0    1.0      1.0     1.0      1.0         1.0   \n",
       "\n",
       "    send  waygu  temperature  credit  \n",
       "0    0.0    0.0          0.0     0.0  \n",
       "1    0.0    0.0          0.0     0.0  \n",
       "2    0.0    0.0          0.0     0.0  \n",
       "3    0.0    0.0          0.0     0.0  \n",
       "4    0.0    0.0          0.0     0.0  \n",
       "5    0.0    0.0          0.0     0.0  \n",
       "6    0.0    0.0          0.0     0.0  \n",
       "7    0.0    0.0          0.0     0.0  \n",
       "8    0.0    0.0          0.0     0.0  \n",
       "9    0.0    0.0          0.0     0.0  \n",
       "10   0.0    0.0          0.0     0.0  \n",
       "11   0.0    0.0          0.0     0.0  \n",
       "12   0.0    0.0          0.0     0.0  \n",
       "13   0.0    0.0          0.0     0.0  \n",
       "14   0.0    0.0          0.0     0.0  \n",
       "15   1.0    1.0          2.0     1.0  \n",
       "\n",
       "[16 rows x 2676 columns]"
      ]
     },
     "execution_count": 52,
     "metadata": {},
     "output_type": "execute_result"
    }
   ],
   "source": [
    "\n",
    "# since we have a small corpus, we can use dataframe \n",
    "# to get document-term matrix\n",
    "# but don't use this when you have a large corpus\n",
    "\n",
    "dtm=pd.DataFrame.from_dict(docs_tokens, orient=\"index\" )\n",
    "dtm=dtm.fillna(0)\n",
    "dtm"
   ]
  },
  {
   "cell_type": "code",
   "execution_count": 53,
   "metadata": {},
   "outputs": [
    {
     "name": "stdout",
     "output_type": "stream",
     "text": [
      "[[  7.   5.   7. ...,   0.   0.   0.]\n",
      " [  4.   2.   6. ...,   0.   0.   0.]\n",
      " [  7.   0.  11. ...,   0.   0.   0.]\n",
      " ..., \n",
      " [  2.   0.   2. ...,   0.   0.   0.]\n",
      " [  1.   0.   1. ...,   0.   0.   0.]\n",
      " [  5.   1.   0. ...,   1.   2.   1.]]\n",
      "[ 2076.   877.   788.   874.   583.   420.  1162.   616.  1051.   333.\n",
      "   333.   639.    57.   273.   542.   457.]\n",
      "[[ 0.00337187  0.00240848  0.00337187 ...,  0.          0.          0.        ]\n",
      " [ 0.004561    0.0022805   0.00684151 ...,  0.          0.          0.        ]\n",
      " [ 0.00888325  0.          0.01395939 ...,  0.          0.          0.        ]\n",
      " ..., \n",
      " [ 0.00732601  0.          0.00732601 ...,  0.          0.          0.        ]\n",
      " [ 0.00184502  0.          0.00184502 ...,  0.          0.          0.        ]\n",
      " [ 0.01094092  0.00218818  0.         ...,  0.00218818  0.00437637\n",
      "   0.00218818]]\n"
     ]
    }
   ],
   "source": [
    "# step 4. get normalized term frequency (tf) matrix\n",
    "\n",
    "# convert dtm to numpy arrays\n",
    "tf=dtm.values\n",
    "print(tf)\n",
    "# sum the value of each row\n",
    "doc_len=tf.sum(axis=1)\n",
    "print(doc_len)\n",
    "\n",
    "# divide dtm matrix by the doc length matrix\n",
    "tf=np.divide(tf.T, doc_len).T\n",
    "print(tf)"
   ]
  },
  {
   "cell_type": "code",
   "execution_count": 54,
   "metadata": {},
   "outputs": [
    {
     "name": "stdout",
     "output_type": "stream",
     "text": [
      "[[1 1 1 ..., 0 0 0]\n",
      " [1 1 1 ..., 0 0 0]\n",
      " [1 0 1 ..., 0 0 0]\n",
      " ..., \n",
      " [1 0 1 ..., 0 0 0]\n",
      " [1 0 1 ..., 0 0 0]\n",
      " [1 1 0 ..., 1 1 1]]\n",
      "\n",
      "IDF Matrix\n",
      "[ 1.          1.37469345  1.13353139 ...,  3.77258872  3.77258872\n",
      "  3.77258872]\n",
      "\n",
      "Smoothed IDF Matrix\n",
      "[ 1.          1.34830669  1.12516314 ...,  3.14006616  3.14006616\n",
      "  3.14006616]\n"
     ]
    }
   ],
   "source": [
    "# step 5. get idf\n",
    "\n",
    "# get document freqent\n",
    "df=np.where(tf>0,1,0)\n",
    "print(df)\n",
    "\n",
    "# get idf\n",
    "idf=np.log(np.divide(len(text), \\\n",
    "        np.sum(df, axis=0)))+1\n",
    "print(\"\\nIDF Matrix\")\n",
    "print (idf)\n",
    "\n",
    "\n",
    "smoothed_idf=np.log(np.divide(len(text)+1, np.sum(df, axis=0)+1))+1\n",
    "print(\"\\nSmoothed IDF Matrix\")\n",
    "print(smoothed_idf)\n"
   ]
  },
  {
   "cell_type": "code",
   "execution_count": 55,
   "metadata": {},
   "outputs": [
    {
     "name": "stdout",
     "output_type": "stream",
     "text": [
      "TF-IDF Matrix\n",
      "[[ 0.03709091  0.03642045  0.04204371 ...,  0.          0.          0.        ]\n",
      " [ 0.03730695  0.02564281  0.06343289 ...,  0.          0.          0.        ]\n",
      " [ 0.08021099  0.          0.14287692 ...,  0.          0.          0.        ]\n",
      " ..., \n",
      " [ 0.04569875  0.          0.05180097 ...,  0.          0.          0.        ]\n",
      " [ 0.01265307  0.          0.01434265 ...,  0.          0.          0.        ]\n",
      " [ 0.07645161  0.02101951  0.         ...,  0.0576841   0.1153682\n",
      "   0.0576841 ]]\n",
      "\n",
      "Smoothed TF-IDF Matrix\n",
      "[[ 0.03972244  0.03825574  0.04469422 ...,  0.          0.          0.        ]\n",
      " [ 0.04072781  0.02745679  0.06873815 ...,  0.          0.          0.        ]\n",
      " [ 0.08635078  0.          0.15267799 ...,  0.          0.          0.        ]\n",
      " ..., \n",
      " [ 0.05048869  0.          0.05680801 ...,  0.          0.          0.        ]\n",
      " [ 0.01399434  0.          0.01574592 ...,  0.          0.          0.        ]\n",
      " [ 0.08403905  0.02266208  0.         ...,  0.05277763  0.10555527\n",
      "   0.05277763]]\n"
     ]
    }
   ],
   "source": [
    "# step 6. get tf-idf\n",
    "print(\"TF-IDF Matrix\")\n",
    "tf_idf=normalize(tf*idf)\n",
    "print(tf_idf)\n",
    "\n",
    "print(\"\\nSmoothed TF-IDF Matrix\")\n",
    "smoothed_tf_idf=normalize(tf*smoothed_idf)\n",
    "print(smoothed_tf_idf)"
   ]
  },
  {
   "cell_type": "code",
   "execution_count": 56,
   "metadata": {},
   "outputs": [
    {
     "name": "stdout",
     "output_type": "stream",
     "text": [
      "[[1337 1780 1781 ...,   10   86   17]\n",
      " [1337 1780 1781 ...,   16   10  312]\n",
      " [1337 1780 1781 ...,    2  268  516]\n",
      " ..., \n",
      " [1337 1743 1744 ..., 2477   86 1125]\n",
      " [1337 1710 1711 ...,   99   96 2524]\n",
      " [1337 1732 1733 ...,  110   10 2620]]\n",
      "[[  17   86   10   29  119]\n",
      " [ 312   10   16  216  857]\n",
      " [ 516  268    2  463   10]\n",
      " [1372 1338   10 1098 1307]\n",
      " [ 463  373 1098  240  110]\n",
      " [1613   43  110  494  186]\n",
      " [   3  601  749 1683  110]\n",
      " [  86    3  811 1871    4]\n",
      " [2174    3 2052  494   69]\n",
      " [1970 1995  954 2222 2238]\n",
      " [1215  601   70 1593   43]\n",
      " [2321 2258 2068  138  837]\n",
      " [2472 2468 2469 2470 2471]\n",
      " [1125   86 2477 2476   69]\n",
      " [2524   96   99 2583 2554]\n",
      " [2620   10  110 2520 1168]]\n",
      "['lamb', \"n't\", 'food', 'good', 'really']\n",
      "['lebanese', 'food', 'hummus', 'ilili', 'spread']\n",
      "['fig', 'dessert', 'friend', 'olive', 'food']\n",
      "['paella', 'hair', 'food', 'truffle', '6']\n",
      "['olive', 'great', 'truffle', 'night', 'place']\n",
      "['alex', 'come', 'place', 'cheese', 'something']\n",
      "['restaurant', '--', 'boyfriend', 'limani', 'place']\n",
      "[\"n't\", 'restaurant', 'white', 'broccoli', 'week']\n",
      "['glassware', 'restaurant', 'viennese', 'cheese', 'order']\n",
      "['pastrami', 'batard', 'octopus', 'gin', 'opentable']\n",
      "['complimentary', '--', 'wine', 'fish', 'come']\n",
      "['tasso', 'thalassa', 'wed', '...', 'sugar']\n",
      "['slaw', 'oyster.i', 'welcoming', 'assistant', 'thoroughly']\n",
      "['potato', \"n't\", 'fave', 'absolute', 'order']\n",
      "['cod', 'rice', 'dish', 'soba', 'kaiseki']\n",
      "['uni', 'food', 'place', 'japanese', 'en']\n"
     ]
    }
   ],
   "source": [
    "# Exercise 7.2. Find the top three words \n",
    "# of each document by TF-IDF weight\n",
    "print(smoothed_tf_idf.argsort())\n",
    "top=smoothed_tf_idf.argsort()[:,::-1][:,0:5]\n",
    "print(top)\n",
    "for row in top:\n",
    "    print([dtm.columns[x] for x in row])"
   ]
  }
 ],
 "metadata": {
  "kernelspec": {
   "display_name": "Python 3",
   "language": "python",
   "name": "python3"
  },
  "language_info": {
   "codemirror_mode": {
    "name": "ipython",
    "version": 3
   },
   "file_extension": ".py",
   "mimetype": "text/x-python",
   "name": "python",
   "nbconvert_exporter": "python",
   "pygments_lexer": "ipython3",
   "version": "3.6.3"
  }
 },
 "nbformat": 4,
 "nbformat_minor": 2
}
